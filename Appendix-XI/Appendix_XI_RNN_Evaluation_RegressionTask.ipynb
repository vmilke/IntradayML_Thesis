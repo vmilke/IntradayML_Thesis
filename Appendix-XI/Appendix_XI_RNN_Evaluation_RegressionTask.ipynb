{
 "cells": [
  {
   "cell_type": "markdown",
   "metadata": {},
   "source": [
    "# Appendix XII\n",
    "\n",
    "## Recurrent Neural Networks (GRU and LSTM)\n",
    "\n",
    "## Forex EURUSD Price Prediction using Keras \n",
    "## Tick Data with Dukastcopy\n",
    "## Data for 2020 year"
   ]
  },
  {
   "cell_type": "code",
   "execution_count": 1,
   "metadata": {},
   "outputs": [],
   "source": [
    "# TensorFlow and tf.keras\n",
    "\n",
    "import tensorflow as tf\n",
    "from tensorflow import keras\n",
    "\n",
    "import numpy as np                  \n",
    "import pandas as pd  \n",
    "\n",
    "import matplotlib.pyplot as plt\n",
    "%matplotlib inline "
   ]
  },
  {
   "cell_type": "code",
   "execution_count": 2,
   "metadata": {},
   "outputs": [
    {
     "name": "stdout",
     "output_type": "stream",
     "text": [
      "2.4.1\n"
     ]
    }
   ],
   "source": [
    "print(tf.__version__)"
   ]
  },
  {
   "cell_type": "markdown",
   "metadata": {},
   "source": [
    "### Data "
   ]
  },
  {
   "cell_type": "code",
   "execution_count": 3,
   "metadata": {},
   "outputs": [],
   "source": [
    "import numpy as np                  \n",
    "import pandas as pd  \n",
    "\n",
    "import matplotlib.pyplot as plt\n",
    "%matplotlib inline "
   ]
  },
  {
   "cell_type": "code",
   "execution_count": 4,
   "metadata": {
    "scrolled": true
   },
   "outputs": [
    {
     "name": "stdout",
     "output_type": "stream",
     "text": [
      "                Time (UTC)      Ask      Bid  AskVolume  BidVolume\n",
      "0  2020.03.10 17:18:51.089  1.13075  1.13070       0.94       1.20\n",
      "1  2020.03.10 17:18:51.646  1.13073  1.13071       0.75       0.37\n",
      "2  2020.03.10 17:18:51.697  1.13073  1.13069       0.75       0.56\n",
      "3  2020.03.10 17:18:51.798  1.13074  1.13070       0.94       1.12\n",
      "4  2020.03.10 17:18:51.899  1.13074  1.13071       0.19       1.12\n",
      "                     Time (UTC)      Ask      Bid  AskVolume  BidVolume\n",
      "999995  2020.03.16 08:35:01.232  1.12116  1.12107       1.46       0.94\n",
      "999996  2020.03.16 08:35:01.283  1.12111  1.12105       0.82       0.19\n",
      "999997  2020.03.16 08:35:01.334  1.12111  1.12103       0.15       1.00\n",
      "999998  2020.03.16 08:35:01.435  1.12110  1.12103       0.82       0.19\n",
      "999999  2020.03.16 08:35:01.537  1.12111  1.12104       0.45       0.19\n"
     ]
    }
   ],
   "source": [
    "data_2 = pd.read_csv('/Users/vital/Python_Code/_PhD_CodeData/2020/EURUSD_ticks_2020_tmt.csv', low_memory=False, sep=',')\n",
    "\n",
    "print(data_2.head(n=5))\n",
    "print(data_2[-5:]) "
   ]
  },
  {
   "cell_type": "code",
   "execution_count": 5,
   "metadata": {},
   "outputs": [
    {
     "name": "stdout",
     "output_type": "stream",
     "text": [
      "<class 'pandas.core.frame.DataFrame'>\n",
      "RangeIndex: 1000000 entries, 0 to 999999\n",
      "Data columns (total 5 columns):\n",
      " #   Column      Non-Null Count    Dtype  \n",
      "---  ------      --------------    -----  \n",
      " 0   Time (UTC)  1000000 non-null  object \n",
      " 1   Ask         1000000 non-null  float64\n",
      " 2   Bid         1000000 non-null  float64\n",
      " 3   AskVolume   1000000 non-null  float64\n",
      " 4   BidVolume   1000000 non-null  float64\n",
      "dtypes: float64(4), object(1)\n",
      "memory usage: 38.1+ MB\n"
     ]
    }
   ],
   "source": [
    "data_2.info()"
   ]
  },
  {
   "cell_type": "code",
   "execution_count": 6,
   "metadata": {},
   "outputs": [
    {
     "name": "stdout",
     "output_type": "stream",
     "text": [
      "Ask          float64\n",
      "Bid          float64\n",
      "AskVolume    float64\n",
      "BidVolume    float64\n",
      "dtype: object\n",
      "       Ask      Bid  AskVolume  BidVolume\n",
      "0  1.13075  1.13070       0.94       1.20\n",
      "1  1.13073  1.13071       0.75       0.37\n",
      "2  1.13073  1.13069       0.75       0.56\n",
      "            Ask      Bid  AskVolume  BidVolume\n",
      "999997  1.12111  1.12103       0.15       1.00\n",
      "999998  1.12110  1.12103       0.82       0.19\n",
      "999999  1.12111  1.12104       0.45       0.19\n"
     ]
    }
   ],
   "source": [
    "data_2 = data_2.drop(['Time (UTC)'], axis=1)\n",
    "\n",
    "print(data_2.dtypes)\n",
    "print(data_2.head(n=3)) \n",
    "print(data_2[-3:]) "
   ]
  },
  {
   "cell_type": "code",
   "execution_count": 7,
   "metadata": {},
   "outputs": [
    {
     "name": "stdout",
     "output_type": "stream",
     "text": [
      "<class 'pandas.core.frame.DataFrame'>\n",
      "RangeIndex: 1000000 entries, 0 to 999999\n",
      "Data columns (total 4 columns):\n",
      " #   Column     Non-Null Count    Dtype  \n",
      "---  ------     --------------    -----  \n",
      " 0   Ask        1000000 non-null  float64\n",
      " 1   Bid        1000000 non-null  float64\n",
      " 2   AskVolume  1000000 non-null  float64\n",
      " 3   BidVolume  1000000 non-null  float64\n",
      "dtypes: float64(4)\n",
      "memory usage: 30.5 MB\n"
     ]
    }
   ],
   "source": [
    "data_2.info()"
   ]
  },
  {
   "cell_type": "code",
   "execution_count": 8,
   "metadata": {},
   "outputs": [],
   "source": [
    "# create numpy"
   ]
  },
  {
   "cell_type": "code",
   "execution_count": 9,
   "metadata": {},
   "outputs": [
    {
     "name": "stdout",
     "output_type": "stream",
     "text": [
      "1000000 4\n"
     ]
    }
   ],
   "source": [
    "n = data_2.shape[0]    \n",
    "p = data_2.shape[1]    \n",
    "\n",
    "print(n, p)"
   ]
  },
  {
   "cell_type": "code",
   "execution_count": 10,
   "metadata": {},
   "outputs": [
    {
     "name": "stdout",
     "output_type": "stream",
     "text": [
      "data_a:\n",
      "[[1.13075 1.1307  0.94    1.2    ]\n",
      " [1.13073 1.13071 0.75    0.37   ]\n",
      " [1.13073 1.13069 0.75    0.56   ]\n",
      " [1.13074 1.1307  0.94    1.12   ]]\n",
      "\n",
      "\n",
      "[[1.12111 1.12105 0.82    0.19   ]\n",
      " [1.12111 1.12103 0.15    1.     ]\n",
      " [1.1211  1.12103 0.82    0.19   ]\n",
      " [1.12111 1.12104 0.45    0.19   ]]\n",
      "<class 'numpy.ndarray'> \n",
      " (1000000, 4)\n",
      "Example: data_a[1,0] =  1.13073\n"
     ]
    }
   ],
   "source": [
    "data_a = np.array(data_2[:n]) \n",
    "\n",
    "print(\"data_a:\")\n",
    "print(data_a[:4])  \n",
    "print('\\n')\n",
    "print(data_a[-4:]) \n",
    "\n",
    "\n",
    "print(type(data_a), '\\n',\n",
    "         data_a.shape)\n",
    "print('Example: data_a[1,0] = ', data_a[1,0])"
   ]
  },
  {
   "cell_type": "code",
   "execution_count": 11,
   "metadata": {},
   "outputs": [
    {
     "data": {
      "text/plain": [
       "4000000"
      ]
     },
     "execution_count": 11,
     "metadata": {},
     "output_type": "execute_result"
    }
   ],
   "source": [
    "data_a.size"
   ]
  },
  {
   "cell_type": "code",
   "execution_count": 12,
   "metadata": {},
   "outputs": [
    {
     "data": {
      "text/plain": [
       "[<matplotlib.lines.Line2D at 0x1a3f8459490>]"
      ]
     },
     "execution_count": 12,
     "metadata": {},
     "output_type": "execute_result"
    },
    {
     "data": {
      "image/png": "[encoded data removed]",
      "text/plain": [
       "<Figure size 432x288 with 1 Axes>"
      ]
     },
     "metadata": {
      "needs_background": "light"
     },
     "output_type": "display_data"
    }
   ],
   "source": [
    "ticks_Bid = data_a[:, 1]  # Bid\n",
    "ticks_Ask = data_a[:, 0]  # Ask\n",
    "plt.plot(range(len(ticks_Bid)),ticks_Bid)"
   ]
  },
  {
   "cell_type": "code",
   "execution_count": 13,
   "metadata": {},
   "outputs": [
    {
     "data": {
      "text/plain": [
       "[<matplotlib.lines.Line2D at 0x1a384491fa0>]"
      ]
     },
     "execution_count": 13,
     "metadata": {},
     "output_type": "execute_result"
    },
    {
     "data": {
      "image/png": "[encoded data removed]",
      "text/plain": [
       "<Figure size 432x288 with 1 Axes>"
      ]
     },
     "metadata": {
      "needs_background": "light"
     },
     "output_type": "display_data"
    }
   ],
   "source": [
    "# Bid - the first 2000 ticks\n",
    "\n",
    "plt.plot(range(2000), ticks_Bid[:2000])"
   ]
  },
  {
   "cell_type": "code",
   "execution_count": 14,
   "metadata": {},
   "outputs": [],
   "source": [
    "step     = 1   \n",
    "lookback = 200 # sliding window\n",
    "delay    = 1"
   ]
  },
  {
   "cell_type": "code",
   "execution_count": 15,
   "metadata": {},
   "outputs": [],
   "source": [
    "# Normalisation\n",
    "\n",
    "mean1 = data_a[:500000].mean(axis=0)\n",
    "data_a -= mean1\n",
    "std1 = data_a[:500000].std(axis=0)\n",
    "data_a /= std1"
   ]
  },
  {
   "cell_type": "code",
   "execution_count": 16,
   "metadata": {},
   "outputs": [],
   "source": [
    "# Generater\n",
    "\n",
    "def generator(data, \n",
    "              lookback, \n",
    "              delay, \n",
    "              min_index, \n",
    "              max_index, \n",
    "              shuffle=False, \n",
    "              batch_size=128, \n",
    "              step=6):\n",
    "    if max_index is None:\n",
    "        max_index = len(data) - delay - 1\n",
    "    i = min_index + lookback\n",
    "    while 1:\n",
    "        if shuffle:\n",
    "            rows = np.random.randint(\n",
    "                min_index + lookback, max_index, size=batch_size)\n",
    "        else:\n",
    "            if i + batch_size >= max_index:\n",
    "                i = min_index + lookback\n",
    "            rows = np.arange(i, min(i + batch_size, max_index))\n",
    "            i += len(rows)\n",
    "        samples = np.zeros((len(rows),\n",
    "                            lookback // step,\n",
    "                            data.shape[-1]))\n",
    "        targets = np.zeros((len(rows),))\n",
    "        for j, row in enumerate(rows):\n",
    "            indices = range(rows[j] - lookback, rows[j], step)\n",
    "            samples[j] = data[indices]\n",
    "            targets[j] = data[rows[j] + delay][1]\n",
    "        yield samples, targets"
   ]
  },
  {
   "cell_type": "code",
   "execution_count": 18,
   "metadata": {},
   "outputs": [],
   "source": [
    "\n",
    "batch_size = 80\n",
    "\n",
    "train_gen = generator(data_a,\n",
    "                      lookback = lookback,\n",
    "                      delay = delay,\n",
    "                      min_index = 0,\n",
    "                      max_index = 500000,\n",
    "                      shuffle = True,\n",
    "                      step = step,\n",
    "                      batch_size = batch_size)\n",
    "\n",
    "val_gen = generator(data_a,\n",
    "                      lookback = lookback,\n",
    "                      delay = delay,\n",
    "                      min_index = 500001,\n",
    "                      max_index = 800000,\n",
    "                      step = step,\n",
    "                      batch_size = batch_size)\n",
    "\n",
    "test_gen = generator(data_a,\n",
    "                      lookback = lookback,\n",
    "                      delay = delay,\n",
    "                      min_index = 800001,\n",
    "                      max_index = None,\n",
    "                      step = step,\n",
    "                      batch_size = batch_size)\n",
    "\n",
    "\n",
    "val_steps = (800000 - 500001 - lookback) // batch_size \n",
    "\n",
    "\n",
    "test_steps = (len(data_a) - 800001 - lookback) // batch_size "
   ]
  },
  {
   "cell_type": "code",
   "execution_count": null,
   "metadata": {},
   "outputs": [],
   "source": []
  },
  {
   "cell_type": "markdown",
   "metadata": {},
   "source": [
    "## Recurrent Neural Network-1\n",
    "### Gated Recurrent Unit (GRU)"
   ]
  },
  {
   "cell_type": "code",
   "execution_count": 77,
   "metadata": {},
   "outputs": [
    {
     "name": "stdout",
     "output_type": "stream",
     "text": [
      "Model: \"sequential_8\"\n",
      "_________________________________________________________________\n",
      "Layer (type)                 Output Shape              Param #   \n",
      "=================================================================\n",
      "gru_2 (GRU)                  (None, None, 32)          3648      \n",
      "_________________________________________________________________\n",
      "gru_3 (GRU)                  (None, 64)                18816     \n",
      "_________________________________________________________________\n",
      "dense_8 (Dense)              (None, 1)                 65        \n",
      "=================================================================\n",
      "Total params: 22,529\n",
      "Trainable params: 22,529\n",
      "Non-trainable params: 0\n",
      "_________________________________________________________________\n",
      "None\n"
     ]
    }
   ],
   "source": [
    "model = keras.Sequential([\n",
    "\n",
    "    keras.layers.GRU(32, dropout=0.1, recurrent_dropout=0.5, return_sequences=True, input_shape=(None, data_a.shape[-1])),\n",
    "    \n",
    "    keras.layers.GRU(64, activation=tf.nn.relu, dropout=0.1, recurrent_dropout=0.5),\n",
    "    \n",
    "    keras.layers.Dense(1)\n",
    "    \n",
    "])\n",
    "\n",
    "print(model.summary())"
   ]
  },
  {
   "cell_type": "code",
   "execution_count": 78,
   "metadata": {},
   "outputs": [],
   "source": [
    "model.compile(optimizer=keras.optimizers.RMSprop(), loss=\"mae\")  "
   ]
  },
  {
   "cell_type": "code",
   "execution_count": 79,
   "metadata": {},
   "outputs": [
    {
     "name": "stderr",
     "output_type": "stream",
     "text": [
      "C:\\Users\\vital\\anaconda3_\\lib\\site-packages\\tensorflow\\python\\keras\\engine\\training.py:1844: UserWarning: `Model.fit_generator` is deprecated and will be removed in a future version. Please use `Model.fit`, which supports generators.\n",
      "  warnings.warn('`Model.fit_generator` is deprecated and '\n"
     ]
    },
    {
     "name": "stdout",
     "output_type": "stream",
     "text": [
      "Epoch 1/20\n",
      "500/500 [==============================] - 17s 26ms/step - loss: 0.1306 - val_loss: 0.0336\n",
      "Epoch 2/20\n",
      "500/500 [==============================] - 12s 24ms/step - loss: 0.0628 - val_loss: 0.1715\n",
      "Epoch 3/20\n",
      "500/500 [==============================] - 12s 25ms/step - loss: 0.0496 - val_loss: 0.1878\n",
      "Epoch 4/20\n",
      "500/500 [==============================] - 13s 25ms/step - loss: 0.0448 - val_loss: 0.1881\n",
      "Epoch 5/20\n",
      "500/500 [==============================] - 13s 26ms/step - loss: 0.0418 - val_loss: 0.1866\n",
      "Epoch 6/20\n",
      "500/500 [==============================] - 13s 26ms/step - loss: 0.0400 - val_loss: 0.1875\n",
      "Epoch 7/20\n",
      "500/500 [==============================] - 13s 26ms/step - loss: 0.0383 - val_loss: 0.1452\n",
      "Epoch 8/20\n",
      "500/500 [==============================] - 13s 26ms/step - loss: 0.0377 - val_loss: 0.1289\n",
      "Epoch 9/20\n",
      "500/500 [==============================] - 13s 26ms/step - loss: 0.0372 - val_loss: 0.1575\n",
      "Epoch 10/20\n",
      "500/500 [==============================] - 12s 25ms/step - loss: 0.0360 - val_loss: 0.1114\n",
      "Epoch 11/20\n",
      "500/500 [==============================] - 12s 25ms/step - loss: 0.0358 - val_loss: 0.1803\n",
      "Epoch 12/20\n",
      "500/500 [==============================] - 13s 25ms/step - loss: 0.0348 - val_loss: 0.1067\n",
      "Epoch 13/20\n",
      "500/500 [==============================] - 13s 25ms/step - loss: 0.0347 - val_loss: 0.1066\n",
      "Epoch 14/20\n",
      "500/500 [==============================] - 12s 25ms/step - loss: 0.0340 - val_loss: 0.1391\n",
      "Epoch 15/20\n",
      "500/500 [==============================] - 12s 25ms/step - loss: 0.0337 - val_loss: 0.1603\n",
      "Epoch 16/20\n",
      "500/500 [==============================] - 13s 26ms/step - loss: 0.0338 - val_loss: 0.1623\n",
      "Epoch 17/20\n",
      "500/500 [==============================] - 14s 27ms/step - loss: 0.0333 - val_loss: 0.1981\n",
      "Epoch 18/20\n",
      "500/500 [==============================] - 13s 26ms/step - loss: 0.0329 - val_loss: 0.1559\n",
      "Epoch 19/20\n",
      "500/500 [==============================] - 12s 25ms/step - loss: 0.0325 - val_loss: 0.1517\n",
      "Epoch 20/20\n",
      "500/500 [==============================] - 13s 26ms/step - loss: 0.0321 - val_loss: 0.1574\n"
     ]
    }
   ],
   "source": [
    "history = model.fit_generator(train_gen, steps_per_epoch=500, epochs=20, validation_data=val_gen, validation_steps=val_steps)"
   ]
  },
  {
   "cell_type": "code",
   "execution_count": 80,
   "metadata": {},
   "outputs": [
    {
     "data": {
      "image/png": "[encoded data removed]",
      "text/plain": [
       "<Figure size 1080x576 with 1 Axes>"
      ]
     },
     "metadata": {},
     "output_type": "display_data"
    }
   ],
   "source": [
    "\n",
    "plt.style.use('seaborn-darkgrid') \n",
    "loss = history.history['loss']\n",
    "val_loss = history.history['val_loss']\n",
    "epochs = range(1, len(loss) +1)\n",
    "plt.figure(num=1, figsize=(15,8))\n",
    "\n",
    "#plt.figure()\n",
    "\n",
    "plt.plot(epochs, loss, 'bo', label='Training loss')\n",
    "plt.plot(epochs, val_loss, 'b', label='Validation loss')\n",
    "plt.title('Training and validation loss')\n",
    "plt.legend()\n",
    "\n",
    "plt.show()"
   ]
  },
  {
   "cell_type": "code",
   "execution_count": null,
   "metadata": {},
   "outputs": [],
   "source": []
  },
  {
   "cell_type": "markdown",
   "metadata": {},
   "source": [
    "## Recurrent Neural Network-2\n",
    "### LSTM"
   ]
  },
  {
   "cell_type": "code",
   "execution_count": 68,
   "metadata": {},
   "outputs": [
    {
     "name": "stdout",
     "output_type": "stream",
     "text": [
      "Model: \"sequential_6\"\n",
      "_________________________________________________________________\n",
      "Layer (type)                 Output Shape              Param #   \n",
      "=================================================================\n",
      "lstm_7 (LSTM)                (None, 32)                4736      \n",
      "_________________________________________________________________\n",
      "dense_6 (Dense)              (None, 1)                 33        \n",
      "=================================================================\n",
      "Total params: 4,769\n",
      "Trainable params: 4,769\n",
      "Non-trainable params: 0\n",
      "_________________________________________________________________\n",
      "None\n"
     ]
    }
   ],
   "source": [
    "\n",
    "model = keras.Sequential([\n",
    "\n",
    "    keras.layers.LSTM(32, input_shape=(None, data_a.shape[-1])),\n",
    "    \n",
    "    keras.layers.Dense(1)\n",
    "    \n",
    "])\n",
    "\n",
    "print(model.summary())\n"
   ]
  },
  {
   "cell_type": "code",
   "execution_count": 69,
   "metadata": {},
   "outputs": [],
   "source": [
    "model.compile(optimizer=keras.optimizers.RMSprop(), loss=\"mae\")  \n"
   ]
  },
  {
   "cell_type": "code",
   "execution_count": 70,
   "metadata": {},
   "outputs": [
    {
     "name": "stderr",
     "output_type": "stream",
     "text": [
      "C:\\Users\\vital\\anaconda3_\\lib\\site-packages\\tensorflow\\python\\keras\\engine\\training.py:1844: UserWarning: `Model.fit_generator` is deprecated and will be removed in a future version. Please use `Model.fit`, which supports generators.\n",
      "  warnings.warn('`Model.fit_generator` is deprecated and '\n"
     ]
    },
    {
     "name": "stdout",
     "output_type": "stream",
     "text": [
      "Epoch 1/10\n",
      "500/500 [==============================] - 10s 16ms/step - loss: 0.1180 - val_loss: 0.0464\n",
      "Epoch 2/10\n",
      "500/500 [==============================] - 7s 15ms/step - loss: 0.0303 - val_loss: 0.0238\n",
      "Epoch 3/10\n",
      "500/500 [==============================] - 7s 14ms/step - loss: 0.0280 - val_loss: 0.0262\n",
      "Epoch 4/10\n",
      "500/500 [==============================] - 7s 15ms/step - loss: 0.0268 - val_loss: 0.0491\n",
      "Epoch 5/10\n",
      "500/500 [==============================] - 7s 15ms/step - loss: 0.0255 - val_loss: 0.0221\n",
      "Epoch 6/10\n",
      "500/500 [==============================] - 7s 15ms/step - loss: 0.0244 - val_loss: 0.0269\n",
      "Epoch 7/10\n",
      "500/500 [==============================] - 7s 15ms/step - loss: 0.0240 - val_loss: 0.0269\n",
      "Epoch 8/10\n",
      "500/500 [==============================] - 7s 15ms/step - loss: 0.0238 - val_loss: 0.0322\n",
      "Epoch 9/10\n",
      "500/500 [==============================] - 7s 15ms/step - loss: 0.0234 - val_loss: 0.0208\n",
      "Epoch 10/10\n",
      "500/500 [==============================] - 7s 15ms/step - loss: 0.0235 - val_loss: 0.0209\n"
     ]
    }
   ],
   "source": [
    "history = model.fit_generator(train_gen, steps_per_epoch=500, epochs=10, validation_data=val_gen, validation_steps=val_steps)"
   ]
  },
  {
   "cell_type": "code",
   "execution_count": 71,
   "metadata": {},
   "outputs": [
    {
     "data": {
      "image/png": "[encoded data removed]",
      "text/plain": [
       "<Figure size 1080x576 with 1 Axes>"
      ]
     },
     "metadata": {},
     "output_type": "display_data"
    }
   ],
   "source": [
    "\n",
    "plt.style.use('seaborn-darkgrid') \n",
    "loss = history.history['loss']\n",
    "val_loss = history.history['val_loss']\n",
    "epochs = range(1, len(loss) +1)\n",
    "plt.figure(num=1, figsize=(15,8))\n",
    "\n",
    "\n",
    "plt.plot(epochs, loss, 'bo', label='Training loss')\n",
    "plt.plot(epochs, val_loss, 'b', label='Validation loss')\n",
    "plt.title('Training and validation loss')\n",
    "plt.legend()\n",
    "\n",
    "plt.show()"
   ]
  },
  {
   "cell_type": "code",
   "execution_count": null,
   "metadata": {},
   "outputs": [],
   "source": []
  }
 ],
 "metadata": {
  "kernelspec": {
   "display_name": "Python 3",
   "language": "python",
   "name": "python3"
  },
  "language_info": {
   "codemirror_mode": {
    "name": "ipython",
    "version": 3
   },
   "file_extension": ".py",
   "mimetype": "text/x-python",
   "name": "python",
   "nbconvert_exporter": "python",
   "pygments_lexer": "ipython3",
   "version": "3.8.5"
  }
 },
 "nbformat": 4,
 "nbformat_minor": 4
}
