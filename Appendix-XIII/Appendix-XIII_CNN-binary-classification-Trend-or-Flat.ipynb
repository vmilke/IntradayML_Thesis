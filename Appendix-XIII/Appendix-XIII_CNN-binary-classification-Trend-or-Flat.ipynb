{
 "cells": [
  {
   "cell_type": "markdown",
   "metadata": {
    "colab_type": "text",
    "id": "73aAh5RGZl6k"
   },
   "source": [
    "# Appendix XIII. \n",
    "\n",
    "## CNN binary classification on Trend or Flat\n",
    "## Probability prediction \n",
    "### Convolutional Neural Network\n",
    "\n",
    "## Forex EURUSD \n",
    "\n",
    "### Tick Data With Dukastcopy\n",
    "### Data for 2020 year\n"
   ]
  },
  {
   "cell_type": "markdown",
   "metadata": {
    "colab_type": "text",
    "id": "V-OmkCSmZl6o"
   },
   "source": [
    "#### We use ONE-DIMENSIONAL convolutional Neural network\n",
    "#### (Choosing the best version of training - a variable number of epochs - ModelCheckpoint Callback)"
   ]
  },
  {
   "cell_type": "markdown",
   "metadata": {
    "colab_type": "text",
    "id": "SeAjw6urZl6q"
   },
   "source": [
    "##### Normalisation of volumes - based on a maximum of 10 lots (the main number of lots). The interval (from 10 to 5000 lots) are equated to 10 lots (those to 1 after normalisation)\n",
    "##### We normalise the intervals between ticks - based on a maximum of 20,000 milliseconds (20 seconds) (the main number of intervals). The interval (from 20,000) are equated to 20,000 milliseconds (those to 1 after normalization)\n",
    "##### Broken into pieces of 200 ticks"
   ]
  },
  {
   "cell_type": "markdown",
   "metadata": {
    "colab_type": "text",
    "id": "yny6Sm-SZl6t"
   },
   "source": [
    "#### The GOAL: Prediction of the Vector of Probabilities\n",
    "#### We use a csv file with Dukastcopy and Keras which ALREADY normalised"
   ]
  },
  {
   "cell_type": "code",
   "execution_count": 1,
   "metadata": {},
   "outputs": [
    {
     "name": "stdout",
     "output_type": "stream",
     "text": [
      "WARNING:tensorflow:Please fix your imports. Module tensorflow.python.training.tracking.base has been moved to tensorflow.python.trackable.base. The old module will be deleted in version 2.11.\n",
      "WARNING:tensorflow:Please fix your imports. Module tensorflow.python.training.tracking.resource has been moved to tensorflow.python.trackable.resource. The old module will be deleted in version 2.11.\n",
      "WARNING:tensorflow:Please fix your imports. Module tensorflow.python.training.tracking.graph_view has been moved to tensorflow.python.checkpoint.graph_view. The old module will be deleted in version 2.11.\n",
      "WARNING:tensorflow:Please fix your imports. Module tensorflow.python.training.saving.functional_saver has been moved to tensorflow.python.checkpoint.functional_saver. The old module will be deleted in version 2.11.\n",
      "WARNING:tensorflow:Please fix your imports. Module tensorflow.python.training.saving.checkpoint_options has been moved to tensorflow.python.checkpoint.checkpoint_options. The old module will be deleted in version 2.11.\n"
     ]
    }
   ],
   "source": [
    "# TensorFlow and tf.keras\n",
    "\n",
    "import tensorflow as tf\n",
    "from tensorflow import keras\n",
    "\n",
    "import numpy as np                  \n",
    "import pandas as pd  \n",
    "\n",
    "import random\n",
    "\n",
    "import matplotlib.pyplot as plt\n",
    "%matplotlib inline "
   ]
  },
  {
   "cell_type": "code",
   "execution_count": 2,
   "metadata": {},
   "outputs": [
    {
     "name": "stdout",
     "output_type": "stream",
     "text": [
      "2.10.0-dev20220604\n"
     ]
    }
   ],
   "source": [
    "print(tf.__version__)"
   ]
  },
  {
   "cell_type": "code",
   "execution_count": 3,
   "metadata": {
    "colab": {},
    "colab_type": "code",
    "id": "IuV6nKvkZmDW"
   },
   "outputs": [],
   "source": [
    "# Progress bar\n",
    "from tqdm import tqdm"
   ]
  },
  {
   "cell_type": "code",
   "execution_count": null,
   "metadata": {},
   "outputs": [],
   "source": [
    "# COLABORATE\n",
    "!cat /proc/driver/nvidia/gpus/0000:00:04.0/information"
   ]
  },
  {
   "cell_type": "code",
   "execution_count": 4,
   "metadata": {
    "colab": {},
    "colab_type": "code",
    "id": "Uk1bY8emZl68"
   },
   "outputs": [],
   "source": [
    "# Set seed to repeat results for random number generator\n",
    "# tk we use stachostic optimization methods\n",
    "np.random.seed(42)"
   ]
  },
  {
   "cell_type": "markdown",
   "metadata": {
    "colab_type": "text",
    "id": "Z0Vayl6qZl7H"
   },
   "source": [
    "### Data "
   ]
  },
  {
   "cell_type": "code",
   "execution_count": null,
   "metadata": {},
   "outputs": [],
   "source": [
    "# COLABORATE\n",
    "from google.colab import files\n",
    "\n",
    "uploaded = files.upload()\n",
    "\n",
    "for fn in uploaded.keys():\n",
    "  print('User uploaded file \"{name}\" with length {length} bytes'.format(\n",
    "      name=fn, length=len(uploaded[fn])))"
   ]
  },
  {
   "cell_type": "code",
   "execution_count": null,
   "metadata": {},
   "outputs": [],
   "source": [
    "from google.colab import drive\n",
    "drive.mount('/content/grive', force_remount=True)"
   ]
  },
  {
   "cell_type": "code",
   "execution_count": null,
   "metadata": {},
   "outputs": [],
   "source": [
    "# COLABORATE\n",
    "!ls"
   ]
  },
  {
   "cell_type": "code",
   "execution_count": 5,
   "metadata": {
    "colab": {
     "base_uri": "https://localhost:8080/",
     "height": 230
    },
    "colab_type": "code",
    "executionInfo": {
     "elapsed": 1558,
     "status": "ok",
     "timestamp": 1546546953032,
     "user": {
      "displayName": "Vitaly M",
      "photoUrl": "",
      "userId": "13751974997538357991"
     },
     "user_tz": 0
    },
    "id": "rPAXuGHtZl7k",
    "outputId": "2d150112-3cf1-498b-9461-198879b4dd73"
   },
   "outputs": [
    {
     "name": "stdout",
     "output_type": "stream",
     "text": [
      "       Ask      Bid  Vol_Bid_N  Vol_Ask_N  DateDelta1_N  Goal  Point  Point1\n",
      "0  1.12160  1.12106      0.075    0.00937       0.00000     8      1       8\n",
      "1  1.12160  1.12120      0.075    0.00937       0.21775     8      0       0\n",
      "2  1.12160  1.12117      0.075    0.00937       0.06845     8      0       0\n",
      "3  1.12161  1.12123      0.075    0.08400       0.03000     8      0       0\n",
      "4  1.12161  1.12120      0.075    0.08400       0.00505     8      0       0\n",
      "              Ask      Bid  Vol_Bid_N  Vol_Ask_N  DateDelta1_N  Goal  Point  \\\n",
      "16586025  1.12337  1.12333      0.506      0.075       0.00505     8      0   \n",
      "16586026  1.12338  1.12333      0.394      0.157       0.00505     8      0   \n",
      "16586027  1.12337  1.12333      0.394      0.075       0.32845     8      0   \n",
      "16586028  1.12338  1.12333      0.394      0.202       0.22760     8      0   \n",
      "16586029  1.12338  1.12334      0.037      0.150       0.19405     8      0   \n",
      "\n",
      "          Point1  \n",
      "16586025       0  \n",
      "16586026       0  \n",
      "16586027       0  \n",
      "16586028       0  \n",
      "16586029       0  \n"
     ]
    }
   ],
   "source": [
    "data = pd.read_csv('/Users/vital/Python_Code/_PhD_Code/Experiment-2/Results3/EURO_data_raw_common_norm_.csv')\n",
    "\n",
    "print(data.head(n=5)) \n",
    "print(data[-5:]) "
   ]
  },
  {
   "cell_type": "code",
   "execution_count": 6,
   "metadata": {
    "colab": {
     "base_uri": "https://localhost:8080/",
     "height": 194
    },
    "colab_type": "code",
    "executionInfo": {
     "elapsed": 690,
     "status": "ok",
     "timestamp": 1546546956464,
     "user": {
      "displayName": "Vitaly M",
      "photoUrl": "",
      "userId": "13751974997538357991"
     },
     "user_tz": 0
    },
    "id": "gfeSe6ou7yaQ",
    "outputId": "26e06fb4-7902-428b-be7f-38d24ebfba2a"
   },
   "outputs": [
    {
     "name": "stdout",
     "output_type": "stream",
     "text": [
      "<class 'pandas.core.frame.DataFrame'>\n",
      "RangeIndex: 16586030 entries, 0 to 16586029\n",
      "Data columns (total 8 columns):\n",
      " #   Column        Dtype  \n",
      "---  ------        -----  \n",
      " 0   Ask           float64\n",
      " 1   Bid           float64\n",
      " 2   Vol_Bid_N     float64\n",
      " 3   Vol_Ask_N     float64\n",
      " 4   DateDelta1_N  float64\n",
      " 5   Goal          int64  \n",
      " 6   Point         int64  \n",
      " 7   Point1        int64  \n",
      "dtypes: float64(5), int64(3)\n",
      "memory usage: 1012.3 MB\n"
     ]
    }
   ],
   "source": [
    "data.info()"
   ]
  },
  {
   "cell_type": "code",
   "execution_count": 7,
   "metadata": {},
   "outputs": [
    {
     "name": "stdout",
     "output_type": "stream",
     "text": [
      "<class 'pandas.core.frame.DataFrame'>\n",
      "RangeIndex: 16586030 entries, 0 to 16586029\n",
      "Data columns (total 8 columns):\n",
      " #   Column        Dtype  \n",
      "---  ------        -----  \n",
      " 0   Ask           float32\n",
      " 1   Bid           float32\n",
      " 2   Vol_Bid_N     float32\n",
      " 3   Vol_Ask_N     float32\n",
      " 4   DateDelta1_N  float32\n",
      " 5   Goal          int8   \n",
      " 6   Point         int8   \n",
      " 7   Point1        int8   \n",
      "dtypes: float32(5), int8(3)\n",
      "memory usage: 363.8 MB\n"
     ]
    }
   ],
   "source": [
    "# downsising\n",
    "\n",
    "data['Ask']          =pd.to_numeric(data['Ask'],downcast='float')\n",
    "data['Bid']          =pd.to_numeric(data['Bid'],downcast='float')\n",
    "data['Vol_Bid_N']    =pd.to_numeric(data['Vol_Bid_N'],downcast='float')\n",
    "data['Vol_Ask_N']    =pd.to_numeric(data['Vol_Ask_N'],downcast='float')\n",
    "data['DateDelta1_N'] =pd.to_numeric(data['DateDelta1_N'],downcast='float')\n",
    "\n",
    "data['Goal']         = pd.to_numeric(data['Goal'],downcast='integer')\n",
    "data['Point']        = pd.to_numeric(data['Point'],downcast='integer')\n",
    "data['Point1']       = pd.to_numeric(data['Point1'],downcast='integer')\n",
    "\n",
    "data.info()"
   ]
  },
  {
   "cell_type": "code",
   "execution_count": 8,
   "metadata": {},
   "outputs": [
    {
     "data": {
      "text/plain": [
       "0    16533604\n",
       "1       52426\n",
       "Name: Point, dtype: int64"
      ]
     },
     "execution_count": 8,
     "metadata": {},
     "output_type": "execute_result"
    }
   ],
   "source": [
    "data['Point'].value_counts()"
   ]
  },
  {
   "cell_type": "code",
   "execution_count": 9,
   "metadata": {},
   "outputs": [
    {
     "data": {
      "text/plain": [
       "0    16533604\n",
       "1       52426\n",
       "Name: Point, dtype: int64"
      ]
     },
     "execution_count": 9,
     "metadata": {},
     "output_type": "execute_result"
    }
   ],
   "source": [
    "number1 = data['Point'].value_counts()\n",
    "number1 "
   ]
  },
  {
   "cell_type": "code",
   "execution_count": 10,
   "metadata": {},
   "outputs": [
    {
     "data": {
      "text/plain": [
       "52426"
      ]
     },
     "execution_count": 10,
     "metadata": {},
     "output_type": "execute_result"
    }
   ],
   "source": [
    "number1.iloc[1]"
   ]
  },
  {
   "cell_type": "code",
   "execution_count": 11,
   "metadata": {},
   "outputs": [
    {
     "data": {
      "text/plain": [
       "52426"
      ]
     },
     "execution_count": 11,
     "metadata": {},
     "output_type": "execute_result"
    }
   ],
   "source": [
    "# n_small - size of the numpy \n",
    "n_small = number1.iloc[1]\n",
    "n_small"
   ]
  },
  {
   "cell_type": "code",
   "execution_count": 12,
   "metadata": {},
   "outputs": [
    {
     "data": {
      "text/plain": [
       "numpy.int64"
      ]
     },
     "execution_count": 12,
     "metadata": {},
     "output_type": "execute_result"
    }
   ],
   "source": [
    "type(n_small)"
   ]
  },
  {
   "cell_type": "code",
   "execution_count": 13,
   "metadata": {},
   "outputs": [],
   "source": [
    "n_small = np.int32(n_small)"
   ]
  },
  {
   "cell_type": "code",
   "execution_count": 14,
   "metadata": {},
   "outputs": [
    {
     "data": {
      "text/plain": [
       "numpy.int32"
      ]
     },
     "execution_count": 14,
     "metadata": {},
     "output_type": "execute_result"
    }
   ],
   "source": [
    "type(n_small)"
   ]
  },
  {
   "cell_type": "code",
   "execution_count": 15,
   "metadata": {},
   "outputs": [
    {
     "data": {
      "text/plain": [
       "16586030"
      ]
     },
     "execution_count": 15,
     "metadata": {},
     "output_type": "execute_result"
    }
   ],
   "source": [
    "data.shape[0] "
   ]
  },
  {
   "cell_type": "code",
   "execution_count": 16,
   "metadata": {},
   "outputs": [
    {
     "data": {
      "text/plain": [
       "int"
      ]
     },
     "execution_count": 16,
     "metadata": {},
     "output_type": "execute_result"
    }
   ],
   "source": [
    "type(data.shape[0])"
   ]
  },
  {
   "cell_type": "code",
   "execution_count": 17,
   "metadata": {},
   "outputs": [
    {
     "data": {
      "text/plain": [
       "52426"
      ]
     },
     "execution_count": 17,
     "metadata": {},
     "output_type": "execute_result"
    }
   ],
   "source": [
    "n_small"
   ]
  },
  {
   "cell_type": "code",
   "execution_count": 18,
   "metadata": {},
   "outputs": [
    {
     "data": {
      "text/html": [
       "<div>\n",
       "<style scoped>\n",
       "    .dataframe tbody tr th:only-of-type {\n",
       "        vertical-align: middle;\n",
       "    }\n",
       "\n",
       "    .dataframe tbody tr th {\n",
       "        vertical-align: top;\n",
       "    }\n",
       "\n",
       "    .dataframe thead th {\n",
       "        text-align: right;\n",
       "    }\n",
       "</style>\n",
       "<table border=\"1\" class=\"dataframe\">\n",
       "  <thead>\n",
       "    <tr style=\"text-align: right;\">\n",
       "      <th></th>\n",
       "      <th>Ask</th>\n",
       "      <th>Bid</th>\n",
       "      <th>Vol_Bid_N</th>\n",
       "      <th>Vol_Ask_N</th>\n",
       "      <th>DateDelta1_N</th>\n",
       "      <th>Goal</th>\n",
       "      <th>Point</th>\n",
       "      <th>Point1</th>\n",
       "    </tr>\n",
       "  </thead>\n",
       "  <tbody>\n",
       "    <tr>\n",
       "      <th>0</th>\n",
       "      <td>1.12160</td>\n",
       "      <td>1.12106</td>\n",
       "      <td>0.075</td>\n",
       "      <td>0.00937</td>\n",
       "      <td>0.00000</td>\n",
       "      <td>8</td>\n",
       "      <td>1</td>\n",
       "      <td>8</td>\n",
       "    </tr>\n",
       "    <tr>\n",
       "      <th>1</th>\n",
       "      <td>1.12160</td>\n",
       "      <td>1.12120</td>\n",
       "      <td>0.075</td>\n",
       "      <td>0.00937</td>\n",
       "      <td>0.21775</td>\n",
       "      <td>8</td>\n",
       "      <td>0</td>\n",
       "      <td>0</td>\n",
       "    </tr>\n",
       "    <tr>\n",
       "      <th>2</th>\n",
       "      <td>1.12160</td>\n",
       "      <td>1.12117</td>\n",
       "      <td>0.075</td>\n",
       "      <td>0.00937</td>\n",
       "      <td>0.06845</td>\n",
       "      <td>8</td>\n",
       "      <td>0</td>\n",
       "      <td>0</td>\n",
       "    </tr>\n",
       "    <tr>\n",
       "      <th>3</th>\n",
       "      <td>1.12161</td>\n",
       "      <td>1.12123</td>\n",
       "      <td>0.075</td>\n",
       "      <td>0.08400</td>\n",
       "      <td>0.03000</td>\n",
       "      <td>8</td>\n",
       "      <td>0</td>\n",
       "      <td>0</td>\n",
       "    </tr>\n",
       "    <tr>\n",
       "      <th>4</th>\n",
       "      <td>1.12161</td>\n",
       "      <td>1.12120</td>\n",
       "      <td>0.075</td>\n",
       "      <td>0.08400</td>\n",
       "      <td>0.00505</td>\n",
       "      <td>8</td>\n",
       "      <td>0</td>\n",
       "      <td>0</td>\n",
       "    </tr>\n",
       "  </tbody>\n",
       "</table>\n",
       "</div>"
      ],
      "text/plain": [
       "       Ask      Bid  Vol_Bid_N  Vol_Ask_N  DateDelta1_N  Goal  Point  Point1\n",
       "0  1.12160  1.12106      0.075    0.00937       0.00000     8      1       8\n",
       "1  1.12160  1.12120      0.075    0.00937       0.21775     8      0       0\n",
       "2  1.12160  1.12117      0.075    0.00937       0.06845     8      0       0\n",
       "3  1.12161  1.12123      0.075    0.08400       0.03000     8      0       0\n",
       "4  1.12161  1.12120      0.075    0.08400       0.00505     8      0       0"
      ]
     },
     "execution_count": 18,
     "metadata": {},
     "output_type": "execute_result"
    }
   ],
   "source": [
    "data.head()"
   ]
  },
  {
   "cell_type": "code",
   "execution_count": null,
   "metadata": {},
   "outputs": [],
   "source": [
    "# The index of the first enter should be up than 200\n",
    "\n",
    "\n",
    "data['Point'].loc[0]  = 0\n",
    "data['Point1'].loc[0] = 0\n",
    "\n",
    "data.head()"
   ]
  },
  {
   "cell_type": "code",
   "execution_count": 20,
   "metadata": {},
   "outputs": [
    {
     "data": {
      "text/plain": [
       "0    16533605\n",
       "1       52425\n",
       "Name: Point, dtype: int64"
      ]
     },
     "execution_count": 20,
     "metadata": {},
     "output_type": "execute_result"
    }
   ],
   "source": [
    "# cheking data\n",
    "\n",
    "data['Point'].value_counts()"
   ]
  },
  {
   "cell_type": "code",
   "execution_count": 21,
   "metadata": {},
   "outputs": [
    {
     "name": "stderr",
     "output_type": "stream",
     "text": [
      "  0%|          | 76/16586030 [00:00<07:15, 38098.14it/s]"
     ]
    },
    {
     "name": "stdout",
     "output_type": "stream",
     "text": [
      "76\n"
     ]
    },
    {
     "name": "stderr",
     "output_type": "stream",
     "text": [
      "\n"
     ]
    }
   ],
   "source": [
    "# checking the first enter\n",
    "\n",
    "for i in tqdm(range(0,data.shape[0])):\n",
    "    if (data['Point'].iloc[i] == 1):\n",
    "        print(i)\n",
    "     #   print(data['Point'].index[i])\n",
    "        break\n",
    "    continue\n"
   ]
  },
  {
   "cell_type": "code",
   "execution_count": 22,
   "metadata": {},
   "outputs": [
    {
     "name": "stderr",
     "output_type": "stream",
     "text": [
      "  0%|          | 201/16586030 [00:00<02:48, 98430.25it/s]"
     ]
    },
    {
     "name": "stdout",
     "output_type": "stream",
     "text": [
      "76\n",
      "108\n",
      "109\n"
     ]
    },
    {
     "name": "stderr",
     "output_type": "stream",
     "text": [
      "\n"
     ]
    }
   ],
   "source": [
    "# Delete all indexes which are less than 200\n",
    "\n",
    "for i in tqdm(range(0,data.shape[0])):\n",
    "    if (i > 200):\n",
    "        break\n",
    "    else: \n",
    "        if (data['Point'].iloc[i] == 1):\n",
    "            print(i)\n",
    "         #   print(data['Point'].index[i])\n",
    "    continue"
   ]
  },
  {
   "cell_type": "code",
   "execution_count": 23,
   "metadata": {},
   "outputs": [
    {
     "name": "stdout",
     "output_type": "stream",
     "text": [
      "10 \n",
      "\n",
      "5 \n",
      "\n",
      "11\n"
     ]
    }
   ],
   "source": [
    "print(data['Point1'].iloc[76], '\\n')\n",
    "print(data['Point1'].iloc[108], '\\n')\n",
    "print(data['Point1'].iloc[109])"
   ]
  },
  {
   "cell_type": "code",
   "execution_count": null,
   "metadata": {},
   "outputs": [],
   "source": [
    "data['Point'].loc[76]  = 0\n",
    "data['Point1'].loc[76] = 0\n",
    "\n",
    "data['Point'].loc[108]  = 0\n",
    "data['Point1'].loc[108] = 0\n",
    "\n",
    "data['Point'].loc[109]  = 0\n",
    "data['Point1'].loc[109] = 0"
   ]
  },
  {
   "cell_type": "code",
   "execution_count": 25,
   "metadata": {},
   "outputs": [
    {
     "name": "stderr",
     "output_type": "stream",
     "text": [
      "  0%|          | 222/16586030 [00:00<02:56, 93883.39it/s]"
     ]
    },
    {
     "name": "stdout",
     "output_type": "stream",
     "text": [
      "222\n"
     ]
    },
    {
     "name": "stderr",
     "output_type": "stream",
     "text": [
      "\n"
     ]
    }
   ],
   "source": [
    "# double check\n",
    "\n",
    "for i in tqdm(range(0,data.shape[0])):\n",
    "    if (data['Point'].iloc[i] == 1):\n",
    "        print(i)\n",
    "        break\n",
    "    continue\n"
   ]
  },
  {
   "cell_type": "code",
   "execution_count": 26,
   "metadata": {},
   "outputs": [
    {
     "data": {
      "text/plain": [
       "0    16533608\n",
       "1       52422\n",
       "Name: Point, dtype: int64"
      ]
     },
     "execution_count": 26,
     "metadata": {},
     "output_type": "execute_result"
    }
   ],
   "source": [
    "number1 = data['Point'].value_counts()\n",
    "number1 "
   ]
  },
  {
   "cell_type": "code",
   "execution_count": 27,
   "metadata": {},
   "outputs": [
    {
     "data": {
      "text/plain": [
       "52422"
      ]
     },
     "execution_count": 27,
     "metadata": {},
     "output_type": "execute_result"
    }
   ],
   "source": [
    "n_small = number1.iloc[1]\n",
    "n_small = np.int32(n_small)\n",
    "n_small"
   ]
  },
  {
   "cell_type": "markdown",
   "metadata": {
    "colab_type": "text",
    "id": "dpv9B-_uZl8m"
   },
   "source": [
    "### Create numpy "
   ]
  },
  {
   "cell_type": "code",
   "execution_count": 28,
   "metadata": {},
   "outputs": [
    {
     "name": "stdout",
     "output_type": "stream",
     "text": [
      "<class 'pandas.core.frame.DataFrame'>\n",
      "RangeIndex: 16586030 entries, 0 to 16586029\n",
      "Data columns (total 7 columns):\n",
      " #   Column        Dtype  \n",
      "---  ------        -----  \n",
      " 0   Ask           float32\n",
      " 1   Bid           float32\n",
      " 2   Vol_Bid_N     float32\n",
      " 3   Vol_Ask_N     float32\n",
      " 4   DateDelta1_N  float32\n",
      " 5   Point         int8   \n",
      " 6   Point1        int8   \n",
      "dtypes: float32(5), int8(2)\n",
      "memory usage: 348.0 MB\n"
     ]
    }
   ],
   "source": [
    "# Delete 'Goal' column\n",
    "columns1 = ['Goal']\n",
    "data_for_array = data.drop(columns1, inplace=False, axis=1)\n",
    "\n",
    "data_for_array.info()"
   ]
  },
  {
   "cell_type": "code",
   "execution_count": 30,
   "metadata": {
    "colab": {},
    "colab_type": "code",
    "id": "KxxX5791Zl73"
   },
   "outputs": [],
   "source": [
    "# create a three-dimensional data tensor: [n_small, N, 5] and\n",
    "# one-dimensional array(vector) of answers [n_small, 1] with a value of the Probability vector for these planes,\n",
    "# where N is the number of ticks for analysis at each step (those are looking backward)"
   ]
  },
  {
   "cell_type": "code",
   "execution_count": 29,
   "metadata": {},
   "outputs": [
    {
     "name": "stdout",
     "output_type": "stream",
     "text": [
      "data_a:\n",
      "[[1.1216  1.12106 0.075   0.00937 0.      0.      0.     ]\n",
      " [1.1216  1.1212  0.075   0.00937 0.21775 0.      0.     ]\n",
      " [1.1216  1.12117 0.075   0.00937 0.06845 0.      0.     ]\n",
      " [1.12161 1.12123 0.075   0.084   0.03    0.      0.     ]]\n",
      "\n",
      "\n",
      "[[1.12338    1.12333    0.394      0.157      0.00505    0.\n",
      "  0.        ]\n",
      " [1.12337    1.12333    0.394      0.075      0.32845    0.\n",
      "  0.        ]\n",
      " [1.12338    1.12333    0.394      0.20199999 0.2276     0.\n",
      "  0.        ]\n",
      " [1.12338    1.12334    0.037      0.15       0.19405    0.\n",
      "  0.        ]]\n",
      "\n",
      " Row number for training:  n =  16586030 \n",
      " Column number:                  p =  7\n",
      " numpy type:               <class 'numpy.ndarray'> \n",
      " numpy size:               (16586030, 7)\n",
      "Example: data_a[1,0] =  1.1216\n"
     ]
    }
   ],
   "source": [
    "n = data_for_array.shape[0]    \n",
    "p = data_for_array.shape[1] \n",
    "\n",
    "\n",
    "data_a = np.array(data_for_array[:]) \n",
    "\n",
    "print(\"data_a:\")\n",
    "print(data_a[:4])  \n",
    "print('\\n')\n",
    "print(data_a[-4:]) \n",
    "\n",
    "print('\\n', \"Row number for training:  n = \", n, '\\n',\n",
    "      \"Column number:                  p = \", p)\n",
    "print(\" numpy type:              \", type(data_a), '\\n',\n",
    "      \n",
    "      \"numpy size:              \", data_a.shape)\n",
    "print('Example: data_a[1,0] = ', data_a[1,0])"
   ]
  },
  {
   "cell_type": "markdown",
   "metadata": {
    "colab_type": "text",
    "id": "N3SgE4R6Zl8z"
   },
   "source": [
    "#### we form the output matrix Y with the value of Probability vector\n",
    "#### and imputs matrix data_b"
   ]
  },
  {
   "cell_type": "code",
   "execution_count": 30,
   "metadata": {
    "colab": {
     "base_uri": "https://localhost:8080/",
     "height": 34
    },
    "colab_type": "code",
    "executionInfo": {
     "elapsed": 443,
     "status": "ok",
     "timestamp": 1546546971857,
     "user": {
      "displayName": "Vitaly M",
      "photoUrl": "",
      "userId": "13751974997538357991"
     },
     "user_tz": 0
    },
    "id": "DdIvPqxsZl81",
    "outputId": "ad9922fc-20f5-4925-b5b5-cf8a3b342116"
   },
   "outputs": [
    {
     "name": "stdout",
     "output_type": "stream",
     "text": [
      "Size of a three-dimensional data array for training:  52422 200 5\n"
     ]
    }
   ],
   "source": [
    "N = 200   # N - the depth of analysis at each step of the training (how many ticks we look back) - about 10 minutes\n",
    "\n",
    "# numpy size (L, N, 5)\n",
    "L = n_small\n",
    "print('Size of a three-dimensional data array for training: ', L, N, 5)"
   ]
  },
  {
   "cell_type": "code",
   "execution_count": 31,
   "metadata": {
    "colab": {
     "base_uri": "https://localhost:8080/",
     "height": 1225
    },
    "colab_type": "code",
    "executionInfo": {
     "elapsed": 3358,
     "status": "ok",
     "timestamp": 1546546978692,
     "user": {
      "displayName": "Vitaly M",
      "photoUrl": "",
      "userId": "13751974997538357991"
     },
     "user_tz": 0
    },
    "id": "UGSyHngaZl9A",
    "outputId": "81f841a9-f313-481c-b53a-88cf209c03e6"
   },
   "outputs": [
    {
     "name": "stdout",
     "output_type": "stream",
     "text": [
      "data_b: \n",
      " [[[0. 0. 0. 0. 0.]\n",
      "  [0. 0. 0. 0. 0.]\n",
      "  [0. 0. 0. 0. 0.]\n",
      "  ...\n",
      "  [0. 0. 0. 0. 0.]\n",
      "  [0. 0. 0. 0. 0.]\n",
      "  [0. 0. 0. 0. 0.]]\n",
      "\n",
      " [[0. 0. 0. 0. 0.]\n",
      "  [0. 0. 0. 0. 0.]\n",
      "  [0. 0. 0. 0. 0.]\n",
      "  ...\n",
      "  [0. 0. 0. 0. 0.]\n",
      "  [0. 0. 0. 0. 0.]\n",
      "  [0. 0. 0. 0. 0.]]\n",
      "\n",
      " [[0. 0. 0. 0. 0.]\n",
      "  [0. 0. 0. 0. 0.]\n",
      "  [0. 0. 0. 0. 0.]\n",
      "  ...\n",
      "  [0. 0. 0. 0. 0.]\n",
      "  [0. 0. 0. 0. 0.]\n",
      "  [0. 0. 0. 0. 0.]]\n",
      "\n",
      " ...\n",
      "\n",
      " [[0. 0. 0. 0. 0.]\n",
      "  [0. 0. 0. 0. 0.]\n",
      "  [0. 0. 0. 0. 0.]\n",
      "  ...\n",
      "  [0. 0. 0. 0. 0.]\n",
      "  [0. 0. 0. 0. 0.]\n",
      "  [0. 0. 0. 0. 0.]]\n",
      "\n",
      " [[0. 0. 0. 0. 0.]\n",
      "  [0. 0. 0. 0. 0.]\n",
      "  [0. 0. 0. 0. 0.]\n",
      "  ...\n",
      "  [0. 0. 0. 0. 0.]\n",
      "  [0. 0. 0. 0. 0.]\n",
      "  [0. 0. 0. 0. 0.]]\n",
      "\n",
      " [[0. 0. 0. 0. 0.]\n",
      "  [0. 0. 0. 0. 0.]\n",
      "  [0. 0. 0. 0. 0.]\n",
      "  ...\n",
      "  [0. 0. 0. 0. 0.]\n",
      "  [0. 0. 0. 0. 0.]\n",
      "  [0. 0. 0. 0. 0.]]]\n",
      "data_b shape: \n",
      " (52422, 200, 5)\n",
      "Y: \n",
      " [[0.]\n",
      " [0.]\n",
      " [0.]\n",
      " ...\n",
      " [0.]\n",
      " [0.]\n",
      " [0.]]\n",
      "Y shape: \n",
      " (52422, 1)\n"
     ]
    }
   ],
   "source": [
    "data_b = np.zeros( (L, N, 5), dtype= 'float32' ) \n",
    "\n",
    "print('data_b:', '\\n', data_b)\n",
    "print('data_b shape:', '\\n', data_b.shape)\n",
    "\n",
    "# create a one-dimensional vector of answers - Probability vector\n",
    "Y = np.zeros((L, 1), dtype= 'float32') # We predict valure of Probability vector\n",
    "                                      \n",
    "print('Y:', '\\n', Y)\n",
    "print('Y shape:', '\\n', Y.shape)\n"
   ]
  },
  {
   "cell_type": "code",
   "execution_count": 32,
   "metadata": {},
   "outputs": [
    {
     "name": "stdout",
     "output_type": "stream",
     "text": [
      "n =  16586030 \n",
      "\n",
      "n_small =  52422 \n",
      "\n",
      "N =  200 \n",
      "\n",
      "L =  52422 \n",
      "\n"
     ]
    }
   ],
   "source": [
    "print('n = ', n, '\\n')\n",
    "print('n_small = ', n_small, '\\n')\n",
    "print('N = ', N, '\\n')\n",
    "print('L = ', L, '\\n')"
   ]
  },
  {
   "cell_type": "code",
   "execution_count": 33,
   "metadata": {},
   "outputs": [
    {
     "name": "stderr",
     "output_type": "stream",
     "text": [
      "100%|██████████| 16586030/16586030 [00:29<00:00, 555968.60it/s]"
     ]
    },
    {
     "name": "stdout",
     "output_type": "stream",
     "text": [
      "16586029\n",
      "Счетчик плоскостей q=  52422 \n",
      "\n",
      "data_b: \n",
      " [[[1.12172    1.12125    0.15       0.056      0.15005   ]\n",
      "  [1.12172    1.12134    0.075      0.056      0.2372    ]\n",
      "  [1.12172    1.12135    0.075      0.056      0.00505   ]\n",
      "  ...\n",
      "  [1.12154    1.12151    0.075      0.075      1.        ]\n",
      "  [1.12169    1.12151    0.075      0.075      0.2472    ]\n",
      "  [1.12154    1.12151    0.075      0.075      0.0026    ]]\n",
      "\n",
      " [[1.12212    1.1221     0.075      0.15       0.0025    ]\n",
      "  [1.12212    1.12211    0.075      0.15       0.01015   ]\n",
      "  [1.12213    1.12211    0.075      0.15       0.0067    ]\n",
      "  ...\n",
      "  [1.12205    1.12199    0.075      0.075      0.00255   ]\n",
      "  [1.12201    1.12198    0.075      0.075      0.4355    ]\n",
      "  [1.12199    1.12197    0.082      0.075      0.0025    ]]\n",
      "\n",
      " [[1.12206    1.12203    0.382      0.075      0.0026    ]\n",
      "  [1.12208    1.12203    0.30699998 0.375      0.00255   ]\n",
      "  [1.12207    1.12203    0.232      0.262      0.1249    ]\n",
      "  ...\n",
      "  [1.12208    1.12206    0.075      0.15       0.00765   ]\n",
      "  [1.1221     1.12208    0.01       0.187      1.        ]\n",
      "  [1.12212    1.12209    0.157      0.281      0.0051    ]]\n",
      "\n",
      " ...\n",
      "\n",
      " [[1.12512    1.12508    0.412      0.15       0.0026    ]\n",
      "  [1.12511    1.12508    0.712      0.075      0.0051    ]\n",
      "  [1.12509    1.12508    0.15       0.075      0.06205   ]\n",
      "  ...\n",
      "  [1.125      1.12496    0.19500001 0.075      0.00515   ]\n",
      "  [1.125      1.12497    0.01       0.15       0.0223    ]\n",
      "  [1.125      1.12496    0.27       0.225      0.0115    ]]\n",
      "\n",
      " [[1.12301    1.12297    0.15       0.607      0.2692    ]\n",
      "  [1.12301    1.12296    0.412      0.71999997 0.1116    ]\n",
      "  [1.12301    1.12297    0.075      0.345      0.051     ]\n",
      "  ...\n",
      "  [1.12287    1.12283    0.225      0.892      0.02965   ]\n",
      "  [1.12286    1.12283    0.225      0.022      0.03155   ]\n",
      "  [1.12286    1.12284    0.075      0.06       0.0645    ]]\n",
      "\n",
      " [[1.12375    1.12373    0.075      0.019      0.01545   ]\n",
      "  [1.12376    1.12373    0.075      0.056      0.02615   ]\n",
      "  [1.12374    1.12373    0.097      0.026      0.1048    ]\n",
      "  ...\n",
      "  [1.12374    1.12372    0.21       0.075      0.0106    ]\n",
      "  [1.12373    1.12371    0.131      0.082      0.06035   ]\n",
      "  [1.12373    1.12372    0.075      0.082      0.16545   ]]]\n",
      "Numpy size:         (52422, 200, 5) \n",
      "\n",
      "[[ 6.]\n",
      " [10.]\n",
      " [10.]\n",
      " ...\n",
      " [ 4.]\n",
      " [ 7.]\n",
      " [ 9.]]\n",
      "Numpy size:          (52422, 1)\n"
     ]
    },
    {
     "name": "stderr",
     "output_type": "stream",
     "text": [
      "\n"
     ]
    }
   ],
   "source": [
    "# fill the array for training data_b and \n",
    "# the array of answers Y from the data_for_array\n",
    "\n",
    "q=0 \n",
    "\n",
    "for k in tqdm(range(n)):\n",
    "    if data_a[k,5] == 1:   \n",
    "                         \n",
    "        data_b[q, :, :] = data_a[k-N+1:k+1, 0:5]\n",
    "        \n",
    "        Y[q,0] = data_a[k,6]   # value of the Probability vector \n",
    "        q = q +1\n",
    "    else:\n",
    "        continue\n",
    "\n",
    "print(k) # end index value (for checking)\n",
    "\n",
    "print('Счетчик плоскостей q= ', q, '\\n')\n",
    "print('data_b:', '\\n', data_b)\n",
    "print(\"Numpy size:        \", data_b.shape, '\\n')\n",
    "\n",
    "print( Y[:,:])\n",
    "\n",
    "print(      \"Numpy size:         \", Y.shape)"
   ]
  },
  {
   "cell_type": "code",
   "execution_count": 36,
   "metadata": {},
   "outputs": [],
   "source": [
    "# double check"
   ]
  },
  {
   "cell_type": "code",
   "execution_count": 34,
   "metadata": {},
   "outputs": [
    {
     "data": {
      "text/plain": [
       "array([1.12373, 1.12372, 0.075  , 0.082  , 0.16545, 1.     , 9.     ],\n",
       "      dtype=float32)"
      ]
     },
     "execution_count": 34,
     "metadata": {},
     "output_type": "execute_result"
    }
   ],
   "source": [
    "np.set_printoptions(suppress=True) \n",
    "data_a[16580890,:]        "
   ]
  },
  {
   "cell_type": "code",
   "execution_count": 35,
   "metadata": {},
   "outputs": [
    {
     "data": {
      "text/plain": [
       "array([1.12373, 1.12372, 0.075  , 0.082  , 0.16545], dtype=float32)"
      ]
     },
     "execution_count": 35,
     "metadata": {},
     "output_type": "execute_result"
    }
   ],
   "source": [
    "data_b[n_small-1,N-1,:]"
   ]
  },
  {
   "cell_type": "code",
   "execution_count": 37,
   "metadata": {},
   "outputs": [],
   "source": [
    "# The upper two raws Should be the same"
   ]
  },
  {
   "cell_type": "code",
   "execution_count": null,
   "metadata": {},
   "outputs": [],
   "source": [
    "# index array\n",
    "for i in tqdm(range(n)):\n",
    "    if (data['Point'].iloc[i] == 1):\n",
    "        print(i)\n",
    "        continue\n",
    "\n",
    "    continue"
   ]
  },
  {
   "cell_type": "code",
   "execution_count": 36,
   "metadata": {},
   "outputs": [
    {
     "name": "stdout",
     "output_type": "stream",
     "text": [
      "z=  69\n",
      "[1.12371 1.12368 0.15    0.075   0.0051  0.      0.     ] \n",
      "\n",
      "[1.12371 1.12368 0.15    0.075   0.0051 ] \n",
      "\n"
     ]
    }
   ],
   "source": [
    "z = random.randint(0, 199)  \n",
    "\n",
    "print('z= ',z)\n",
    "\n",
    "\n",
    "print(data_a[16580890-z, :], '\\n')\n",
    "\n",
    "\n",
    "print(data_b[n_small-1, N-1-z, :], '\\n')"
   ]
  },
  {
   "cell_type": "code",
   "execution_count": 37,
   "metadata": {},
   "outputs": [
    {
     "name": "stdout",
     "output_type": "stream",
     "text": [
      "[1.12375 1.12373 0.075   0.01    0.00765 0.      0.     ] \n",
      "\n",
      "[1.12375 1.12373 0.075   0.01    0.00765] \n",
      "\n"
     ]
    }
   ],
   "source": [
    "print(data_a[16580886, :], '\\n')\n",
    "\n",
    "\n",
    "print(data_b[n_small-1, N-1-4, :], '\\n')  "
   ]
  },
  {
   "cell_type": "code",
   "execution_count": 38,
   "metadata": {},
   "outputs": [
    {
     "data": {
      "text/html": [
       "<div>\n",
       "<style scoped>\n",
       "    .dataframe tbody tr th:only-of-type {\n",
       "        vertical-align: middle;\n",
       "    }\n",
       "\n",
       "    .dataframe tbody tr th {\n",
       "        vertical-align: top;\n",
       "    }\n",
       "\n",
       "    .dataframe thead th {\n",
       "        text-align: right;\n",
       "    }\n",
       "</style>\n",
       "<table border=\"1\" class=\"dataframe\">\n",
       "  <thead>\n",
       "    <tr style=\"text-align: right;\">\n",
       "      <th></th>\n",
       "      <th>Ask</th>\n",
       "      <th>Bid</th>\n",
       "      <th>Vol_Bid_N</th>\n",
       "      <th>Vol_Ask_N</th>\n",
       "      <th>DateDelta1_N</th>\n",
       "      <th>Goal</th>\n",
       "      <th>Point</th>\n",
       "      <th>Point1</th>\n",
       "    </tr>\n",
       "  </thead>\n",
       "  <tbody>\n",
       "    <tr>\n",
       "      <th>16580886</th>\n",
       "      <td>1.12375</td>\n",
       "      <td>1.12373</td>\n",
       "      <td>0.075</td>\n",
       "      <td>0.010</td>\n",
       "      <td>0.00765</td>\n",
       "      <td>8</td>\n",
       "      <td>0</td>\n",
       "      <td>0</td>\n",
       "    </tr>\n",
       "    <tr>\n",
       "      <th>16580887</th>\n",
       "      <td>1.12376</td>\n",
       "      <td>1.12372</td>\n",
       "      <td>0.135</td>\n",
       "      <td>0.195</td>\n",
       "      <td>0.00500</td>\n",
       "      <td>8</td>\n",
       "      <td>0</td>\n",
       "      <td>0</td>\n",
       "    </tr>\n",
       "    <tr>\n",
       "      <th>16580888</th>\n",
       "      <td>1.12374</td>\n",
       "      <td>1.12372</td>\n",
       "      <td>0.210</td>\n",
       "      <td>0.075</td>\n",
       "      <td>0.01060</td>\n",
       "      <td>8</td>\n",
       "      <td>0</td>\n",
       "      <td>0</td>\n",
       "    </tr>\n",
       "    <tr>\n",
       "      <th>16580889</th>\n",
       "      <td>1.12373</td>\n",
       "      <td>1.12371</td>\n",
       "      <td>0.131</td>\n",
       "      <td>0.082</td>\n",
       "      <td>0.06035</td>\n",
       "      <td>8</td>\n",
       "      <td>0</td>\n",
       "      <td>0</td>\n",
       "    </tr>\n",
       "    <tr>\n",
       "      <th>16580890</th>\n",
       "      <td>1.12373</td>\n",
       "      <td>1.12372</td>\n",
       "      <td>0.075</td>\n",
       "      <td>0.082</td>\n",
       "      <td>0.16545</td>\n",
       "      <td>9</td>\n",
       "      <td>1</td>\n",
       "      <td>9</td>\n",
       "    </tr>\n",
       "    <tr>\n",
       "      <th>...</th>\n",
       "      <td>...</td>\n",
       "      <td>...</td>\n",
       "      <td>...</td>\n",
       "      <td>...</td>\n",
       "      <td>...</td>\n",
       "      <td>...</td>\n",
       "      <td>...</td>\n",
       "      <td>...</td>\n",
       "    </tr>\n",
       "    <tr>\n",
       "      <th>16586025</th>\n",
       "      <td>1.12337</td>\n",
       "      <td>1.12333</td>\n",
       "      <td>0.506</td>\n",
       "      <td>0.075</td>\n",
       "      <td>0.00505</td>\n",
       "      <td>8</td>\n",
       "      <td>0</td>\n",
       "      <td>0</td>\n",
       "    </tr>\n",
       "    <tr>\n",
       "      <th>16586026</th>\n",
       "      <td>1.12338</td>\n",
       "      <td>1.12333</td>\n",
       "      <td>0.394</td>\n",
       "      <td>0.157</td>\n",
       "      <td>0.00505</td>\n",
       "      <td>8</td>\n",
       "      <td>0</td>\n",
       "      <td>0</td>\n",
       "    </tr>\n",
       "    <tr>\n",
       "      <th>16586027</th>\n",
       "      <td>1.12337</td>\n",
       "      <td>1.12333</td>\n",
       "      <td>0.394</td>\n",
       "      <td>0.075</td>\n",
       "      <td>0.32845</td>\n",
       "      <td>8</td>\n",
       "      <td>0</td>\n",
       "      <td>0</td>\n",
       "    </tr>\n",
       "    <tr>\n",
       "      <th>16586028</th>\n",
       "      <td>1.12338</td>\n",
       "      <td>1.12333</td>\n",
       "      <td>0.394</td>\n",
       "      <td>0.202</td>\n",
       "      <td>0.22760</td>\n",
       "      <td>8</td>\n",
       "      <td>0</td>\n",
       "      <td>0</td>\n",
       "    </tr>\n",
       "    <tr>\n",
       "      <th>16586029</th>\n",
       "      <td>1.12338</td>\n",
       "      <td>1.12334</td>\n",
       "      <td>0.037</td>\n",
       "      <td>0.150</td>\n",
       "      <td>0.19405</td>\n",
       "      <td>8</td>\n",
       "      <td>0</td>\n",
       "      <td>0</td>\n",
       "    </tr>\n",
       "  </tbody>\n",
       "</table>\n",
       "<p>5144 rows × 8 columns</p>\n",
       "</div>"
      ],
      "text/plain": [
       "              Ask      Bid  Vol_Bid_N  Vol_Ask_N  DateDelta1_N  Goal  Point  \\\n",
       "16580886  1.12375  1.12373      0.075      0.010       0.00765     8      0   \n",
       "16580887  1.12376  1.12372      0.135      0.195       0.00500     8      0   \n",
       "16580888  1.12374  1.12372      0.210      0.075       0.01060     8      0   \n",
       "16580889  1.12373  1.12371      0.131      0.082       0.06035     8      0   \n",
       "16580890  1.12373  1.12372      0.075      0.082       0.16545     9      1   \n",
       "...           ...      ...        ...        ...           ...   ...    ...   \n",
       "16586025  1.12337  1.12333      0.506      0.075       0.00505     8      0   \n",
       "16586026  1.12338  1.12333      0.394      0.157       0.00505     8      0   \n",
       "16586027  1.12337  1.12333      0.394      0.075       0.32845     8      0   \n",
       "16586028  1.12338  1.12333      0.394      0.202       0.22760     8      0   \n",
       "16586029  1.12338  1.12334      0.037      0.150       0.19405     8      0   \n",
       "\n",
       "          Point1  \n",
       "16580886       0  \n",
       "16580887       0  \n",
       "16580888       0  \n",
       "16580889       0  \n",
       "16580890       9  \n",
       "...          ...  \n",
       "16586025       0  \n",
       "16586026       0  \n",
       "16586027       0  \n",
       "16586028       0  \n",
       "16586029       0  \n",
       "\n",
       "[5144 rows x 8 columns]"
      ]
     },
     "execution_count": 38,
     "metadata": {},
     "output_type": "execute_result"
    }
   ],
   "source": [
    "data.tail(-16580886)"
   ]
  },
  {
   "cell_type": "code",
   "execution_count": 39,
   "metadata": {
    "colab": {
     "base_uri": "https://localhost:8080/",
     "height": 123
    },
    "colab_type": "code",
    "executionInfo": {
     "elapsed": 6320,
     "status": "ok",
     "timestamp": 1546547018106,
     "user": {
      "displayName": "Vitaly M",
      "photoUrl": "",
      "userId": "13751974997538357991"
     },
     "user_tz": 0
    },
    "id": "rpRnnyrGZl-1",
    "outputId": "94603581-e674-40c4-bb47-2eb319deeff3"
   },
   "outputs": [
    {
     "name": "stdout",
     "output_type": "stream",
     "text": [
      "Vol_Bid_N \t 1.0 \t 0.0009999999\n",
      "Vol_Ask_N \t 1.0 \t 0.0009999999\n",
      "DateDelta1_N \t 1.0 \t 0.00245\n"
     ]
    }
   ],
   "source": [
    "# We print Min and Max of all normalised columns of signs - All should be in the range [0; 1]\n",
    "# Check that the matrices are normalised and there are no values> 1\n",
    "\n",
    "mmx  = data_b[:,:,2].max()\n",
    "mmn  = data_b[:,:,2].min()\n",
    "print('Vol_Bid_N', '\\t', mmx, '\\t', mmn)\n",
    "\n",
    "mmx  = data_b[:,:,3].max()\n",
    "mmn  = data_b[:,:,3].min()\n",
    "print('Vol_Ask_N', '\\t', mmx, '\\t', mmn)\n",
    "\n",
    "mmx  = data_b[:,:,4].max()\n",
    "mmn  = data_b[:,:,4].min()\n",
    "print('DateDelta1_N', '\\t', mmx, '\\t', mmn)\n",
    "\n"
   ]
  },
  {
   "cell_type": "code",
   "execution_count": 1,
   "metadata": {},
   "outputs": [],
   "source": [
    "# It's OK!"
   ]
  },
  {
   "cell_type": "code",
   "execution_count": 40,
   "metadata": {},
   "outputs": [
    {
     "data": {
      "text/plain": [
       "52422"
      ]
     },
     "execution_count": 40,
     "metadata": {},
     "output_type": "execute_result"
    }
   ],
   "source": [
    "L"
   ]
  },
  {
   "cell_type": "markdown",
   "metadata": {
    "colab_type": "text",
    "id": "enIZM8uxZl-8"
   },
   "source": [
    "### creation datasets for training and testing"
   ]
  },
  {
   "cell_type": "code",
   "execution_count": 41,
   "metadata": {
    "colab": {
     "base_uri": "https://localhost:8080/",
     "height": 34
    },
    "colab_type": "code",
    "executionInfo": {
     "elapsed": 443,
     "status": "ok",
     "timestamp": 1546547020118,
     "user": {
      "displayName": "Vitaly M",
      "photoUrl": "",
      "userId": "13751974997538357991"
     },
     "user_tz": 0
    },
    "id": "6ZnxvDxiZl-9",
    "outputId": "c2202183-263c-4b01-bf65-1edae6640548"
   },
   "outputs": [
    {
     "name": "stdout",
     "output_type": "stream",
     "text": [
      "52422 41937\n"
     ]
    }
   ],
   "source": [
    "# We allocate about 80% of the data (two-dimensional subarrays) for training and about 20% of \n",
    "# the data (two-dimensional subarrays) for testing\n",
    "# n = data_a.shape [0] # new number of lines\n",
    "train_start = 0\n",
    "train_end = int(np.floor(0.8*L))\n",
    "print(L, train_end)"
   ]
  },
  {
   "cell_type": "code",
   "execution_count": 42,
   "metadata": {
    "colab": {
     "base_uri": "https://localhost:8080/",
     "height": 34
    },
    "colab_type": "code",
    "executionInfo": {
     "elapsed": 442,
     "status": "ok",
     "timestamp": 1546547024611,
     "user": {
      "displayName": "Vitaly M",
      "photoUrl": "",
      "userId": "13751974997538357991"
     },
     "user_tz": 0
    },
    "id": "qHNapRpgZl_R",
    "outputId": "ad4a4069-94f1-49a4-e9d0-8d937452fce6"
   },
   "outputs": [
    {
     "name": "stdout",
     "output_type": "stream",
     "text": [
      "41938 52422\n"
     ]
    }
   ],
   "source": [
    "test_start = train_end + 1\n",
    "test_end = L\n",
    "print(test_start, test_end)"
   ]
  },
  {
   "cell_type": "code",
   "execution_count": 43,
   "metadata": {
    "colab": {
     "base_uri": "https://localhost:8080/",
     "height": 87
    },
    "colab_type": "code",
    "executionInfo": {
     "elapsed": 537,
     "status": "ok",
     "timestamp": 1546547026483,
     "user": {
      "displayName": "Vitaly M",
      "photoUrl": "",
      "userId": "13751974997538357991"
     },
     "user_tz": 0
    },
    "id": "aUXmxY2rZl_Y",
    "outputId": "4b9065d4-f9c8-4128-eea7-668c384127ee"
   },
   "outputs": [
    {
     "name": "stdout",
     "output_type": "stream",
     "text": [
      "numpy size:         (52422, 200, 5) \n",
      "\n"
     ]
    }
   ],
   "source": [
    "print(\"numpy size:        \", data_b.shape, '\\n')"
   ]
  },
  {
   "cell_type": "code",
   "execution_count": 44,
   "metadata": {
    "colab": {
     "base_uri": "https://localhost:8080/",
     "height": 34
    },
    "colab_type": "code",
    "executionInfo": {
     "elapsed": 656,
     "status": "ok",
     "timestamp": 1546547029996,
     "user": {
      "displayName": "Vitaly M",
      "photoUrl": "",
      "userId": "13751974997538357991"
     },
     "user_tz": 0
    },
    "id": "ZARQ0UWhZl_d",
    "outputId": "271034b7-9b18-46ab-e8f6-aee62b8d5e13"
   },
   "outputs": [
    {
     "name": "stdout",
     "output_type": "stream",
     "text": [
      "10485\n"
     ]
    }
   ],
   "source": [
    "print(test_end-train_end)   # dataset size for te для testing"
   ]
  },
  {
   "cell_type": "code",
   "execution_count": 45,
   "metadata": {
    "colab": {
     "base_uri": "https://localhost:8080/",
     "height": 212
    },
    "colab_type": "code",
    "executionInfo": {
     "elapsed": 6546,
     "status": "ok",
     "timestamp": 1546547039249,
     "user": {
      "displayName": "Vitaly M",
      "photoUrl": "",
      "userId": "13751974997538357991"
     },
     "user_tz": 0
    },
    "id": "AGCUioTcZl_l",
    "outputId": "25e82f82-4b4b-43d7-982e-2bed9323d3a2"
   },
   "outputs": [
    {
     "name": "stderr",
     "output_type": "stream",
     "text": [
      "100%|██████████| 52422/52422 [00:00<00:00, 457066.78it/s]"
     ]
    },
    {
     "name": "stdout",
     "output_type": "stream",
     "text": [
      " Train numpy size::         (41937, 200, 5) \n",
      "\n",
      "\n",
      "\n",
      " Test numpy size::         (10485, 200, 5) \n",
      "\n"
     ]
    },
    {
     "name": "stderr",
     "output_type": "stream",
     "text": [
      "\n"
     ]
    }
   ],
   "source": [
    "# form X_train and X_test\n",
    "# Divide data_b into two unequal parts: for training (X_train) and for test (X_test)\n",
    "\n",
    "X_train = np.zeros( ( train_end, N, 5) , dtype= 'float32')\n",
    "X_test  = np.zeros( ( test_end-train_end, N, 5) , dtype= 'float32')\n",
    "\n",
    "for zz in tqdm(range(test_end)):\n",
    "    if zz < train_end:\n",
    "        X_train[zz,:,:] = data_b[zz,:,:]\n",
    "    else:\n",
    "        X_test[zz-train_end,:,:]  = data_b[zz,:,:]    \n",
    "\n",
    "# print('X_train:', '\\n', X_test)\n",
    "print(\" Train numpy size::        \", X_train.shape, '\\n')\n",
    "print('\\n')\n",
    "\n",
    "# print('X_test:', '\\n', X_test)\n",
    "print(\" Test numpy size::        \", X_test.shape, '\\n')\n"
   ]
  },
  {
   "cell_type": "code",
   "execution_count": 46,
   "metadata": {
    "colab": {
     "base_uri": "https://localhost:8080/",
     "height": 372
    },
    "colab_type": "code",
    "executionInfo": {
     "elapsed": 446,
     "status": "ok",
     "timestamp": 1546547043585,
     "user": {
      "displayName": "Vitaly M",
      "photoUrl": "",
      "userId": "13751974997538357991"
     },
     "user_tz": 0
    },
    "id": "vjTJCKZzZl_q",
    "outputId": "739407a5-f355-40a3-e1de-d8b180a1cb41"
   },
   "outputs": [
    {
     "name": "stdout",
     "output_type": "stream",
     "text": [
      "[[1.12154 1.12151 0.075   0.075   0.0026 ]\n",
      " [1.12199 1.12197 0.082   0.075   0.0025 ]\n",
      " [1.12212 1.12209 0.157   0.281   0.0051 ]\n",
      " [1.12194 1.12191 0.075   0.075   0.03285]\n",
      " [1.12238 1.12236 0.094   0.075   0.005  ]] \n",
      "\n",
      "[[1.08625    1.08621    0.45       0.62600005 0.1378    ]\n",
      " [1.08623    1.08621    0.075      0.075      0.18385   ]\n",
      " [1.08614    1.08612    0.019      0.15       0.01565   ]\n",
      " [1.08614    1.08612    0.019      0.525      0.0026    ]\n",
      " [1.0861     1.08607    0.01       0.15       0.01905   ]] \n",
      "\n",
      "[[1.08609 1.08607 0.375   0.075   0.25215]\n",
      " [1.08573 1.0857  0.3     0.026   0.0051 ]\n",
      " [1.08572 1.0857  0.3     0.019   0.00505]\n",
      " [1.08559 1.08556 0.075   0.326   0.0544 ]\n",
      " [1.08539 1.08536 0.319   0.075   0.00505]] \n",
      "\n",
      "[[1.125   1.12497 0.01    0.075   0.03065]\n",
      " [1.125   1.12497 0.01    0.15    0.0223 ]\n",
      " [1.125   1.12496 0.27    0.225   0.0115 ]\n",
      " [1.12286 1.12284 0.075   0.06    0.0645 ]\n",
      " [1.12373 1.12372 0.075   0.082   0.16545]]\n"
     ]
    }
   ],
   "source": [
    "# Visual checking the correctness of filling\n",
    "print(X_train[:5,N-1,:], '\\n')\n",
    "print(X_train[-5:,N-1,:], '\\n')\n",
    "print(X_test[:5,N-1,:], '\\n')\n",
    "print(X_test[-5:,N-1,:])"
   ]
  },
  {
   "cell_type": "markdown",
   "metadata": {
    "colab_type": "text",
    "id": "PamRqcffZl_v"
   },
   "source": [
    "#### Creation an answer matrix for the training (y_train) and test (y_test) parts"
   ]
  },
  {
   "cell_type": "code",
   "execution_count": 47,
   "metadata": {},
   "outputs": [
    {
     "name": "stderr",
     "output_type": "stream",
     "text": [
      "100%|██████████| 52422/52422 [00:00<00:00, 1091017.28it/s]"
     ]
    },
    {
     "name": "stdout",
     "output_type": "stream",
     "text": [
      " Outputs train numpy size::         (41937, 1) \n",
      "\n",
      "\n",
      "\n",
      " Outputs test numpy size::         (10485, 1) \n",
      "\n"
     ]
    },
    {
     "name": "stderr",
     "output_type": "stream",
     "text": [
      "\n"
     ]
    }
   ],
   "source": [
    "# form y_train and y_test\n",
    "# Divide Y into two unequal parts: for training (y_train) and for test (y_test)\n",
    "\n",
    "y_train = np.zeros( ( train_end, 1) , dtype= 'float32')\n",
    "y_test  = np.zeros( ( test_end-train_end, 1) , dtype= 'float32')\n",
    "\n",
    "for zz in tqdm(range(test_end)):\n",
    "    if zz < train_end:\n",
    "        y_train[zz,0] = Y[zz,0]\n",
    "    else:\n",
    "        y_test[zz-train_end,0]  = Y[zz,0]    \n",
    "        \n",
    "# print('y_train:', '\\n', y_test)\n",
    "print(\" Outputs train numpy size::        \", y_train.shape, '\\n')\n",
    "print('\\n')\n",
    "\n",
    "# print('X_test:', '\\n', X_test)\n",
    "print(\" Outputs test numpy size::        \", y_test.shape, '\\n')\n"
   ]
  },
  {
   "cell_type": "code",
   "execution_count": 48,
   "metadata": {},
   "outputs": [
    {
     "name": "stdout",
     "output_type": "stream",
     "text": [
      "[ 6. 10. 10. 10.  4.] \n",
      "\n",
      "[4. 4. 4. 4. 4.] \n",
      "\n",
      "[4. 3. 3. 3. 4.] \n",
      "\n",
      "[4. 4. 4. 7. 9.]\n",
      " Outputs train numpy size:          (41937, 1) \n",
      "\n",
      " Outputs test numpy size:           (10485, 1) \n",
      "\n"
     ]
    }
   ],
   "source": [
    "# Visual checking the correctness of filling\n",
    "\n",
    "print(y_train[:5,0], '\\n')\n",
    "print(y_train[-5:,0], '\\n')\n",
    "print(y_test[:5,0], '\\n')\n",
    "print(y_test[-5:,0])\n",
    "\n",
    "print(\" Outputs train numpy size:         \", y_train.shape ,'\\n')\n",
    "print(\" Outputs test numpy size:          \", y_test.shape ,'\\n')"
   ]
  },
  {
   "cell_type": "code",
   "execution_count": 49,
   "metadata": {},
   "outputs": [
    {
     "data": {
      "text/html": [
       "<div>\n",
       "<style scoped>\n",
       "    .dataframe tbody tr th:only-of-type {\n",
       "        vertical-align: middle;\n",
       "    }\n",
       "\n",
       "    .dataframe tbody tr th {\n",
       "        vertical-align: top;\n",
       "    }\n",
       "\n",
       "    .dataframe thead th {\n",
       "        text-align: right;\n",
       "    }\n",
       "</style>\n",
       "<table border=\"1\" class=\"dataframe\">\n",
       "  <thead>\n",
       "    <tr style=\"text-align: right;\">\n",
       "      <th></th>\n",
       "      <th>Ask</th>\n",
       "      <th>Bid</th>\n",
       "      <th>Vol_Bid_N</th>\n",
       "      <th>Vol_Ask_N</th>\n",
       "      <th>DateDelta1_N</th>\n",
       "      <th>Goal</th>\n",
       "      <th>Point</th>\n",
       "      <th>Point1</th>\n",
       "    </tr>\n",
       "  </thead>\n",
       "  <tbody>\n",
       "    <tr>\n",
       "      <th>222</th>\n",
       "      <td>1.12154</td>\n",
       "      <td>1.12151</td>\n",
       "      <td>0.075</td>\n",
       "      <td>0.075</td>\n",
       "      <td>0.00260</td>\n",
       "      <td>6</td>\n",
       "      <td>1</td>\n",
       "      <td>6</td>\n",
       "    </tr>\n",
       "    <tr>\n",
       "      <th>2078</th>\n",
       "      <td>1.12199</td>\n",
       "      <td>1.12197</td>\n",
       "      <td>0.082</td>\n",
       "      <td>0.075</td>\n",
       "      <td>0.00250</td>\n",
       "      <td>10</td>\n",
       "      <td>1</td>\n",
       "      <td>10</td>\n",
       "    </tr>\n",
       "    <tr>\n",
       "      <th>4469</th>\n",
       "      <td>1.12212</td>\n",
       "      <td>1.12209</td>\n",
       "      <td>0.157</td>\n",
       "      <td>0.281</td>\n",
       "      <td>0.00510</td>\n",
       "      <td>10</td>\n",
       "      <td>1</td>\n",
       "      <td>10</td>\n",
       "    </tr>\n",
       "    <tr>\n",
       "      <th>6894</th>\n",
       "      <td>1.12194</td>\n",
       "      <td>1.12191</td>\n",
       "      <td>0.075</td>\n",
       "      <td>0.075</td>\n",
       "      <td>0.03285</td>\n",
       "      <td>10</td>\n",
       "      <td>1</td>\n",
       "      <td>10</td>\n",
       "    </tr>\n",
       "    <tr>\n",
       "      <th>7652</th>\n",
       "      <td>1.12238</td>\n",
       "      <td>1.12236</td>\n",
       "      <td>0.094</td>\n",
       "      <td>0.075</td>\n",
       "      <td>0.00500</td>\n",
       "      <td>4</td>\n",
       "      <td>1</td>\n",
       "      <td>4</td>\n",
       "    </tr>\n",
       "    <tr>\n",
       "      <th>...</th>\n",
       "      <td>...</td>\n",
       "      <td>...</td>\n",
       "      <td>...</td>\n",
       "      <td>...</td>\n",
       "      <td>...</td>\n",
       "      <td>...</td>\n",
       "      <td>...</td>\n",
       "      <td>...</td>\n",
       "    </tr>\n",
       "    <tr>\n",
       "      <th>16570479</th>\n",
       "      <td>1.12500</td>\n",
       "      <td>1.12497</td>\n",
       "      <td>0.010</td>\n",
       "      <td>0.075</td>\n",
       "      <td>0.03065</td>\n",
       "      <td>4</td>\n",
       "      <td>1</td>\n",
       "      <td>4</td>\n",
       "    </tr>\n",
       "    <tr>\n",
       "      <th>16570481</th>\n",
       "      <td>1.12500</td>\n",
       "      <td>1.12497</td>\n",
       "      <td>0.010</td>\n",
       "      <td>0.150</td>\n",
       "      <td>0.02230</td>\n",
       "      <td>4</td>\n",
       "      <td>1</td>\n",
       "      <td>4</td>\n",
       "    </tr>\n",
       "    <tr>\n",
       "      <th>16570482</th>\n",
       "      <td>1.12500</td>\n",
       "      <td>1.12496</td>\n",
       "      <td>0.270</td>\n",
       "      <td>0.225</td>\n",
       "      <td>0.01150</td>\n",
       "      <td>4</td>\n",
       "      <td>1</td>\n",
       "      <td>4</td>\n",
       "    </tr>\n",
       "    <tr>\n",
       "      <th>16579159</th>\n",
       "      <td>1.12286</td>\n",
       "      <td>1.12284</td>\n",
       "      <td>0.075</td>\n",
       "      <td>0.060</td>\n",
       "      <td>0.06450</td>\n",
       "      <td>7</td>\n",
       "      <td>1</td>\n",
       "      <td>7</td>\n",
       "    </tr>\n",
       "    <tr>\n",
       "      <th>16580890</th>\n",
       "      <td>1.12373</td>\n",
       "      <td>1.12372</td>\n",
       "      <td>0.075</td>\n",
       "      <td>0.082</td>\n",
       "      <td>0.16545</td>\n",
       "      <td>9</td>\n",
       "      <td>1</td>\n",
       "      <td>9</td>\n",
       "    </tr>\n",
       "  </tbody>\n",
       "</table>\n",
       "<p>52422 rows × 8 columns</p>\n",
       "</div>"
      ],
      "text/plain": [
       "              Ask      Bid  Vol_Bid_N  Vol_Ask_N  DateDelta1_N  Goal  Point  \\\n",
       "222       1.12154  1.12151      0.075      0.075       0.00260     6      1   \n",
       "2078      1.12199  1.12197      0.082      0.075       0.00250    10      1   \n",
       "4469      1.12212  1.12209      0.157      0.281       0.00510    10      1   \n",
       "6894      1.12194  1.12191      0.075      0.075       0.03285    10      1   \n",
       "7652      1.12238  1.12236      0.094      0.075       0.00500     4      1   \n",
       "...           ...      ...        ...        ...           ...   ...    ...   \n",
       "16570479  1.12500  1.12497      0.010      0.075       0.03065     4      1   \n",
       "16570481  1.12500  1.12497      0.010      0.150       0.02230     4      1   \n",
       "16570482  1.12500  1.12496      0.270      0.225       0.01150     4      1   \n",
       "16579159  1.12286  1.12284      0.075      0.060       0.06450     7      1   \n",
       "16580890  1.12373  1.12372      0.075      0.082       0.16545     9      1   \n",
       "\n",
       "          Point1  \n",
       "222            6  \n",
       "2078          10  \n",
       "4469          10  \n",
       "6894          10  \n",
       "7652           4  \n",
       "...          ...  \n",
       "16570479       4  \n",
       "16570481       4  \n",
       "16570482       4  \n",
       "16579159       7  \n",
       "16580890       9  \n",
       "\n",
       "[52422 rows x 8 columns]"
      ]
     },
     "execution_count": 49,
     "metadata": {},
     "output_type": "execute_result"
    }
   ],
   "source": [
    "data[data['Point'] == 1 ]"
   ]
  },
  {
   "cell_type": "markdown",
   "metadata": {
    "colab": {},
    "colab_type": "code",
    "id": "eBxHXRXYZl__"
   },
   "source": [
    "#### Final size control"
   ]
  },
  {
   "cell_type": "code",
   "execution_count": 50,
   "metadata": {
    "colab": {
     "base_uri": "https://localhost:8080/",
     "height": 247
    },
    "colab_type": "code",
    "executionInfo": {
     "elapsed": 455,
     "status": "ok",
     "timestamp": 1546547051902,
     "user": {
      "displayName": "Vitaly M",
      "photoUrl": "",
      "userId": "13751974997538357991"
     },
     "user_tz": 0
    },
    "id": "JAT9sY0YZl_4",
    "outputId": "27b0bae4-f4d2-4ba4-9644-d542c028813e"
   },
   "outputs": [
    {
     "name": "stdout",
     "output_type": "stream",
     "text": [
      "Data for training:\n",
      "X_train:\n",
      "Type:  float32 <class 'numpy.ndarray'> ; Size:  (41937, 200, 5)\n",
      "\n",
      " y_train:\n",
      "Type:  float32 <class 'numpy.ndarray'> ; Size:  (41937, 1)\n",
      "Data for testing:\n",
      "\n",
      " X_test:\n",
      "Type:  float32 <class 'numpy.ndarray'> ; Size:  (10485, 200, 5)\n",
      "\n",
      " y_test:\n",
      "Type:  float32 <class 'numpy.ndarray'> ; Size:  (10485, 1)\n"
     ]
    }
   ],
   "source": [
    "# print X_train, y_train, X_test и y_test\n",
    "\n",
    "print('Data for training:')\n",
    "print(\"X_train:\")\n",
    "print(\"Type: \", X_train.dtype,  type(X_train), \"; Size: \", X_train.shape)\n",
    "\n",
    "print(\"\\n\",\"y_train:\")\n",
    "print(\"Type: \", y_train.dtype,  type(y_train), \"; Size: \", y_train.shape)\n",
    "\n",
    "print('Data for testing:')\n",
    "print(\"\\n\",\"X_test:\")\n",
    "print(\"Type: \", X_test.dtype, type(X_test), \"; Size: \", X_test.shape)\n",
    "\n",
    "print(\"\\n\",\"y_test:\")\n",
    "print(\"Type: \", y_test.dtype,  type(y_test), \"; Size: \", y_test.shape)"
   ]
  },
  {
   "cell_type": "markdown",
   "metadata": {},
   "source": [
    "#### Creation of the Probability vector for train and test sets"
   ]
  },
  {
   "cell_type": "code",
   "execution_count": 51,
   "metadata": {},
   "outputs": [
    {
     "name": "stdout",
     "output_type": "stream",
     "text": [
      "<class 'pandas.core.frame.DataFrame'>\n",
      "Int64Index: 52422 entries, 222 to 16580890\n",
      "Data columns (total 7 columns):\n",
      " #   Column        Non-Null Count  Dtype  \n",
      "---  ------        --------------  -----  \n",
      " 0   Ask           52422 non-null  float32\n",
      " 1   Bid           52422 non-null  float32\n",
      " 2   Vol_Bid_N     52422 non-null  float32\n",
      " 3   Vol_Ask_N     52422 non-null  float32\n",
      " 4   DateDelta1_N  52422 non-null  float32\n",
      " 5   Point         52422 non-null  int8   \n",
      " 6   Point1        52422 non-null  int8   \n",
      "dtypes: float32(5), int8(2)\n",
      "memory usage: 1.5 MB\n"
     ]
    }
   ],
   "source": [
    "data_for_array_short = data_for_array[data_for_array['Point'] == 1]\n",
    "\n",
    "data_for_array_short.info()"
   ]
  },
  {
   "cell_type": "code",
   "execution_count": 52,
   "metadata": {},
   "outputs": [
    {
     "name": "stdout",
     "output_type": "stream",
     "text": [
      "array_short_train.dtypes Ask             float32\n",
      "Bid             float32\n",
      "Vol_Bid_N       float32\n",
      "Vol_Ask_N       float32\n",
      "DateDelta1_N    float32\n",
      "Point              int8\n",
      "Point1             int8\n",
      "dtype: object\n",
      "<class 'pandas.core.frame.DataFrame'>\n",
      "Int64Index: 41938 entries, 222 to 11341974\n",
      "Data columns (total 7 columns):\n",
      " #   Column        Non-Null Count  Dtype  \n",
      "---  ------        --------------  -----  \n",
      " 0   Ask           41938 non-null  float32\n",
      " 1   Bid           41938 non-null  float32\n",
      " 2   Vol_Bid_N     41938 non-null  float32\n",
      " 3   Vol_Ask_N     41938 non-null  float32\n",
      " 4   DateDelta1_N  41938 non-null  float32\n",
      " 5   Point         41938 non-null  int8   \n",
      " 6   Point1        41938 non-null  int8   \n",
      "dtypes: float32(5), int8(2)\n",
      "memory usage: 1.2 MB\n"
     ]
    }
   ],
   "source": [
    "indexes_to_keep = set(np.array(range(0,train_end+1)))\n",
    "\n",
    "data_for_array_short_train  = data_for_array_short.take(list(indexes_to_keep))\n",
    "\n",
    "print('array_short_train.dtypes', data_for_array_short_train.dtypes)\n",
    "\n",
    "data_for_array_short_train.info()"
   ]
  },
  {
   "cell_type": "code",
   "execution_count": 53,
   "metadata": {},
   "outputs": [
    {
     "name": "stdout",
     "output_type": "stream",
     "text": [
      "array_short_test.dtypes Ask             float32\n",
      "Bid             float32\n",
      "Vol_Bid_N       float32\n",
      "Vol_Ask_N       float32\n",
      "DateDelta1_N    float32\n",
      "Point              int8\n",
      "Point1             int8\n",
      "dtype: object\n",
      "<class 'pandas.core.frame.DataFrame'>\n",
      "Int64Index: 10484 entries, 11350534 to 16580890\n",
      "Data columns (total 7 columns):\n",
      " #   Column        Non-Null Count  Dtype  \n",
      "---  ------        --------------  -----  \n",
      " 0   Ask           10484 non-null  float32\n",
      " 1   Bid           10484 non-null  float32\n",
      " 2   Vol_Bid_N     10484 non-null  float32\n",
      " 3   Vol_Ask_N     10484 non-null  float32\n",
      " 4   DateDelta1_N  10484 non-null  float32\n",
      " 5   Point         10484 non-null  int8   \n",
      " 6   Point1        10484 non-null  int8   \n",
      "dtypes: float32(5), int8(2)\n",
      "memory usage: 307.1 KB\n"
     ]
    }
   ],
   "source": [
    "indexes_to_keep = set(np.array(range(test_start,L)))\n",
    "\n",
    "data_for_array_short_test  = data_for_array_short.take(list(indexes_to_keep))\n",
    "\n",
    "print('array_short_test.dtypes', data_for_array_short_test.dtypes)\n",
    "\n",
    "data_for_array_short_test.info()"
   ]
  },
  {
   "cell_type": "code",
   "execution_count": 54,
   "metadata": {},
   "outputs": [
    {
     "data": {
      "text/plain": [
       "12    10478\n",
       "4      9942\n",
       "3      7469\n",
       "13     6958\n",
       "6      1000\n",
       "11      999\n",
       "10      999\n",
       "5       999\n",
       "8       756\n",
       "2       698\n",
       "14      675\n",
       "9       291\n",
       "7       269\n",
       "15      231\n",
       "1       169\n",
       "0         5\n",
       "Name: Point1, dtype: int64"
      ]
     },
     "execution_count": 54,
     "metadata": {},
     "output_type": "execute_result"
    }
   ],
   "source": [
    "# unique value in 'Point1' train set\n",
    "data_for_array_short_train['Point1'].value_counts()\n"
   ]
  },
  {
   "cell_type": "code",
   "execution_count": 55,
   "metadata": {},
   "outputs": [
    {
     "data": {
      "text/plain": [
       "12    2871\n",
       "4     2641\n",
       "13    2124\n",
       "3     1651\n",
       "14     343\n",
       "8      243\n",
       "2      234\n",
       "9      148\n",
       "7      146\n",
       "15      69\n",
       "1       14\n",
       "Name: Point1, dtype: int64"
      ]
     },
     "execution_count": 55,
     "metadata": {},
     "output_type": "execute_result"
    }
   ],
   "source": [
    "# unique value in 'Point1' in test set:\n",
    "\n",
    "data_for_array_short_test['Point1'].value_counts()\n"
   ]
  },
  {
   "cell_type": "markdown",
   "metadata": {},
   "source": [
    "#### Probability vector на (Trend/Flat) \n",
    "#### binary classification \n",
    "#### 0, 1, 2, 3, 4,    12, 13, 14, 15, 16  = Trend  = (1) \n",
    "#### 5, 6, 7, 8, 9, 10, 11                 = Flat   = (0) \n",
    "\n"
   ]
  },
  {
   "cell_type": "code",
   "execution_count": 56,
   "metadata": {},
   "outputs": [
    {
     "name": "stderr",
     "output_type": "stream",
     "text": [
      "100%|██████████| 41937/41937 [00:00<00:00, 138660.50it/s]\n",
      "100%|██████████| 10485/10485 [00:00<00:00, 131409.22it/s]\n"
     ]
    }
   ],
   "source": [
    "      \n",
    "for i in tqdm(range(train_end)):\n",
    "    if ((y_train[i,0] <= 4) | (y_train[i,0] >= 12)):\n",
    "        y_train[i,0] = 1\n",
    "        \n",
    "    if ((y_train[i,0] >= 5) & (y_train[i,0] <= 11)):\n",
    "        y_train[i,0] = 0  \n",
    "    else:\n",
    "        continue    \n",
    "        \n",
    "for i in tqdm(range(0, test_end-test_start+1)):\n",
    "    if ((y_test[i,0] <= 4) | (y_test[i,0] >= 12)):\n",
    "        y_test[i,0] = 1\n",
    "        \n",
    "    if ((y_test[i,0] >= 5) & (y_test[i,0] <= 11)):\n",
    "        y_test[i,0] = 0  \n",
    "    else:\n",
    "        continue \n"
   ]
  },
  {
   "cell_type": "code",
   "execution_count": 57,
   "metadata": {},
   "outputs": [
    {
     "name": "stderr",
     "output_type": "stream",
     "text": [
      "100%|██████████| 41937/41937 [00:00<00:00, 494527.55it/s]\n",
      "100%|██████████| 10485/10485 [00:00<00:00, 457120.50it/s]\n"
     ]
    }
   ],
   "source": [
    "# checking\n",
    "\n",
    "for i in tqdm(range(train_end)):\n",
    "    if (y_train[i,0] >= 2):\n",
    "        print('Allarm')\n",
    "        print(i)\n",
    "    else:\n",
    "        continue    \n",
    "        \n",
    "for i in tqdm(range(0, test_end-test_start+1)):\n",
    "    if (y_test[i,0] >= 2):\n",
    "        print('Allarm')\n",
    "        print(i)\n",
    "    else:\n",
    "        continue   "
   ]
  },
  {
   "cell_type": "code",
   "execution_count": 142,
   "metadata": {},
   "outputs": [],
   "source": [
    "# No Allarms"
   ]
  },
  {
   "cell_type": "code",
   "execution_count": 58,
   "metadata": {},
   "outputs": [
    {
     "name": "stdout",
     "output_type": "stream",
     "text": [
      "[1.]\n",
      "[0. 1.]\n"
     ]
    }
   ],
   "source": [
    "# Probability vector -> categorical\n",
    "Y_train = tf.keras.utils.to_categorical(y_train,2)\n",
    "Y_test  = tf.keras.utils.to_categorical(y_test,2)\n",
    "\n",
    "#checking\n",
    "n = 100\n",
    "print(y_train[n])\n",
    "print(Y_train[n])"
   ]
  },
  {
   "cell_type": "code",
   "execution_count": 64,
   "metadata": {},
   "outputs": [],
   "source": [
    "# We have two categories: \n",
    "# Trend: (1)\n",
    "# Flat : (0)\n"
   ]
  },
  {
   "cell_type": "code",
   "execution_count": 59,
   "metadata": {},
   "outputs": [],
   "source": [
    "classes=['0 is Flat', '1 is Trend']"
   ]
  },
  {
   "cell_type": "code",
   "execution_count": null,
   "metadata": {},
   "outputs": [],
   "source": []
  },
  {
   "cell_type": "markdown",
   "metadata": {},
   "source": [
    "### Convolutional Neural Network"
   ]
  },
  {
   "cell_type": "code",
   "execution_count": 114,
   "metadata": {
    "colab": {
     "base_uri": "https://localhost:8080/",
     "height": 372
    },
    "colab_type": "code",
    "executionInfo": {
     "elapsed": 483,
     "status": "ok",
     "timestamp": 1546547057431,
     "user": {
      "displayName": "Vitaly M",
      "photoUrl": "",
      "userId": "13751974997538357991"
     },
     "user_tz": 0
    },
    "id": "B8-8g0n8ZmAT",
    "outputId": "8b7de60b-b75d-40ab-9f1a-e8909eb52db8"
   },
   "outputs": [
    {
     "name": "stdout",
     "output_type": "stream",
     "text": [
      "Model: \"sequential_2\"\n",
      "_________________________________________________________________\n",
      " Layer (type)                Output Shape              Param #   \n",
      "=================================================================\n",
      " conv1d_4 (Conv1D)           (None, 200, 200)          31200     \n",
      "                                                                 \n",
      " max_pooling1d_2 (MaxPooling  (None, 40, 200)          0         \n",
      " 1D)                                                             \n",
      "                                                                 \n",
      " dropout_6 (Dropout)         (None, 40, 200)           0         \n",
      "                                                                 \n",
      " conv1d_5 (Conv1D)           (None, 40, 400)           2480400   \n",
      "                                                                 \n",
      " global_max_pooling1d_2 (Glo  (None, 400)              0         \n",
      " balMaxPooling1D)                                                \n",
      "                                                                 \n",
      " dropout_7 (Dropout)         (None, 400)               0         \n",
      "                                                                 \n",
      " flatten_2 (Flatten)         (None, 400)               0         \n",
      "                                                                 \n",
      " dense_6 (Dense)             (None, 720)               288720    \n",
      "                                                                 \n",
      " dense_7 (Dense)             (None, 72)                51912     \n",
      "                                                                 \n",
      " dropout_8 (Dropout)         (None, 72)                0         \n",
      "                                                                 \n",
      " dense_8 (Dense)             (None, 1)                 73        \n",
      "                                                                 \n",
      "=================================================================\n",
      "Total params: 2,852,305\n",
      "Trainable params: 2,852,305\n",
      "Non-trainable params: 0\n",
      "_________________________________________________________________\n",
      "None\n"
     ]
    }
   ],
   "source": [
    "# Create a consistent model\n",
    "model = keras.Sequential([\n",
    "    \n",
    "    keras.layers.Conv1D(200, 31, padding='same', input_shape=(200, 5), activation=tf.nn.relu, kernel_initializer=\"normal\"),\n",
    "\n",
    "    keras.layers.MaxPooling1D(5),\n",
    "\n",
    "    keras.layers.Dropout(0.25),\n",
    "\n",
    "\n",
    "    keras.layers.Conv1D(400, 31, padding='same', activation=tf.nn.relu, kernel_initializer=\"normal\"), \n",
    "    \n",
    "    keras.layers.GlobalMaxPooling1D(),\n",
    "    \n",
    "    keras.layers.Dropout(0.25),\n",
    "    \n",
    "    keras.layers.Flatten(),\n",
    "    \n",
    "    keras.layers.Dense(720, activation=tf.nn.relu, kernel_initializer=\"normal\"), \n",
    "\n",
    "    keras.layers.Dense(72, activation=tf.nn.relu, kernel_initializer=\"normal\"),\n",
    "\n",
    "    keras.layers.Dropout(0.5),\n",
    "    \n",
    "    keras.layers.Dense(1, activation=tf.nn.sigmoid)\n",
    "    \n",
    "   \n",
    "])\n",
    "\n",
    "print(model.summary())\n",
    "\n"
   ]
  },
  {
   "cell_type": "markdown",
   "metadata": {},
   "source": [
    "#### Callbacks"
   ]
  },
  {
   "cell_type": "code",
   "execution_count": 115,
   "metadata": {},
   "outputs": [],
   "source": [
    "from tensorflow.keras.callbacks import EarlyStopping\n",
    "from tensorflow.keras.callbacks import ModelCheckpoint"
   ]
  },
  {
   "cell_type": "code",
   "execution_count": 117,
   "metadata": {},
   "outputs": [],
   "source": [
    "es = EarlyStopping(monitor='val_binary_crossentropy', mode='min', min_delta=1, patience=30, verbose=1)"
   ]
  },
  {
   "cell_type": "code",
   "execution_count": 118,
   "metadata": {},
   "outputs": [],
   "source": [
    "mc = ModelCheckpoint('model_trend-flat_cnn_Ker31_loss_Batch200_Epoch100_Pat30_loss-{epoch:03d}_acc-{val_accuracy:.5f}_loss-{val_binary_crossentropy:.5f}.h5', \n",
    "                     monitor='val_accuracy', mode='max', \n",
    "                     verbose=1, save_best_only=False)"
   ]
  },
  {
   "cell_type": "markdown",
   "metadata": {
    "colab_type": "text",
    "id": "2wOM6VpxZmAY"
   },
   "source": [
    "### Compile the model"
   ]
  },
  {
   "cell_type": "code",
   "execution_count": 119,
   "metadata": {
    "colab": {},
    "colab_type": "code",
    "id": "G3eWNG4VZmAZ"
   },
   "outputs": [],
   "source": [
    "\n",
    "model.compile(optimizer='adam', loss='binary_crossentropy', \n",
    "              metrics=['accuracy','Precision','Recall','binary_crossentropy'])  \n"
   ]
  },
  {
   "cell_type": "markdown",
   "metadata": {
    "colab_type": "text",
    "id": "CFWKrlSMZmAh"
   },
   "source": [
    "### Trainig NN"
   ]
  },
  {
   "cell_type": "code",
   "execution_count": 120,
   "metadata": {
    "colab": {
     "base_uri": "https://localhost:8080/",
     "height": 854
    },
    "colab_type": "code",
    "executionInfo": {
     "elapsed": 4292298,
     "status": "ok",
     "timestamp": 1546551363896,
     "user": {
      "displayName": "Vitaly M",
      "photoUrl": "",
      "userId": "13751974997538357991"
     },
     "user_tz": 0
    },
    "id": "SUmwllafZmAi",
    "outputId": "7d491e8c-e26a-4d1c-f4fa-62a0436d72c8"
   },
   "outputs": [
    {
     "name": "stdout",
     "output_type": "stream",
     "text": [
      "Epoch 1/100\n",
      "147/147 [==============================] - ETA: 0s - loss: 0.4105 - accuracy: 0.8522 - precision: 0.8621 - recall: 0.9834 - binary_crossentropy: 0.4105\n",
      "Epoch 1: saving model to model_trend-flat_cnn_Ker31_loss_Batch200_Epoch100_Pat30_loss-001_acc-0.78008_loss-0.42491.h5\n",
      "147/147 [==============================] - 107s 717ms/step - loss: 0.4105 - accuracy: 0.8522 - precision: 0.8621 - recall: 0.9834 - binary_crossentropy: 0.4105 - val_loss: 0.4249 - val_accuracy: 0.7801 - val_precision: 0.9292 - val_recall: 0.8258 - val_binary_crossentropy: 0.4249\n",
      "Epoch 2/100\n",
      "147/147 [==============================] - ETA: 0s - loss: 0.3201 - accuracy: 0.8832 - precision: 0.9005 - recall: 0.9697 - binary_crossentropy: 0.3201\n",
      "Epoch 2: saving model to model_trend-flat_cnn_Ker31_loss_Batch200_Epoch100_Pat30_loss-002_acc-0.73216_loss-0.46235.h5\n",
      "147/147 [==============================] - 105s 716ms/step - loss: 0.3201 - accuracy: 0.8832 - precision: 0.9005 - recall: 0.9697 - binary_crossentropy: 0.3201 - val_loss: 0.4623 - val_accuracy: 0.7322 - val_precision: 0.9288 - val_recall: 0.7703 - val_binary_crossentropy: 0.4623\n",
      "Epoch 3/100\n",
      "147/147 [==============================] - ETA: 0s - loss: 0.3194 - accuracy: 0.8882 - precision: 0.9056 - recall: 0.9696 - binary_crossentropy: 0.3194\n",
      "Epoch 3: saving model to model_trend-flat_cnn_Ker31_loss_Batch200_Epoch100_Pat30_loss-003_acc-0.78588_loss-0.42872.h5\n",
      "147/147 [==============================] - 106s 723ms/step - loss: 0.3194 - accuracy: 0.8882 - precision: 0.9056 - recall: 0.9696 - binary_crossentropy: 0.3194 - val_loss: 0.4287 - val_accuracy: 0.7859 - val_precision: 0.9284 - val_recall: 0.8334 - val_binary_crossentropy: 0.4287\n",
      "Epoch 4/100\n",
      "147/147 [==============================] - ETA: 0s - loss: 0.3154 - accuracy: 0.8929 - precision: 0.9115 - recall: 0.9680 - binary_crossentropy: 0.3154\n",
      "Epoch 4: saving model to model_trend-flat_cnn_Ker31_loss_Batch200_Epoch100_Pat30_loss-004_acc-0.65808_loss-0.63277.h5\n",
      "147/147 [==============================] - 105s 713ms/step - loss: 0.3154 - accuracy: 0.8929 - precision: 0.9115 - recall: 0.9680 - binary_crossentropy: 0.3154 - val_loss: 0.6328 - val_accuracy: 0.6581 - val_precision: 0.9265 - val_recall: 0.6858 - val_binary_crossentropy: 0.6328\n",
      "Epoch 5/100\n",
      "147/147 [==============================] - ETA: 0s - loss: 0.3133 - accuracy: 0.8924 - precision: 0.9125 - recall: 0.9660 - binary_crossentropy: 0.3133\n",
      "Epoch 5: saving model to model_trend-flat_cnn_Ker31_loss_Batch200_Epoch100_Pat30_loss-005_acc-0.83079_loss-0.37419.h5\n",
      "147/147 [==============================] - 106s 720ms/step - loss: 0.3133 - accuracy: 0.8924 - precision: 0.9125 - recall: 0.9660 - binary_crossentropy: 0.3133 - val_loss: 0.3742 - val_accuracy: 0.8308 - val_precision: 0.9285 - val_recall: 0.8858 - val_binary_crossentropy: 0.3742\n",
      "Epoch 6/100\n",
      "147/147 [==============================] - ETA: 0s - loss: 0.3126 - accuracy: 0.8940 - precision: 0.9123 - recall: 0.9684 - binary_crossentropy: 0.3126\n",
      "Epoch 6: saving model to model_trend-flat_cnn_Ker31_loss_Batch200_Epoch100_Pat30_loss-006_acc-0.76172_loss-0.45193.h5\n",
      "147/147 [==============================] - 109s 743ms/step - loss: 0.3126 - accuracy: 0.8940 - precision: 0.9123 - recall: 0.9684 - binary_crossentropy: 0.3126 - val_loss: 0.4519 - val_accuracy: 0.7617 - val_precision: 0.9284 - val_recall: 0.8052 - val_binary_crossentropy: 0.4519\n",
      "Epoch 7/100\n",
      "147/147 [==============================] - ETA: 0s - loss: 0.3089 - accuracy: 0.8949 - precision: 0.9145 - recall: 0.9667 - binary_crossentropy: 0.3089\n",
      "Epoch 7: saving model to model_trend-flat_cnn_Ker31_loss_Batch200_Epoch100_Pat30_loss-007_acc-0.71833_loss-0.50423.h5\n",
      "147/147 [==============================] - 106s 721ms/step - loss: 0.3089 - accuracy: 0.8949 - precision: 0.9145 - recall: 0.9667 - binary_crossentropy: 0.3089 - val_loss: 0.5042 - val_accuracy: 0.7183 - val_precision: 0.9282 - val_recall: 0.7547 - val_binary_crossentropy: 0.5042\n",
      "Epoch 8/100\n",
      "147/147 [==============================] - ETA: 0s - loss: 0.3087 - accuracy: 0.8952 - precision: 0.9143 - recall: 0.9674 - binary_crossentropy: 0.3087\n",
      "Epoch 8: saving model to model_trend-flat_cnn_Ker31_loss_Batch200_Epoch100_Pat30_loss-008_acc-0.85591_loss-0.36207.h5\n",
      "147/147 [==============================] - 104s 706ms/step - loss: 0.3087 - accuracy: 0.8952 - precision: 0.9143 - recall: 0.9674 - binary_crossentropy: 0.3087 - val_loss: 0.3621 - val_accuracy: 0.8559 - val_precision: 0.9289 - val_recall: 0.9147 - val_binary_crossentropy: 0.3621\n",
      "Epoch 9/100\n",
      "147/147 [==============================] - ETA: 0s - loss: 0.3088 - accuracy: 0.8965 - precision: 0.9144 - recall: 0.9689 - binary_crossentropy: 0.3088\n",
      "Epoch 9: saving model to model_trend-flat_cnn_Ker31_loss_Batch200_Epoch100_Pat30_loss-009_acc-0.71062_loss-0.50835.h5\n",
      "147/147 [==============================] - 104s 709ms/step - loss: 0.3088 - accuracy: 0.8965 - precision: 0.9144 - recall: 0.9689 - binary_crossentropy: 0.3088 - val_loss: 0.5084 - val_accuracy: 0.7106 - val_precision: 0.9283 - val_recall: 0.7456 - val_binary_crossentropy: 0.5084\n",
      "Epoch 10/100\n",
      "147/147 [==============================] - ETA: 0s - loss: 0.3071 - accuracy: 0.8949 - precision: 0.9142 - recall: 0.9672 - binary_crossentropy: 0.3071\n",
      "Epoch 10: saving model to model_trend-flat_cnn_Ker31_loss_Batch200_Epoch100_Pat30_loss-010_acc-0.74948_loss-0.48512.h5\n",
      "147/147 [==============================] - 105s 715ms/step - loss: 0.3071 - accuracy: 0.8949 - precision: 0.9142 - recall: 0.9672 - binary_crossentropy: 0.3071 - val_loss: 0.4851 - val_accuracy: 0.7495 - val_precision: 0.9282 - val_recall: 0.7911 - val_binary_crossentropy: 0.4851\n",
      "Epoch 11/100\n",
      "147/147 [==============================] - ETA: 0s - loss: 0.3079 - accuracy: 0.8959 - precision: 0.9124 - recall: 0.9707 - binary_crossentropy: 0.3079\n",
      "Epoch 11: saving model to model_trend-flat_cnn_Ker31_loss_Batch200_Epoch100_Pat30_loss-011_acc-0.71722_loss-0.51869.h5\n",
      "147/147 [==============================] - 106s 722ms/step - loss: 0.3079 - accuracy: 0.8959 - precision: 0.9124 - recall: 0.9707 - binary_crossentropy: 0.3079 - val_loss: 0.5187 - val_accuracy: 0.7172 - val_precision: 0.9284 - val_recall: 0.7532 - val_binary_crossentropy: 0.5187\n",
      "Epoch 12/100\n",
      "147/147 [==============================] - ETA: 0s - loss: 0.3055 - accuracy: 0.8961 - precision: 0.9129 - recall: 0.9705 - binary_crossentropy: 0.3055\n",
      "Epoch 12: saving model to model_trend-flat_cnn_Ker31_loss_Batch200_Epoch100_Pat30_loss-012_acc-0.75060_loss-0.49521.h5\n",
      "147/147 [==============================] - 110s 748ms/step - loss: 0.3055 - accuracy: 0.8961 - precision: 0.9129 - recall: 0.9705 - binary_crossentropy: 0.3055 - val_loss: 0.4952 - val_accuracy: 0.7506 - val_precision: 0.9281 - val_recall: 0.7925 - val_binary_crossentropy: 0.4952\n",
      "Epoch 13/100\n",
      "147/147 [==============================] - ETA: 0s - loss: 0.3047 - accuracy: 0.8978 - precision: 0.9137 - recall: 0.9715 - binary_crossentropy: 0.3047\n",
      "Epoch 13: saving model to model_trend-flat_cnn_Ker31_loss_Batch200_Epoch100_Pat30_loss-013_acc-0.69997_loss-0.54444.h5\n",
      "147/147 [==============================] - 105s 711ms/step - loss: 0.3047 - accuracy: 0.8978 - precision: 0.9137 - recall: 0.9715 - binary_crossentropy: 0.3047 - val_loss: 0.5444 - val_accuracy: 0.7000 - val_precision: 0.9273 - val_recall: 0.7341 - val_binary_crossentropy: 0.5444\n",
      "Epoch 14/100\n",
      "147/147 [==============================] - ETA: 0s - loss: 0.3042 - accuracy: 0.8980 - precision: 0.9137 - recall: 0.9717 - binary_crossentropy: 0.3042\n",
      "Epoch 14: saving model to model_trend-flat_cnn_Ker31_loss_Batch200_Epoch100_Pat30_loss-014_acc-0.74591_loss-0.49535.h5\n",
      "147/147 [==============================] - 102s 694ms/step - loss: 0.3042 - accuracy: 0.8980 - precision: 0.9137 - recall: 0.9717 - binary_crossentropy: 0.3042 - val_loss: 0.4953 - val_accuracy: 0.7459 - val_precision: 0.9282 - val_recall: 0.7869 - val_binary_crossentropy: 0.4953\n",
      "Epoch 15/100\n",
      "147/147 [==============================] - ETA: 0s - loss: 0.3012 - accuracy: 0.8994 - precision: 0.9153 - recall: 0.9715 - binary_crossentropy: 0.3012\n",
      "Epoch 15: saving model to model_trend-flat_cnn_Ker31_loss_Batch200_Epoch100_Pat30_loss-015_acc-0.78159_loss-0.46078.h5\n",
      "147/147 [==============================] - 107s 725ms/step - loss: 0.3012 - accuracy: 0.8994 - precision: 0.9153 - recall: 0.9715 - binary_crossentropy: 0.3012 - val_loss: 0.4608 - val_accuracy: 0.7816 - val_precision: 0.9278 - val_recall: 0.8290 - val_binary_crossentropy: 0.4608\n"
     ]
    },
    {
     "name": "stdout",
     "output_type": "stream",
     "text": [
      "Epoch 16/100\n",
      "147/147 [==============================] - ETA: 0s - loss: 0.3004 - accuracy: 0.8992 - precision: 0.9149 - recall: 0.9719 - binary_crossentropy: 0.3004\n",
      "Epoch 16: saving model to model_trend-flat_cnn_Ker31_loss_Batch200_Epoch100_Pat30_loss-016_acc-0.68948_loss-0.63922.h5\n",
      "147/147 [==============================] - 108s 737ms/step - loss: 0.3004 - accuracy: 0.8992 - precision: 0.9149 - recall: 0.9719 - binary_crossentropy: 0.3004 - val_loss: 0.6392 - val_accuracy: 0.6895 - val_precision: 0.9277 - val_recall: 0.7214 - val_binary_crossentropy: 0.6392\n",
      "Epoch 17/100\n",
      "147/147 [==============================] - ETA: 0s - loss: 0.3007 - accuracy: 0.8978 - precision: 0.9119 - recall: 0.9738 - binary_crossentropy: 0.3007\n",
      "Epoch 17: saving model to model_trend-flat_cnn_Ker31_loss_Batch200_Epoch100_Pat30_loss-017_acc-0.78493_loss-0.48201.h5\n",
      "147/147 [==============================] - 113s 767ms/step - loss: 0.3007 - accuracy: 0.8978 - precision: 0.9119 - recall: 0.9738 - binary_crossentropy: 0.3007 - val_loss: 0.4820 - val_accuracy: 0.7849 - val_precision: 0.9283 - val_recall: 0.8324 - val_binary_crossentropy: 0.4820\n",
      "Epoch 18/100\n",
      "147/147 [==============================] - ETA: 0s - loss: 0.2972 - accuracy: 0.9001 - precision: 0.9131 - recall: 0.9753 - binary_crossentropy: 0.2972\n",
      "Epoch 18: saving model to model_trend-flat_cnn_Ker31_loss_Batch200_Epoch100_Pat30_loss-018_acc-0.75743_loss-0.54426.h5\n",
      "147/147 [==============================] - 107s 726ms/step - loss: 0.2972 - accuracy: 0.9001 - precision: 0.9131 - recall: 0.9753 - binary_crossentropy: 0.2972 - val_loss: 0.5443 - val_accuracy: 0.7574 - val_precision: 0.9290 - val_recall: 0.7996 - val_binary_crossentropy: 0.5443\n",
      "Epoch 19/100\n",
      "147/147 [==============================] - ETA: 0s - loss: 0.2976 - accuracy: 0.9002 - precision: 0.9144 - recall: 0.9736 - binary_crossentropy: 0.2976\n",
      "Epoch 19: saving model to model_trend-flat_cnn_Ker31_loss_Batch200_Epoch100_Pat30_loss-019_acc-0.84160_loss-0.43084.h5\n",
      "147/147 [==============================] - 111s 758ms/step - loss: 0.2976 - accuracy: 0.9002 - precision: 0.9144 - recall: 0.9736 - binary_crossentropy: 0.2976 - val_loss: 0.4308 - val_accuracy: 0.8416 - val_precision: 0.9298 - val_recall: 0.8969 - val_binary_crossentropy: 0.4308\n",
      "Epoch 20/100\n",
      "147/147 [==============================] - ETA: 0s - loss: 0.2952 - accuracy: 0.9010 - precision: 0.9139 - recall: 0.9754 - binary_crossentropy: 0.2952\n",
      "Epoch 20: saving model to model_trend-flat_cnn_Ker31_loss_Batch200_Epoch100_Pat30_loss-020_acc-0.77341_loss-0.47555.h5\n",
      "147/147 [==============================] - 111s 757ms/step - loss: 0.2952 - accuracy: 0.9010 - precision: 0.9139 - recall: 0.9754 - binary_crossentropy: 0.2952 - val_loss: 0.4756 - val_accuracy: 0.7734 - val_precision: 0.9278 - val_recall: 0.8195 - val_binary_crossentropy: 0.4756\n",
      "Epoch 21/100\n",
      "147/147 [==============================] - ETA: 0s - loss: 0.2912 - accuracy: 0.9048 - precision: 0.9175 - recall: 0.9757 - binary_crossentropy: 0.2912\n",
      "Epoch 21: saving model to model_trend-flat_cnn_Ker31_loss_Batch200_Epoch100_Pat30_loss-021_acc-0.70672_loss-0.57154.h5\n",
      "147/147 [==============================] - 108s 733ms/step - loss: 0.2912 - accuracy: 0.9048 - precision: 0.9175 - recall: 0.9757 - binary_crossentropy: 0.2912 - val_loss: 0.5715 - val_accuracy: 0.7067 - val_precision: 0.9270 - val_recall: 0.7422 - val_binary_crossentropy: 0.5715\n",
      "Epoch 22/100\n",
      "147/147 [==============================] - ETA: 0s - loss: 0.2899 - accuracy: 0.9030 - precision: 0.9152 - recall: 0.9763 - binary_crossentropy: 0.2899\n",
      "Epoch 22: saving model to model_trend-flat_cnn_Ker31_loss_Batch200_Epoch100_Pat30_loss-022_acc-0.75576_loss-0.56835.h5\n",
      "147/147 [==============================] - 105s 715ms/step - loss: 0.2899 - accuracy: 0.9030 - precision: 0.9152 - recall: 0.9763 - binary_crossentropy: 0.2899 - val_loss: 0.5683 - val_accuracy: 0.7558 - val_precision: 0.9286 - val_recall: 0.7980 - val_binary_crossentropy: 0.5683\n",
      "Epoch 23/100\n",
      "147/147 [==============================] - ETA: 0s - loss: 0.2882 - accuracy: 0.9059 - precision: 0.9170 - recall: 0.9779 - binary_crossentropy: 0.2882\n",
      "Epoch 23: saving model to model_trend-flat_cnn_Ker31_loss_Batch200_Epoch100_Pat30_loss-023_acc-0.82300_loss-0.46251.h5\n",
      "147/147 [==============================] - 106s 723ms/step - loss: 0.2882 - accuracy: 0.9059 - precision: 0.9170 - recall: 0.9779 - binary_crossentropy: 0.2882 - val_loss: 0.4625 - val_accuracy: 0.8230 - val_precision: 0.9288 - val_recall: 0.8763 - val_binary_crossentropy: 0.4625\n",
      "Epoch 24/100\n",
      "147/147 [==============================] - ETA: 0s - loss: 0.2835 - accuracy: 0.9078 - precision: 0.9174 - recall: 0.9798 - binary_crossentropy: 0.2835\n",
      "Epoch 24: saving model to model_trend-flat_cnn_Ker31_loss_Batch200_Epoch100_Pat30_loss-024_acc-0.74829_loss-0.55227.h5\n",
      "147/147 [==============================] - 107s 726ms/step - loss: 0.2835 - accuracy: 0.9078 - precision: 0.9174 - recall: 0.9798 - binary_crossentropy: 0.2835 - val_loss: 0.5523 - val_accuracy: 0.7483 - val_precision: 0.9273 - val_recall: 0.7906 - val_binary_crossentropy: 0.5523\n",
      "Epoch 25/100\n",
      "147/147 [==============================] - ETA: 0s - loss: 0.2855 - accuracy: 0.9061 - precision: 0.9163 - recall: 0.9790 - binary_crossentropy: 0.2855\n",
      "Epoch 25: saving model to model_trend-flat_cnn_Ker31_loss_Batch200_Epoch100_Pat30_loss-025_acc-0.77571_loss-0.55985.h5\n",
      "147/147 [==============================] - 114s 775ms/step - loss: 0.2855 - accuracy: 0.9061 - precision: 0.9163 - recall: 0.9790 - binary_crossentropy: 0.2855 - val_loss: 0.5599 - val_accuracy: 0.7757 - val_precision: 0.9289 - val_recall: 0.8210 - val_binary_crossentropy: 0.5599\n",
      "Epoch 26/100\n",
      "147/147 [==============================] - ETA: 0s - loss: 0.2801 - accuracy: 0.9086 - precision: 0.9183 - recall: 0.9797 - binary_crossentropy: 0.2801\n",
      "Epoch 26: saving model to model_trend-flat_cnn_Ker31_loss_Batch200_Epoch100_Pat30_loss-026_acc-0.70998_loss-0.69927.h5\n",
      "147/147 [==============================] - 106s 724ms/step - loss: 0.2801 - accuracy: 0.9086 - precision: 0.9183 - recall: 0.9797 - binary_crossentropy: 0.2801 - val_loss: 0.6993 - val_accuracy: 0.7100 - val_precision: 0.9281 - val_recall: 0.7451 - val_binary_crossentropy: 0.6993\n",
      "Epoch 27/100\n",
      "147/147 [==============================] - ETA: 0s - loss: 0.2765 - accuracy: 0.9112 - precision: 0.9198 - recall: 0.9810 - binary_crossentropy: 0.2765\n",
      "Epoch 27: saving model to model_trend-flat_cnn_Ker31_loss_Batch200_Epoch100_Pat30_loss-027_acc-0.68399_loss-0.74118.h5\n",
      "147/147 [==============================] - 109s 740ms/step - loss: 0.2765 - accuracy: 0.9112 - precision: 0.9198 - recall: 0.9810 - binary_crossentropy: 0.2765 - val_loss: 0.7412 - val_accuracy: 0.6840 - val_precision: 0.9269 - val_recall: 0.7158 - val_binary_crossentropy: 0.7412\n",
      "Epoch 28/100\n",
      "147/147 [==============================] - ETA: 0s - loss: 0.2734 - accuracy: 0.9126 - precision: 0.9206 - recall: 0.9819 - binary_crossentropy: 0.2734\n",
      "Epoch 28: saving model to model_trend-flat_cnn_Ker31_loss_Batch200_Epoch100_Pat30_loss-028_acc-0.69099_loss-0.89987.h5\n",
      "147/147 [==============================] - 109s 745ms/step - loss: 0.2734 - accuracy: 0.9126 - precision: 0.9206 - recall: 0.9819 - binary_crossentropy: 0.2734 - val_loss: 0.8999 - val_accuracy: 0.6910 - val_precision: 0.9276 - val_recall: 0.7233 - val_binary_crossentropy: 0.8999\n",
      "Epoch 29/100\n",
      "147/147 [==============================] - ETA: 0s - loss: 0.2713 - accuracy: 0.9132 - precision: 0.9213 - recall: 0.9818 - binary_crossentropy: 0.2713\n",
      "Epoch 29: saving model to model_trend-flat_cnn_Ker31_loss_Batch200_Epoch100_Pat30_loss-029_acc-0.74018_loss-0.77126.h5\n",
      "147/147 [==============================] - 108s 734ms/step - loss: 0.2713 - accuracy: 0.9132 - precision: 0.9213 - recall: 0.9818 - binary_crossentropy: 0.2713 - val_loss: 0.7713 - val_accuracy: 0.7402 - val_precision: 0.9286 - val_recall: 0.7799 - val_binary_crossentropy: 0.7713\n",
      "Epoch 30/100\n",
      "147/147 [==============================] - ETA: 0s - loss: 0.2664 - accuracy: 0.9157 - precision: 0.9222 - recall: 0.9839 - binary_crossentropy: 0.2664\n",
      "Epoch 30: saving model to model_trend-flat_cnn_Ker31_loss_Batch200_Epoch100_Pat30_loss-030_acc-0.78223_loss-0.58782.h5\n"
     ]
    },
    {
     "name": "stdout",
     "output_type": "stream",
     "text": [
      "147/147 [==============================] - 110s 750ms/step - loss: 0.2664 - accuracy: 0.9157 - precision: 0.9222 - recall: 0.9839 - binary_crossentropy: 0.2664 - val_loss: 0.5878 - val_accuracy: 0.7822 - val_precision: 0.9297 - val_recall: 0.8278 - val_binary_crossentropy: 0.5878\n",
      "Epoch 31/100\n",
      "147/147 [==============================] - ETA: 0s - loss: 0.2639 - accuracy: 0.9172 - precision: 0.9227 - recall: 0.9851 - binary_crossentropy: 0.2639\n",
      "Epoch 31: saving model to model_trend-flat_cnn_Ker31_loss_Batch200_Epoch100_Pat30_loss-031_acc-0.80615_loss-0.48687.h5\n",
      "147/147 [==============================] - 110s 751ms/step - loss: 0.2639 - accuracy: 0.9172 - precision: 0.9227 - recall: 0.9851 - binary_crossentropy: 0.2639 - val_loss: 0.4869 - val_accuracy: 0.8062 - val_precision: 0.9291 - val_recall: 0.8564 - val_binary_crossentropy: 0.4869\n",
      "Epoch 31: early stopping\n"
     ]
    }
   ],
   "source": [
    "history = model.fit(X_train, y_train, batch_size=200, epochs=100, validation_split=0.3, \n",
    "                    shuffle=True, verbose=1, callbacks=[es, mc])\n",
    "\n",
    "# size batch_size = 200, \n",
    "# the number of epochs = 100  \n",
    "# monitor = val_accuracy\n",
    "# patience = 30\n",
    "# validation_split = 0.3 (30%)- the part of the sample that will be used as verification \n"
   ]
  },
  {
   "cell_type": "markdown",
   "metadata": {
    "colab_type": "text",
    "id": "8VoqTTaMZmA5"
   },
   "source": [
    "### Accuracy graphs during training"
   ]
  },
  {
   "cell_type": "code",
   "execution_count": 121,
   "metadata": {},
   "outputs": [
    {
     "data": {
      "image/png": "[encoded data removed]",
      "text/plain": [
       "<Figure size 1080x504 with 1 Axes>"
      ]
     },
     "metadata": {},
     "output_type": "display_data"
    }
   ],
   "source": [
    "history_dict = history.history\n",
    "plt.style.use('seaborn-darkgrid') \n",
    "accuracy_values = history_dict['accuracy']\n",
    "\n",
    "val_accuracy_values = history_dict['val_accuracy']\n",
    "\n",
    "epochs = range(1, len(accuracy_values) + 1)\n",
    "plt.figure(num=1, figsize=(15,7))\n",
    "plt.plot(epochs, accuracy_values, 'bo', label='Training accuracy')\n",
    "plt.plot(epochs, val_accuracy_values, 'b', label='Validation accuracy')\n",
    "plt.xlabel('Epochs', size=18)\n",
    "plt.ylabel('Accuracy', size=18)\n",
    "plt.legend()\n",
    "plt.show()"
   ]
  },
  {
   "cell_type": "markdown",
   "metadata": {},
   "source": [
    "### Binary Crossentropy graphs during training "
   ]
  },
  {
   "cell_type": "code",
   "execution_count": 124,
   "metadata": {},
   "outputs": [
    {
     "data": {
      "image/png": "[encoded data removed]",
      "text/plain": [
       "<Figure size 1080x504 with 1 Axes>"
      ]
     },
     "metadata": {},
     "output_type": "display_data"
    }
   ],
   "source": [
    "history_dict = history.history\n",
    "plt.style.use('seaborn-darkgrid') \n",
    "accuracy_values = history_dict['binary_crossentropy']\n",
    "\n",
    "val_accuracy_values = history_dict['val_binary_crossentropy']\n",
    "\n",
    "epochs = range(1, len(accuracy_values) + 1)\n",
    "plt.figure(num=1, figsize=(15,7))\n",
    "plt.plot(epochs, accuracy_values, 'bo', label='Training Binary Crossentropy')\n",
    "plt.plot(epochs, val_accuracy_values, 'b', label='Validation Binary Crossentropy')\n",
    "plt.xlabel('Epochs', size=18)\n",
    "plt.ylabel('Binary Crossentropy', size=18)\n",
    "plt.legend()\n",
    "plt.show()"
   ]
  },
  {
   "cell_type": "code",
   "execution_count": null,
   "metadata": {},
   "outputs": [],
   "source": []
  },
  {
   "cell_type": "markdown",
   "metadata": {
    "colab_type": "text",
    "id": "Kz8cRyPaZmAu"
   },
   "source": [
    "### Evaluation and load the saved model"
   ]
  },
  {
   "cell_type": "code",
   "execution_count": 125,
   "metadata": {},
   "outputs": [],
   "source": [
    "model = keras.models.load_model('model_trend-flat_cnn_Ker31_loss_Batch200_Epoch100_Pat30_loss-008_acc-0.85591_loss-0.36207.h5')\n"
   ]
  },
  {
   "cell_type": "code",
   "execution_count": 126,
   "metadata": {
    "colab": {
     "base_uri": "https://localhost:8080/",
     "height": 34
    },
    "colab_type": "code",
    "executionInfo": {
     "elapsed": 11487,
     "status": "ok",
     "timestamp": 1546552423253,
     "user": {
      "displayName": "Vitaly M",
      "photoUrl": "",
      "userId": "13751974997538357991"
     },
     "user_tz": 0
    },
    "id": "6lHAQkDKZmAv",
    "outputId": "8165764b-9b2b-48a4-e67b-3d967e456242"
   },
   "outputs": [],
   "source": [
    "# Evaluate the quality of network training on test data (which the network did NOT see)\n",
    "scores = model.evaluate(X_test, y_test, verbose=0)\n"
   ]
  },
  {
   "cell_type": "code",
   "execution_count": 127,
   "metadata": {},
   "outputs": [
    {
     "data": {
      "text/plain": [
       "[0.3618125021457672,\n",
       " 0.8457796573638916,\n",
       " 0.9608363509178162,\n",
       " 0.8730397820472717,\n",
       " 0.3618125021457672]"
      ]
     },
     "execution_count": 127,
     "metadata": {},
     "output_type": "execute_result"
    }
   ],
   "source": [
    "scores"
   ]
  },
  {
   "cell_type": "code",
   "execution_count": 128,
   "metadata": {},
   "outputs": [
    {
     "name": "stdout",
     "output_type": "stream",
     "text": [
      "Accuracy: 84.578%\n"
     ]
    }
   ],
   "source": [
    "print(\"Accuracy: %.3f%%\" % (scores[1]*100))"
   ]
  },
  {
   "cell_type": "code",
   "execution_count": 129,
   "metadata": {},
   "outputs": [
    {
     "name": "stdout",
     "output_type": "stream",
     "text": [
      "Precision: 96.084%\n"
     ]
    }
   ],
   "source": [
    "print(\"Precision: %.3f%%\" % (scores[2]*100))"
   ]
  },
  {
   "cell_type": "code",
   "execution_count": 130,
   "metadata": {},
   "outputs": [
    {
     "name": "stdout",
     "output_type": "stream",
     "text": [
      "Recall: 87.304%\n"
     ]
    }
   ],
   "source": [
    "print(\"Recall: %.3f%%\" % (scores[3]*100))"
   ]
  },
  {
   "cell_type": "code",
   "execution_count": null,
   "metadata": {},
   "outputs": [],
   "source": []
  },
  {
   "cell_type": "code",
   "execution_count": 147,
   "metadata": {},
   "outputs": [
    {
     "name": "stdout",
     "output_type": "stream",
     "text": [
      "328/328 [==============================] - 6s 20ms/step\n",
      "9478\n",
      "Predicted probability: [0.933724] , right answer: [1.] , error: [-0.06627601]\n"
     ]
    }
   ],
   "source": [
    "import random\n",
    "\n",
    "pred = model.predict(X_test)\n",
    "\n",
    "# Check: we take a random element random.randint () and look: what is the difference between test and predict\n",
    "\n",
    "n_rec = random.randint(0, X_test.shape[0])\n",
    "print(n_rec)\n",
    "\n",
    "\n",
    "print(\"Predicted probability:\", pred[n_rec], \", right answer:\", y_test[n_rec], \", error:\", pred[n_rec]-y_test[n_rec])\n"
   ]
  },
  {
   "cell_type": "code",
   "execution_count": 132,
   "metadata": {},
   "outputs": [
    {
     "name": "stdout",
     "output_type": "stream",
     "text": [
      "Right answer:  [0. 1.]\n",
      "1/1 [==============================] - 0s 19ms/step\n"
     ]
    },
    {
     "data": {
      "image/png": "[encoded data removed]",
      "text/plain": [
       "<Figure size 720x504 with 1 Axes>"
      ]
     },
     "metadata": {},
     "output_type": "display_data"
    },
    {
     "name": "stdout",
     "output_type": "stream",
     "text": [
      "Predicted answer: 0 is Flat \n",
      " \n",
      "Right answer: 0 is Flat\n",
      "['0 is Flat', '1 is Trend']\n"
     ]
    }
   ],
   "source": [
    "index = random.randint(0, Y_test.shape[0])\n",
    "print('Right answer: ', Y_test[index])\n",
    "\n",
    "x = X_test[index]\n",
    "x = np.expand_dims(x, axis=0)\n",
    "\n",
    "prediction = model.predict(x)\n",
    "sample = x\n",
    "\n",
    "ans = np.argmax(prediction)\n",
    "\n",
    "fig = plt.figure(figsize=(10,7))\n",
    "\n",
    "ax = fig.add_subplot(1, 2, 2)\n",
    "bar_list = ax.bar(np.arange(1), prediction[0], align='center')\n",
    "bar_list[ans].set_color('g')\n",
    "ax.set_xticks(np.arange(1))\n",
    "ax.set_xlim([-1, 1])\n",
    "ax.grid('on')\n",
    "\n",
    "plt.show()\n",
    "print('Predicted answer: {}'.format(classes[ans]), \"\\n \")\n",
    "print('Right answer: {}'.format(classes[Y_test[index][0].astype(int)]) )\n",
    "print(classes)"
   ]
  },
  {
   "cell_type": "code",
   "execution_count": null,
   "metadata": {},
   "outputs": [],
   "source": []
  },
  {
   "cell_type": "code",
   "execution_count": null,
   "metadata": {},
   "outputs": [],
   "source": []
  }
 ],
 "metadata": {
  "accelerator": "GPU",
  "colab": {
   "collapsed_sections": [],
   "name": "Convol_Forex_EURUSD-4mn-2018-1.ipynb",
   "provenance": [
    {
     "file_id": "16hApOSwFjWVKrOfeClRzXm2NZgrLUOSQ",
     "timestamp": 1546558732747
    },
    {
     "file_id": "1OR8Sy0e-MTzvq3hlcLgSH8CO6upOaSdW",
     "timestamp": 1544748069779
    },
    {
     "file_id": "1T_GmWEz6kg9Tklh2nSCFA-hwRT6R-_9A",
     "timestamp": 1544731067882
    }
   ],
   "version": "0.3.2"
  },
  "kernelspec": {
   "display_name": "Python 3",
   "language": "python",
   "name": "python3"
  },
  "language_info": {
   "codemirror_mode": {
    "name": "ipython",
    "version": 3
   },
   "file_extension": ".py",
   "mimetype": "text/x-python",
   "name": "python",
   "nbconvert_exporter": "python",
   "pygments_lexer": "ipython3",
   "version": "3.8.5"
  }
 },
 "nbformat": 4,
 "nbformat_minor": 1
}
