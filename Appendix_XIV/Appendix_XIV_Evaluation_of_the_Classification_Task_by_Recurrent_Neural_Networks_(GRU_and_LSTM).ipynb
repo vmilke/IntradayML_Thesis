{
 "cells": [
  {
   "cell_type": "markdown",
   "metadata": {},
   "source": [
    "# Appendix XIV.\n",
    "\n",
    "## Evaluation of the classification task by \n",
    "## Recurrent Neural Networks (GRU and LSTM)\n",
    "\n",
    "\n",
    "## Tick Data with Dukastcopy\n",
    "## Data for 2020 year\n",
    "\n",
    "\n",
    "### Trend(1) or Flat(0) "
   ]
  },
  {
   "cell_type": "markdown",
   "metadata": {
    "colab_type": "text",
    "id": "SeAjw6urZl6q"
   },
   "source": [
    "##### Normalisation of volumes - based on a maximum of 10 lots (the main number of lots). The interval (from 10 to 5000 lots) are equated to 10 lots (those to 1 after normalisation)\n",
    "##### We normalise the intervals between ticks - based on a maximum of 20,000 milliseconds (20 seconds) (the main number of intervals). The interval (from 20,000) are equated to 20,000 milliseconds (those to 1 after normalisation)"
   ]
  },
  {
   "cell_type": "code",
   "execution_count": 1,
   "metadata": {},
   "outputs": [
    {
     "name": "stdout",
     "output_type": "stream",
     "text": [
      "WARNING:tensorflow:Please fix your imports. Module tensorflow.python.training.tracking.base has been moved to tensorflow.python.trackable.base. The old module will be deleted in version 2.11.\n",
      "WARNING:tensorflow:Please fix your imports. Module tensorflow.python.training.tracking.resource has been moved to tensorflow.python.trackable.resource. The old module will be deleted in version 2.11.\n",
      "WARNING:tensorflow:Please fix your imports. Module tensorflow.python.training.tracking.graph_view has been moved to tensorflow.python.checkpoint.graph_view. The old module will be deleted in version 2.11.\n",
      "WARNING:tensorflow:Please fix your imports. Module tensorflow.python.training.saving.functional_saver has been moved to tensorflow.python.checkpoint.functional_saver. The old module will be deleted in version 2.11.\n",
      "WARNING:tensorflow:Please fix your imports. Module tensorflow.python.training.saving.checkpoint_options has been moved to tensorflow.python.checkpoint.checkpoint_options. The old module will be deleted in version 2.11.\n"
     ]
    }
   ],
   "source": [
    "# TensorFlow and tf.keras\n",
    "\n",
    "import tensorflow as tf\n",
    "from tensorflow import keras\n",
    "\n",
    "import numpy as np                  \n",
    "import pandas as pd  \n",
    "\n",
    "import random\n",
    "\n",
    "import matplotlib.pyplot as plt\n",
    "%matplotlib inline "
   ]
  },
  {
   "cell_type": "code",
   "execution_count": 2,
   "metadata": {},
   "outputs": [
    {
     "name": "stdout",
     "output_type": "stream",
     "text": [
      "2.10.0-dev20220604\n"
     ]
    }
   ],
   "source": [
    "print(tf.__version__)"
   ]
  },
  {
   "cell_type": "code",
   "execution_count": 4,
   "metadata": {},
   "outputs": [],
   "source": [
    "# Progress bar\n",
    "from tqdm import tqdm"
   ]
  },
  {
   "cell_type": "code",
   "execution_count": null,
   "metadata": {},
   "outputs": [],
   "source": [
    "# COLABORATE\n",
    "!cat /proc/driver/nvidia/gpus/0000:00:04.0/information"
   ]
  },
  {
   "cell_type": "code",
   "execution_count": 5,
   "metadata": {},
   "outputs": [],
   "source": [
    "# Set seed to repeat results for random number generator\n",
    "# tk we use stachostic optimization methods\n",
    "np.random.seed(42)"
   ]
  },
  {
   "cell_type": "markdown",
   "metadata": {
    "colab_type": "text",
    "id": "Z0Vayl6qZl7H"
   },
   "source": [
    "### Data "
   ]
  },
  {
   "cell_type": "code",
   "execution_count": null,
   "metadata": {},
   "outputs": [],
   "source": [
    "# COLABORATE\n",
    "from google.colab import files\n",
    "\n",
    "uploaded = files.upload()\n",
    "\n",
    "for fn in uploaded.keys():\n",
    "  print('User uploaded file \"{name}\" with length {length} bytes'.format(\n",
    "      name=fn, length=len(uploaded[fn])))"
   ]
  },
  {
   "cell_type": "code",
   "execution_count": null,
   "metadata": {},
   "outputs": [],
   "source": [
    "from google.colab import drive\n",
    "drive.mount('/content/grive', force_remount=True)"
   ]
  },
  {
   "cell_type": "code",
   "execution_count": null,
   "metadata": {},
   "outputs": [],
   "source": [
    "# COLABORATE\n",
    "!ls"
   ]
  },
  {
   "cell_type": "code",
   "execution_count": 6,
   "metadata": {},
   "outputs": [
    {
     "name": "stdout",
     "output_type": "stream",
     "text": [
      "       Ask      Bid  Vol_Bid_N  Vol_Ask_N  DateDelta1_N  Goal  Point  Point1\n",
      "0  1.12160  1.12106      0.075    0.00937       0.00000     8      1       8\n",
      "1  1.12160  1.12120      0.075    0.00937       0.21775     8      0       0\n",
      "2  1.12160  1.12117      0.075    0.00937       0.06845     8      0       0\n",
      "3  1.12161  1.12123      0.075    0.08400       0.03000     8      0       0\n",
      "4  1.12161  1.12120      0.075    0.08400       0.00505     8      0       0\n",
      "              Ask      Bid  Vol_Bid_N  Vol_Ask_N  DateDelta1_N  Goal  Point  \\\n",
      "16586025  1.12337  1.12333      0.506      0.075       0.00505     8      0   \n",
      "16586026  1.12338  1.12333      0.394      0.157       0.00505     8      0   \n",
      "16586027  1.12337  1.12333      0.394      0.075       0.32845     8      0   \n",
      "16586028  1.12338  1.12333      0.394      0.202       0.22760     8      0   \n",
      "16586029  1.12338  1.12334      0.037      0.150       0.19405     8      0   \n",
      "\n",
      "          Point1  \n",
      "16586025       0  \n",
      "16586026       0  \n",
      "16586027       0  \n",
      "16586028       0  \n",
      "16586029       0  \n"
     ]
    }
   ],
   "source": [
    "data = pd.read_csv('/Users/vital/Python_Code/_PhD_Code/Experiment-2/Results3/EURO_data_raw_common_norm_.csv')\n",
    "\n",
    "print(data.head(n=5)) \n",
    "print(data[-5:]) "
   ]
  },
  {
   "cell_type": "code",
   "execution_count": 7,
   "metadata": {},
   "outputs": [
    {
     "name": "stdout",
     "output_type": "stream",
     "text": [
      "<class 'pandas.core.frame.DataFrame'>\n",
      "RangeIndex: 16586030 entries, 0 to 16586029\n",
      "Data columns (total 8 columns):\n",
      " #   Column        Dtype  \n",
      "---  ------        -----  \n",
      " 0   Ask           float64\n",
      " 1   Bid           float64\n",
      " 2   Vol_Bid_N     float64\n",
      " 3   Vol_Ask_N     float64\n",
      " 4   DateDelta1_N  float64\n",
      " 5   Goal          int64  \n",
      " 6   Point         int64  \n",
      " 7   Point1        int64  \n",
      "dtypes: float64(5), int64(3)\n",
      "memory usage: 1012.3 MB\n"
     ]
    }
   ],
   "source": [
    "data.info()"
   ]
  },
  {
   "cell_type": "code",
   "execution_count": 8,
   "metadata": {},
   "outputs": [
    {
     "name": "stdout",
     "output_type": "stream",
     "text": [
      "<class 'pandas.core.frame.DataFrame'>\n",
      "RangeIndex: 16586030 entries, 0 to 16586029\n",
      "Data columns (total 8 columns):\n",
      " #   Column        Dtype  \n",
      "---  ------        -----  \n",
      " 0   Ask           float32\n",
      " 1   Bid           float32\n",
      " 2   Vol_Bid_N     float32\n",
      " 3   Vol_Ask_N     float32\n",
      " 4   DateDelta1_N  float32\n",
      " 5   Goal          int8   \n",
      " 6   Point         int8   \n",
      " 7   Point1        int8   \n",
      "dtypes: float32(5), int8(3)\n",
      "memory usage: 363.8 MB\n"
     ]
    }
   ],
   "source": [
    "# downsising\n",
    "\n",
    "data['Ask']          =pd.to_numeric(data['Ask'],downcast='float')\n",
    "data['Bid']          =pd.to_numeric(data['Bid'],downcast='float')\n",
    "data['Vol_Bid_N']    =pd.to_numeric(data['Vol_Bid_N'],downcast='float')\n",
    "data['Vol_Ask_N']    =pd.to_numeric(data['Vol_Ask_N'],downcast='float')\n",
    "data['DateDelta1_N'] =pd.to_numeric(data['DateDelta1_N'],downcast='float')\n",
    "\n",
    "data['Goal']         = pd.to_numeric(data['Goal'],downcast='integer')\n",
    "data['Point']        = pd.to_numeric(data['Point'],downcast='integer')\n",
    "data['Point1']       = pd.to_numeric(data['Point1'],downcast='integer')\n",
    "\n",
    "data.info()"
   ]
  },
  {
   "cell_type": "code",
   "execution_count": 9,
   "metadata": {},
   "outputs": [
    {
     "data": {
      "text/plain": [
       "0    16533604\n",
       "1       52426\n",
       "Name: Point, dtype: int64"
      ]
     },
     "execution_count": 9,
     "metadata": {},
     "output_type": "execute_result"
    }
   ],
   "source": [
    "data['Point'].value_counts()"
   ]
  },
  {
   "cell_type": "code",
   "execution_count": 10,
   "metadata": {},
   "outputs": [
    {
     "data": {
      "text/plain": [
       "0    16533604\n",
       "1       52426\n",
       "Name: Point, dtype: int64"
      ]
     },
     "execution_count": 10,
     "metadata": {},
     "output_type": "execute_result"
    }
   ],
   "source": [
    "number1 = data['Point'].value_counts()\n",
    "number1 "
   ]
  },
  {
   "cell_type": "code",
   "execution_count": 11,
   "metadata": {},
   "outputs": [
    {
     "data": {
      "text/plain": [
       "52426"
      ]
     },
     "execution_count": 11,
     "metadata": {},
     "output_type": "execute_result"
    }
   ],
   "source": [
    "number1.iloc[1]"
   ]
  },
  {
   "cell_type": "code",
   "execution_count": 12,
   "metadata": {},
   "outputs": [
    {
     "data": {
      "text/plain": [
       "52426"
      ]
     },
     "execution_count": 12,
     "metadata": {},
     "output_type": "execute_result"
    }
   ],
   "source": [
    "n_small = number1.iloc[1]\n",
    "n_small"
   ]
  },
  {
   "cell_type": "code",
   "execution_count": 13,
   "metadata": {},
   "outputs": [
    {
     "data": {
      "text/plain": [
       "numpy.int64"
      ]
     },
     "execution_count": 13,
     "metadata": {},
     "output_type": "execute_result"
    }
   ],
   "source": [
    "type(n_small)"
   ]
  },
  {
   "cell_type": "code",
   "execution_count": 14,
   "metadata": {},
   "outputs": [],
   "source": [
    "n_small = np.int32(n_small)"
   ]
  },
  {
   "cell_type": "code",
   "execution_count": 15,
   "metadata": {},
   "outputs": [
    {
     "data": {
      "text/plain": [
       "numpy.int32"
      ]
     },
     "execution_count": 15,
     "metadata": {},
     "output_type": "execute_result"
    }
   ],
   "source": [
    "type(n_small)"
   ]
  },
  {
   "cell_type": "code",
   "execution_count": 16,
   "metadata": {},
   "outputs": [
    {
     "data": {
      "text/plain": [
       "16586030"
      ]
     },
     "execution_count": 16,
     "metadata": {},
     "output_type": "execute_result"
    }
   ],
   "source": [
    "data.shape[0] \n"
   ]
  },
  {
   "cell_type": "code",
   "execution_count": 17,
   "metadata": {},
   "outputs": [
    {
     "data": {
      "text/plain": [
       "int"
      ]
     },
     "execution_count": 17,
     "metadata": {},
     "output_type": "execute_result"
    }
   ],
   "source": [
    "type(data.shape[0])"
   ]
  },
  {
   "cell_type": "code",
   "execution_count": 18,
   "metadata": {},
   "outputs": [
    {
     "data": {
      "text/plain": [
       "52426"
      ]
     },
     "execution_count": 18,
     "metadata": {},
     "output_type": "execute_result"
    }
   ],
   "source": [
    "n_small"
   ]
  },
  {
   "cell_type": "code",
   "execution_count": 19,
   "metadata": {},
   "outputs": [
    {
     "data": {
      "text/html": [
       "<div>\n",
       "<style scoped>\n",
       "    .dataframe tbody tr th:only-of-type {\n",
       "        vertical-align: middle;\n",
       "    }\n",
       "\n",
       "    .dataframe tbody tr th {\n",
       "        vertical-align: top;\n",
       "    }\n",
       "\n",
       "    .dataframe thead th {\n",
       "        text-align: right;\n",
       "    }\n",
       "</style>\n",
       "<table border=\"1\" class=\"dataframe\">\n",
       "  <thead>\n",
       "    <tr style=\"text-align: right;\">\n",
       "      <th></th>\n",
       "      <th>Ask</th>\n",
       "      <th>Bid</th>\n",
       "      <th>Vol_Bid_N</th>\n",
       "      <th>Vol_Ask_N</th>\n",
       "      <th>DateDelta1_N</th>\n",
       "      <th>Goal</th>\n",
       "      <th>Point</th>\n",
       "      <th>Point1</th>\n",
       "    </tr>\n",
       "  </thead>\n",
       "  <tbody>\n",
       "    <tr>\n",
       "      <th>0</th>\n",
       "      <td>1.12160</td>\n",
       "      <td>1.12106</td>\n",
       "      <td>0.075</td>\n",
       "      <td>0.00937</td>\n",
       "      <td>0.00000</td>\n",
       "      <td>8</td>\n",
       "      <td>1</td>\n",
       "      <td>8</td>\n",
       "    </tr>\n",
       "    <tr>\n",
       "      <th>1</th>\n",
       "      <td>1.12160</td>\n",
       "      <td>1.12120</td>\n",
       "      <td>0.075</td>\n",
       "      <td>0.00937</td>\n",
       "      <td>0.21775</td>\n",
       "      <td>8</td>\n",
       "      <td>0</td>\n",
       "      <td>0</td>\n",
       "    </tr>\n",
       "    <tr>\n",
       "      <th>2</th>\n",
       "      <td>1.12160</td>\n",
       "      <td>1.12117</td>\n",
       "      <td>0.075</td>\n",
       "      <td>0.00937</td>\n",
       "      <td>0.06845</td>\n",
       "      <td>8</td>\n",
       "      <td>0</td>\n",
       "      <td>0</td>\n",
       "    </tr>\n",
       "    <tr>\n",
       "      <th>3</th>\n",
       "      <td>1.12161</td>\n",
       "      <td>1.12123</td>\n",
       "      <td>0.075</td>\n",
       "      <td>0.08400</td>\n",
       "      <td>0.03000</td>\n",
       "      <td>8</td>\n",
       "      <td>0</td>\n",
       "      <td>0</td>\n",
       "    </tr>\n",
       "    <tr>\n",
       "      <th>4</th>\n",
       "      <td>1.12161</td>\n",
       "      <td>1.12120</td>\n",
       "      <td>0.075</td>\n",
       "      <td>0.08400</td>\n",
       "      <td>0.00505</td>\n",
       "      <td>8</td>\n",
       "      <td>0</td>\n",
       "      <td>0</td>\n",
       "    </tr>\n",
       "  </tbody>\n",
       "</table>\n",
       "</div>"
      ],
      "text/plain": [
       "       Ask      Bid  Vol_Bid_N  Vol_Ask_N  DateDelta1_N  Goal  Point  Point1\n",
       "0  1.12160  1.12106      0.075    0.00937       0.00000     8      1       8\n",
       "1  1.12160  1.12120      0.075    0.00937       0.21775     8      0       0\n",
       "2  1.12160  1.12117      0.075    0.00937       0.06845     8      0       0\n",
       "3  1.12161  1.12123      0.075    0.08400       0.03000     8      0       0\n",
       "4  1.12161  1.12120      0.075    0.08400       0.00505     8      0       0"
      ]
     },
     "execution_count": 19,
     "metadata": {},
     "output_type": "execute_result"
    }
   ],
   "source": [
    "data.head()"
   ]
  },
  {
   "cell_type": "code",
   "execution_count": null,
   "metadata": {},
   "outputs": [],
   "source": [
    "data['Point'].loc[0]  = 0\n",
    "data['Point1'].loc[0] = 0\n",
    "\n",
    "data.head()"
   ]
  },
  {
   "cell_type": "code",
   "execution_count": 21,
   "metadata": {},
   "outputs": [
    {
     "data": {
      "text/plain": [
       "0    16533605\n",
       "1       52425\n",
       "Name: Point, dtype: int64"
      ]
     },
     "execution_count": 21,
     "metadata": {},
     "output_type": "execute_result"
    }
   ],
   "source": [
    "data['Point'].value_counts()"
   ]
  },
  {
   "cell_type": "code",
   "execution_count": 22,
   "metadata": {},
   "outputs": [
    {
     "name": "stderr",
     "output_type": "stream",
     "text": [
      "  0%|          | 76/16586030 [00:00<04:40, 59096.61it/s]"
     ]
    },
    {
     "name": "stdout",
     "output_type": "stream",
     "text": [
      "76\n"
     ]
    },
    {
     "name": "stderr",
     "output_type": "stream",
     "text": [
      "\n"
     ]
    }
   ],
   "source": [
    "for i in tqdm(range(0,data.shape[0])):\n",
    "    if (data['Point'].iloc[i] == 1):\n",
    "        print(i)\n",
    "     #   print(data['Point'].index[i])\n",
    "        break\n",
    "    continue\n"
   ]
  },
  {
   "cell_type": "code",
   "execution_count": 23,
   "metadata": {},
   "outputs": [
    {
     "name": "stderr",
     "output_type": "stream",
     "text": [
      "  0%|          | 201/16586030 [00:00<05:29, 50364.72it/s]"
     ]
    },
    {
     "name": "stdout",
     "output_type": "stream",
     "text": [
      "76\n",
      "108\n",
      "109\n"
     ]
    },
    {
     "name": "stderr",
     "output_type": "stream",
     "text": [
      "\n"
     ]
    }
   ],
   "source": [
    "for i in tqdm(range(0,data.shape[0])):\n",
    "    if (i > 200):\n",
    "        break\n",
    "    else: \n",
    "        if (data['Point'].iloc[i] == 1):\n",
    "            print(i)\n",
    "         #   print(data['Point'].index[i])\n",
    "    continue"
   ]
  },
  {
   "cell_type": "code",
   "execution_count": 24,
   "metadata": {},
   "outputs": [
    {
     "name": "stdout",
     "output_type": "stream",
     "text": [
      "10 \n",
      "\n",
      "5 \n",
      "\n",
      "11\n"
     ]
    }
   ],
   "source": [
    "print(data['Point1'].iloc[76], '\\n')\n",
    "print(data['Point1'].iloc[108], '\\n')\n",
    "print(data['Point1'].iloc[109])"
   ]
  },
  {
   "cell_type": "code",
   "execution_count": null,
   "metadata": {},
   "outputs": [],
   "source": [
    "data['Point'].loc[76]  = 0\n",
    "data['Point1'].loc[76] = 0\n",
    "\n",
    "data['Point'].loc[108]  = 0\n",
    "data['Point1'].loc[108] = 0\n",
    "\n",
    "data['Point'].loc[109]  = 0\n",
    "data['Point1'].loc[109] = 0"
   ]
  },
  {
   "cell_type": "code",
   "execution_count": 26,
   "metadata": {},
   "outputs": [
    {
     "name": "stderr",
     "output_type": "stream",
     "text": [
      "  0%|          | 222/16586030 [00:00<03:44, 73940.72it/s]"
     ]
    },
    {
     "name": "stdout",
     "output_type": "stream",
     "text": [
      "222\n"
     ]
    },
    {
     "name": "stderr",
     "output_type": "stream",
     "text": [
      "\n"
     ]
    }
   ],
   "source": [
    "for i in tqdm(range(0,data.shape[0])):\n",
    "    if (data['Point'].iloc[i] == 1):\n",
    "        print(i)\n",
    "        break\n",
    "    continue\n"
   ]
  },
  {
   "cell_type": "code",
   "execution_count": 27,
   "metadata": {},
   "outputs": [
    {
     "data": {
      "text/plain": [
       "0    16533608\n",
       "1       52422\n",
       "Name: Point, dtype: int64"
      ]
     },
     "execution_count": 27,
     "metadata": {},
     "output_type": "execute_result"
    }
   ],
   "source": [
    "number1 = data['Point'].value_counts()\n",
    "number1 "
   ]
  },
  {
   "cell_type": "code",
   "execution_count": 28,
   "metadata": {},
   "outputs": [
    {
     "data": {
      "text/plain": [
       "52422"
      ]
     },
     "execution_count": 28,
     "metadata": {},
     "output_type": "execute_result"
    }
   ],
   "source": [
    "n_small = number1.iloc[1]\n",
    "n_small = np.int32(n_small)\n",
    "n_small"
   ]
  },
  {
   "cell_type": "markdown",
   "metadata": {
    "colab_type": "text",
    "id": "dpv9B-_uZl8m"
   },
   "source": [
    "### Create numpy "
   ]
  },
  {
   "cell_type": "code",
   "execution_count": 29,
   "metadata": {},
   "outputs": [
    {
     "name": "stdout",
     "output_type": "stream",
     "text": [
      "<class 'pandas.core.frame.DataFrame'>\n",
      "RangeIndex: 16586030 entries, 0 to 16586029\n",
      "Data columns (total 7 columns):\n",
      " #   Column        Dtype  \n",
      "---  ------        -----  \n",
      " 0   Ask           float32\n",
      " 1   Bid           float32\n",
      " 2   Vol_Bid_N     float32\n",
      " 3   Vol_Ask_N     float32\n",
      " 4   DateDelta1_N  float32\n",
      " 5   Point         int8   \n",
      " 6   Point1        int8   \n",
      "dtypes: float32(5), int8(2)\n",
      "memory usage: 348.0 MB\n"
     ]
    }
   ],
   "source": [
    "# del 'Goal'\n",
    "columns1 = ['Goal']\n",
    "data_for_array = data.drop(columns1, inplace=False, axis=1)\n",
    "\n",
    "data_for_array.info()"
   ]
  },
  {
   "cell_type": "code",
   "execution_count": 30,
   "metadata": {},
   "outputs": [
    {
     "name": "stdout",
     "output_type": "stream",
     "text": [
      "data_a:\n",
      "[[1.1216  1.12106 0.075   0.00937 0.      0.      0.     ]\n",
      " [1.1216  1.1212  0.075   0.00937 0.21775 0.      0.     ]\n",
      " [1.1216  1.12117 0.075   0.00937 0.06845 0.      0.     ]\n",
      " [1.12161 1.12123 0.075   0.084   0.03    0.      0.     ]]\n",
      "\n",
      "\n",
      "[[1.12338    1.12333    0.394      0.157      0.00505    0.\n",
      "  0.        ]\n",
      " [1.12337    1.12333    0.394      0.075      0.32845    0.\n",
      "  0.        ]\n",
      " [1.12338    1.12333    0.394      0.20199999 0.2276     0.\n",
      "  0.        ]\n",
      " [1.12338    1.12334    0.037      0.15       0.19405    0.\n",
      "  0.        ]]\n",
      "\n",
      " Row number for training:  n =  16586030 \n",
      " Column number:                  p =  7\n",
      " numpy type:               <class 'numpy.ndarray'> \n",
      " numpy size:               (16586030, 7)\n",
      "Example: data_a[1,0] =  1.1216\n"
     ]
    }
   ],
   "source": [
    "n = data_for_array.shape[0]    \n",
    "p = data_for_array.shape[1] \n",
    "\n",
    "data_a = np.array(data_for_array[:]) \n",
    "\n",
    "print(\"data_a:\")\n",
    "print(data_a[:4])  \n",
    "print('\\n')\n",
    "print(data_a[-4:]) \n",
    "\n",
    "print('\\n', \"Row number for training:  n = \", n, '\\n',\n",
    "      \"Column number:                  p = \", p)\n",
    "print(\" numpy type:              \", type(data_a), '\\n',\n",
    "      \n",
    "      \"numpy size:              \", data_a.shape)\n",
    "print('Example: data_a[1,0] = ', data_a[1,0])"
   ]
  },
  {
   "cell_type": "markdown",
   "metadata": {
    "colab_type": "text",
    "id": "N3SgE4R6Zl8z"
   },
   "source": [
    "#### we form the output matrix Y with the value of Probability vector\n",
    "#### and imputs matrix data_b"
   ]
  },
  {
   "cell_type": "code",
   "execution_count": 31,
   "metadata": {},
   "outputs": [
    {
     "name": "stdout",
     "output_type": "stream",
     "text": [
      "Size of a three-dimensional data array for training:  52422 200 5\n"
     ]
    }
   ],
   "source": [
    "N = 200 \n",
    "L = n_small\n",
    "print('Size of a three-dimensional data array for training: ', L, N, 5)"
   ]
  },
  {
   "cell_type": "code",
   "execution_count": 32,
   "metadata": {},
   "outputs": [
    {
     "name": "stdout",
     "output_type": "stream",
     "text": [
      "data_b: \n",
      " [[[0. 0. 0. 0. 0.]\n",
      "  [0. 0. 0. 0. 0.]\n",
      "  [0. 0. 0. 0. 0.]\n",
      "  ...\n",
      "  [0. 0. 0. 0. 0.]\n",
      "  [0. 0. 0. 0. 0.]\n",
      "  [0. 0. 0. 0. 0.]]\n",
      "\n",
      " [[0. 0. 0. 0. 0.]\n",
      "  [0. 0. 0. 0. 0.]\n",
      "  [0. 0. 0. 0. 0.]\n",
      "  ...\n",
      "  [0. 0. 0. 0. 0.]\n",
      "  [0. 0. 0. 0. 0.]\n",
      "  [0. 0. 0. 0. 0.]]\n",
      "\n",
      " [[0. 0. 0. 0. 0.]\n",
      "  [0. 0. 0. 0. 0.]\n",
      "  [0. 0. 0. 0. 0.]\n",
      "  ...\n",
      "  [0. 0. 0. 0. 0.]\n",
      "  [0. 0. 0. 0. 0.]\n",
      "  [0. 0. 0. 0. 0.]]\n",
      "\n",
      " ...\n",
      "\n",
      " [[0. 0. 0. 0. 0.]\n",
      "  [0. 0. 0. 0. 0.]\n",
      "  [0. 0. 0. 0. 0.]\n",
      "  ...\n",
      "  [0. 0. 0. 0. 0.]\n",
      "  [0. 0. 0. 0. 0.]\n",
      "  [0. 0. 0. 0. 0.]]\n",
      "\n",
      " [[0. 0. 0. 0. 0.]\n",
      "  [0. 0. 0. 0. 0.]\n",
      "  [0. 0. 0. 0. 0.]\n",
      "  ...\n",
      "  [0. 0. 0. 0. 0.]\n",
      "  [0. 0. 0. 0. 0.]\n",
      "  [0. 0. 0. 0. 0.]]\n",
      "\n",
      " [[0. 0. 0. 0. 0.]\n",
      "  [0. 0. 0. 0. 0.]\n",
      "  [0. 0. 0. 0. 0.]\n",
      "  ...\n",
      "  [0. 0. 0. 0. 0.]\n",
      "  [0. 0. 0. 0. 0.]\n",
      "  [0. 0. 0. 0. 0.]]]\n",
      "data_b shape: \n",
      " (52422, 200, 5)\n",
      "Y: \n",
      " [[0.]\n",
      " [0.]\n",
      " [0.]\n",
      " ...\n",
      " [0.]\n",
      " [0.]\n",
      " [0.]]\n",
      "Y shape: \n",
      " (52422, 1)\n"
     ]
    }
   ],
   "source": [
    "data_b = np.zeros( (L, N, 5), dtype= 'float32' ) \n",
    "\n",
    "print('data_b:', '\\n', data_b)\n",
    "print('data_b shape:', '\\n', data_b.shape)\n",
    "\n",
    "# create a one-dimensional vector of answers - Probability vector\n",
    "Y = np.zeros((L, 1), dtype= 'float32') # We predict valure of Probability vector\n",
    "                                      \n",
    "print('Y:', '\\n', Y)\n",
    "print('Y shape:', '\\n', Y.shape)\n"
   ]
  },
  {
   "cell_type": "code",
   "execution_count": 33,
   "metadata": {},
   "outputs": [
    {
     "name": "stdout",
     "output_type": "stream",
     "text": [
      "n =  16586030 \n",
      "\n",
      "n_small =  52422 \n",
      "\n",
      "N =  200 \n",
      "\n",
      "L =  52422 \n",
      "\n"
     ]
    }
   ],
   "source": [
    "print('n = ', n, '\\n')\n",
    "print('n_small = ', n_small, '\\n')\n",
    "print('N = ', N, '\\n')\n",
    "print('L = ', L, '\\n')"
   ]
  },
  {
   "cell_type": "code",
   "execution_count": 34,
   "metadata": {},
   "outputs": [
    {
     "name": "stderr",
     "output_type": "stream",
     "text": [
      "100%|██████████| 16586030/16586030 [00:30<00:00, 545086.16it/s]"
     ]
    },
    {
     "name": "stdout",
     "output_type": "stream",
     "text": [
      "16586029\n",
      "number of plates q=  52422 \n",
      "\n",
      "data_b: \n",
      " [[[1.12172    1.12125    0.15       0.056      0.15005   ]\n",
      "  [1.12172    1.12134    0.075      0.056      0.2372    ]\n",
      "  [1.12172    1.12135    0.075      0.056      0.00505   ]\n",
      "  ...\n",
      "  [1.12154    1.12151    0.075      0.075      1.        ]\n",
      "  [1.12169    1.12151    0.075      0.075      0.2472    ]\n",
      "  [1.12154    1.12151    0.075      0.075      0.0026    ]]\n",
      "\n",
      " [[1.12212    1.1221     0.075      0.15       0.0025    ]\n",
      "  [1.12212    1.12211    0.075      0.15       0.01015   ]\n",
      "  [1.12213    1.12211    0.075      0.15       0.0067    ]\n",
      "  ...\n",
      "  [1.12205    1.12199    0.075      0.075      0.00255   ]\n",
      "  [1.12201    1.12198    0.075      0.075      0.4355    ]\n",
      "  [1.12199    1.12197    0.082      0.075      0.0025    ]]\n",
      "\n",
      " [[1.12206    1.12203    0.382      0.075      0.0026    ]\n",
      "  [1.12208    1.12203    0.30699998 0.375      0.00255   ]\n",
      "  [1.12207    1.12203    0.232      0.262      0.1249    ]\n",
      "  ...\n",
      "  [1.12208    1.12206    0.075      0.15       0.00765   ]\n",
      "  [1.1221     1.12208    0.01       0.187      1.        ]\n",
      "  [1.12212    1.12209    0.157      0.281      0.0051    ]]\n",
      "\n",
      " ...\n",
      "\n",
      " [[1.12512    1.12508    0.412      0.15       0.0026    ]\n",
      "  [1.12511    1.12508    0.712      0.075      0.0051    ]\n",
      "  [1.12509    1.12508    0.15       0.075      0.06205   ]\n",
      "  ...\n",
      "  [1.125      1.12496    0.19500001 0.075      0.00515   ]\n",
      "  [1.125      1.12497    0.01       0.15       0.0223    ]\n",
      "  [1.125      1.12496    0.27       0.225      0.0115    ]]\n",
      "\n",
      " [[1.12301    1.12297    0.15       0.607      0.2692    ]\n",
      "  [1.12301    1.12296    0.412      0.71999997 0.1116    ]\n",
      "  [1.12301    1.12297    0.075      0.345      0.051     ]\n",
      "  ...\n",
      "  [1.12287    1.12283    0.225      0.892      0.02965   ]\n",
      "  [1.12286    1.12283    0.225      0.022      0.03155   ]\n",
      "  [1.12286    1.12284    0.075      0.06       0.0645    ]]\n",
      "\n",
      " [[1.12375    1.12373    0.075      0.019      0.01545   ]\n",
      "  [1.12376    1.12373    0.075      0.056      0.02615   ]\n",
      "  [1.12374    1.12373    0.097      0.026      0.1048    ]\n",
      "  ...\n",
      "  [1.12374    1.12372    0.21       0.075      0.0106    ]\n",
      "  [1.12373    1.12371    0.131      0.082      0.06035   ]\n",
      "  [1.12373    1.12372    0.075      0.082      0.16545   ]]]\n",
      "Numpy size:         (52422, 200, 5) \n",
      "\n",
      "[[ 6.]\n",
      " [10.]\n",
      " [10.]\n",
      " ...\n",
      " [ 4.]\n",
      " [ 7.]\n",
      " [ 9.]]\n",
      "Numpy size:          (52422, 1)\n"
     ]
    },
    {
     "name": "stderr",
     "output_type": "stream",
     "text": [
      "\n"
     ]
    }
   ],
   "source": [
    "# fill the array for training data_b and \n",
    "# the array of answers Y from the data_for_array\n",
    "\n",
    "q=0 \n",
    "\n",
    "for k in tqdm(range(n)):\n",
    "    if data_a[k,5] == 1:  \n",
    "        data_b[q, :, :] = data_a[k-N+1:k+1, 0:5]\n",
    "        \n",
    "        Y[q,0] = data_a[k,6]   # value of the Probability vector \n",
    "        q = q +1\n",
    "    else:\n",
    "        continue\n",
    "\n",
    "print(k) # end index value (for control)\n",
    "\n",
    "print('number of plates q= ', q, '\\n')\n",
    "print('data_b:', '\\n', data_b)\n",
    "print(\"Numpy size:        \", data_b.shape, '\\n')\n",
    "\n",
    "print( Y[:,:])\n",
    "\n",
    "print(      \"Numpy size:         \", Y.shape)"
   ]
  },
  {
   "cell_type": "code",
   "execution_count": 34,
   "metadata": {},
   "outputs": [],
   "source": [
    "# checking"
   ]
  },
  {
   "cell_type": "code",
   "execution_count": 35,
   "metadata": {},
   "outputs": [
    {
     "data": {
      "text/plain": [
       "array([1.12373, 1.12372, 0.075  , 0.082  , 0.16545, 1.     , 9.     ],\n",
       "      dtype=float32)"
      ]
     },
     "execution_count": 35,
     "metadata": {},
     "output_type": "execute_result"
    }
   ],
   "source": [
    "np.set_printoptions(suppress=True) \n",
    "data_a[16580890,:]        # the last row in data_a"
   ]
  },
  {
   "cell_type": "code",
   "execution_count": 36,
   "metadata": {},
   "outputs": [
    {
     "data": {
      "text/plain": [
       "array([1.12373, 1.12372, 0.075  , 0.082  , 0.16545], dtype=float32)"
      ]
     },
     "execution_count": 36,
     "metadata": {},
     "output_type": "execute_result"
    }
   ],
   "source": [
    "data_b[n_small-1,N-1,:]"
   ]
  },
  {
   "cell_type": "code",
   "execution_count": 37,
   "metadata": {},
   "outputs": [
    {
     "name": "stderr",
     "output_type": "stream",
     "text": [
      "100%|██████████| 16586030/16586030 [02:46<00:00, 99813.34it/s] \n"
     ]
    }
   ],
   "source": [
    "for i in tqdm(range(n)):\n",
    "    if (data['Point'].iloc[i] == 1):\n",
    "        print(i)\n",
    "        #print(i)\n",
    "        continue\n",
    "\n",
    "    continue\n"
   ]
  },
  {
   "cell_type": "code",
   "execution_count": 38,
   "metadata": {},
   "outputs": [
    {
     "name": "stdout",
     "output_type": "stream",
     "text": [
      "9.0 \n",
      "\n",
      "9\n",
      "the numbers must be the same\n"
     ]
    }
   ],
   "source": [
    "# double ckeck of Probabilities vector\n",
    "\n",
    "print(data_a[16580890,6],'\\n')\n",
    "\n",
    "print(data_for_array['Point1'].iloc[16580890])\n",
    "\n",
    "print('the numbers must be the same')"
   ]
  },
  {
   "cell_type": "code",
   "execution_count": 39,
   "metadata": {},
   "outputs": [
    {
     "name": "stdout",
     "output_type": "stream",
     "text": [
      "z=  144\n",
      "[1.12368 1.12366 0.075   0.15    0.01525 0.      0.     ] \n",
      "\n",
      "[1.12368 1.12366 0.075   0.15    0.01525] \n",
      "\n"
     ]
    }
   ],
   "source": [
    "z = random.randint(0, 199)  \n",
    "\n",
    "print('z= ',z)\n",
    "\n",
    "\n",
    "print(data_a[16580890-z, :], '\\n')\n",
    "\n",
    "\n",
    "print(data_b[n_small-1, N-1-z, :], '\\n')"
   ]
  },
  {
   "cell_type": "code",
   "execution_count": 40,
   "metadata": {},
   "outputs": [
    {
     "name": "stdout",
     "output_type": "stream",
     "text": [
      "[1.12375 1.12373 0.075   0.01    0.00765 0.      0.     ] \n",
      "\n",
      "[1.12375 1.12373 0.075   0.01    0.00765] \n",
      "\n"
     ]
    }
   ],
   "source": [
    "print(data_a[16580886, :], '\\n')\n",
    "\n",
    "\n",
    "print(data_b[n_small-1, N-1-4, :], '\\n')"
   ]
  },
  {
   "cell_type": "code",
   "execution_count": 41,
   "metadata": {},
   "outputs": [
    {
     "name": "stdout",
     "output_type": "stream",
     "text": [
      "Vol_Bid_N \t 1.0 \t 0.0009999999\n",
      "Vol_Ask_N \t 1.0 \t 0.0009999999\n",
      "DateDelta1_N \t 1.0 \t 0.00245\n"
     ]
    }
   ],
   "source": [
    "# We print Min and Max of all normalised columns of signs - All should be in the range [0; 1]\n",
    "# Check that the matrices are normalised and there are no values> 1\n",
    "\n",
    "mmx  = data_b[:,:,2].max()\n",
    "mmn  = data_b[:,:,2].min()\n",
    "print('Vol_Bid_N', '\\t', mmx, '\\t', mmn)\n",
    "\n",
    "mmx  = data_b[:,:,3].max()\n",
    "mmn  = data_b[:,:,3].min()\n",
    "print('Vol_Ask_N', '\\t', mmx, '\\t', mmn)\n",
    "\n",
    "mmx  = data_b[:,:,4].max()\n",
    "mmn  = data_b[:,:,4].min()\n",
    "print('DateDelta1_N', '\\t', mmx, '\\t', mmn)\n",
    "\n"
   ]
  },
  {
   "cell_type": "markdown",
   "metadata": {
    "colab_type": "text",
    "id": "enIZM8uxZl-8"
   },
   "source": [
    "### creation datasets for training and testing"
   ]
  },
  {
   "cell_type": "code",
   "execution_count": 42,
   "metadata": {},
   "outputs": [
    {
     "name": "stdout",
     "output_type": "stream",
     "text": [
      "52422 41937\n"
     ]
    }
   ],
   "source": [
    "# We allocate about 80% of the data (two-dimensional subarrays) for training and about 20% of \n",
    "# the data (two-dimensional subarrays) for testing\n",
    "# n = data_a.shape [0] # new number of lines\n",
    "train_start = 0\n",
    "train_end = int(np.floor(0.8*L))\n",
    "print(L, train_end)"
   ]
  },
  {
   "cell_type": "code",
   "execution_count": 43,
   "metadata": {},
   "outputs": [
    {
     "name": "stdout",
     "output_type": "stream",
     "text": [
      "41938 52422\n"
     ]
    }
   ],
   "source": [
    "test_start = train_end + 1\n",
    "test_end = L\n",
    "print(test_start, test_end)"
   ]
  },
  {
   "cell_type": "code",
   "execution_count": 44,
   "metadata": {},
   "outputs": [
    {
     "name": "stdout",
     "output_type": "stream",
     "text": [
      "numpy size:         (52422, 200, 5) \n",
      "\n"
     ]
    }
   ],
   "source": [
    "print(\"numpy size:        \", data_b.shape, '\\n')"
   ]
  },
  {
   "cell_type": "code",
   "execution_count": 45,
   "metadata": {},
   "outputs": [
    {
     "name": "stdout",
     "output_type": "stream",
     "text": [
      "10485\n"
     ]
    }
   ],
   "source": [
    "print(test_end-train_end)   # size for testing"
   ]
  },
  {
   "cell_type": "code",
   "execution_count": 46,
   "metadata": {},
   "outputs": [
    {
     "name": "stderr",
     "output_type": "stream",
     "text": [
      "100%|██████████| 52422/52422 [00:00<00:00, 404326.21it/s]"
     ]
    },
    {
     "name": "stdout",
     "output_type": "stream",
     "text": [
      " Train numpy size::         (41937, 200, 5) \n",
      "\n",
      "\n",
      "\n",
      " Test numpy size::         (10485, 200, 5) \n",
      "\n"
     ]
    },
    {
     "name": "stderr",
     "output_type": "stream",
     "text": [
      "\n"
     ]
    }
   ],
   "source": [
    "# form X_train and X_test\n",
    "# Divide data_b into two unequal parts: for training (X_train) and for test (X_test)\n",
    "\n",
    "X_train = np.zeros( ( train_end, N, 5) , dtype= 'float32')\n",
    "X_test  = np.zeros( ( test_end-train_end, N, 5) , dtype= 'float32')\n",
    "\n",
    "for zz in tqdm(range(test_end)):\n",
    "    if zz < train_end:\n",
    "        X_train[zz,:,:] = data_b[zz,:,:]\n",
    "    else:\n",
    "        X_test[zz-train_end,:,:]  = data_b[zz,:,:]    \n",
    "\n",
    "# print('X_train:', '\\n', X_test)\n",
    "print(\" Train numpy size::        \", X_train.shape, '\\n')\n",
    "print('\\n')\n",
    "\n",
    "# print('X_test:', '\\n', X_test)\n",
    "print(\" Test numpy size::        \", X_test.shape, '\\n')\n"
   ]
  },
  {
   "cell_type": "code",
   "execution_count": 47,
   "metadata": {},
   "outputs": [
    {
     "name": "stdout",
     "output_type": "stream",
     "text": [
      "[[1.12154 1.12151 0.075   0.075   0.0026 ]\n",
      " [1.12199 1.12197 0.082   0.075   0.0025 ]\n",
      " [1.12212 1.12209 0.157   0.281   0.0051 ]\n",
      " [1.12194 1.12191 0.075   0.075   0.03285]\n",
      " [1.12238 1.12236 0.094   0.075   0.005  ]] \n",
      "\n",
      "[[1.08625    1.08621    0.45       0.62600005 0.1378    ]\n",
      " [1.08623    1.08621    0.075      0.075      0.18385   ]\n",
      " [1.08614    1.08612    0.019      0.15       0.01565   ]\n",
      " [1.08614    1.08612    0.019      0.525      0.0026    ]\n",
      " [1.0861     1.08607    0.01       0.15       0.01905   ]] \n",
      "\n",
      "[[1.08609 1.08607 0.375   0.075   0.25215]\n",
      " [1.08573 1.0857  0.3     0.026   0.0051 ]\n",
      " [1.08572 1.0857  0.3     0.019   0.00505]\n",
      " [1.08559 1.08556 0.075   0.326   0.0544 ]\n",
      " [1.08539 1.08536 0.319   0.075   0.00505]] \n",
      "\n",
      "[[1.125   1.12497 0.01    0.075   0.03065]\n",
      " [1.125   1.12497 0.01    0.15    0.0223 ]\n",
      " [1.125   1.12496 0.27    0.225   0.0115 ]\n",
      " [1.12286 1.12284 0.075   0.06    0.0645 ]\n",
      " [1.12373 1.12372 0.075   0.082   0.16545]]\n"
     ]
    }
   ],
   "source": [
    "# Visual checking the correctness of filling\n",
    "print(X_train[:5,N-1,:], '\\n')\n",
    "print(X_train[-5:,N-1,:], '\\n')\n",
    "print(X_test[:5,N-1,:], '\\n')\n",
    "print(X_test[-5:,N-1,:])"
   ]
  },
  {
   "cell_type": "markdown",
   "metadata": {
    "colab_type": "text",
    "id": "PamRqcffZl_v"
   },
   "source": [
    "#### Creation an answer matrix for the training (y_train) and test (y_test) parts"
   ]
  },
  {
   "cell_type": "code",
   "execution_count": 48,
   "metadata": {},
   "outputs": [
    {
     "name": "stderr",
     "output_type": "stream",
     "text": [
      "100%|██████████| 52422/52422 [00:00<00:00, 1421144.58it/s]"
     ]
    },
    {
     "name": "stdout",
     "output_type": "stream",
     "text": [
      " Outputs train numpy size::         (41937, 1) \n",
      "\n",
      "\n",
      "\n",
      " Outputs test numpy size::         (10485, 1) \n",
      "\n"
     ]
    },
    {
     "name": "stderr",
     "output_type": "stream",
     "text": [
      "\n"
     ]
    }
   ],
   "source": [
    "# form y_train and y_test\n",
    "# Divide Y into two unequal parts: for training (y_train) and for test (y_test)\n",
    "\n",
    "y_train = np.zeros( ( train_end, 1) , dtype= 'float32')\n",
    "y_test  = np.zeros( ( test_end-train_end, 1) , dtype= 'float32')\n",
    "\n",
    "for zz in tqdm(range(test_end)):\n",
    "    if zz < train_end:\n",
    "        y_train[zz,0] = Y[zz,0]\n",
    "    else:\n",
    "        y_test[zz-train_end,0]  = Y[zz,0]    \n",
    "        \n",
    "# print('y_train:', '\\n', y_test)\n",
    "print(\" Outputs train numpy size::        \", y_train.shape, '\\n')\n",
    "print('\\n')\n",
    "\n",
    "# print('X_test:', '\\n', X_test)\n",
    "print(\" Outputs test numpy size::        \", y_test.shape, '\\n')\n"
   ]
  },
  {
   "cell_type": "code",
   "execution_count": 49,
   "metadata": {},
   "outputs": [
    {
     "name": "stdout",
     "output_type": "stream",
     "text": [
      "[ 6. 10. 10. 10.  4.] \n",
      "\n",
      "[4. 4. 4. 4. 4.] \n",
      "\n",
      "[4. 3. 3. 3. 4.] \n",
      "\n",
      "[4. 4. 4. 7. 9.]\n",
      " Outputs train numpy size:          (41937, 1) \n",
      "\n",
      " Outputs test numpy size:           (10485, 1) \n",
      "\n"
     ]
    }
   ],
   "source": [
    "# Visual checking the correctness of filling\n",
    "\n",
    "print(y_train[:5,0], '\\n')\n",
    "print(y_train[-5:,0], '\\n')\n",
    "print(y_test[:5,0], '\\n')\n",
    "print(y_test[-5:,0])\n",
    "\n",
    "print(\" Outputs train numpy size:         \", y_train.shape ,'\\n')\n",
    "print(\" Outputs test numpy size:          \", y_test.shape ,'\\n')"
   ]
  },
  {
   "cell_type": "code",
   "execution_count": 50,
   "metadata": {},
   "outputs": [
    {
     "data": {
      "text/html": [
       "<div>\n",
       "<style scoped>\n",
       "    .dataframe tbody tr th:only-of-type {\n",
       "        vertical-align: middle;\n",
       "    }\n",
       "\n",
       "    .dataframe tbody tr th {\n",
       "        vertical-align: top;\n",
       "    }\n",
       "\n",
       "    .dataframe thead th {\n",
       "        text-align: right;\n",
       "    }\n",
       "</style>\n",
       "<table border=\"1\" class=\"dataframe\">\n",
       "  <thead>\n",
       "    <tr style=\"text-align: right;\">\n",
       "      <th></th>\n",
       "      <th>Ask</th>\n",
       "      <th>Bid</th>\n",
       "      <th>Vol_Bid_N</th>\n",
       "      <th>Vol_Ask_N</th>\n",
       "      <th>DateDelta1_N</th>\n",
       "      <th>Goal</th>\n",
       "      <th>Point</th>\n",
       "      <th>Point1</th>\n",
       "    </tr>\n",
       "  </thead>\n",
       "  <tbody>\n",
       "    <tr>\n",
       "      <th>222</th>\n",
       "      <td>1.12154</td>\n",
       "      <td>1.12151</td>\n",
       "      <td>0.075</td>\n",
       "      <td>0.075</td>\n",
       "      <td>0.00260</td>\n",
       "      <td>6</td>\n",
       "      <td>1</td>\n",
       "      <td>6</td>\n",
       "    </tr>\n",
       "    <tr>\n",
       "      <th>2078</th>\n",
       "      <td>1.12199</td>\n",
       "      <td>1.12197</td>\n",
       "      <td>0.082</td>\n",
       "      <td>0.075</td>\n",
       "      <td>0.00250</td>\n",
       "      <td>10</td>\n",
       "      <td>1</td>\n",
       "      <td>10</td>\n",
       "    </tr>\n",
       "    <tr>\n",
       "      <th>4469</th>\n",
       "      <td>1.12212</td>\n",
       "      <td>1.12209</td>\n",
       "      <td>0.157</td>\n",
       "      <td>0.281</td>\n",
       "      <td>0.00510</td>\n",
       "      <td>10</td>\n",
       "      <td>1</td>\n",
       "      <td>10</td>\n",
       "    </tr>\n",
       "    <tr>\n",
       "      <th>6894</th>\n",
       "      <td>1.12194</td>\n",
       "      <td>1.12191</td>\n",
       "      <td>0.075</td>\n",
       "      <td>0.075</td>\n",
       "      <td>0.03285</td>\n",
       "      <td>10</td>\n",
       "      <td>1</td>\n",
       "      <td>10</td>\n",
       "    </tr>\n",
       "    <tr>\n",
       "      <th>7652</th>\n",
       "      <td>1.12238</td>\n",
       "      <td>1.12236</td>\n",
       "      <td>0.094</td>\n",
       "      <td>0.075</td>\n",
       "      <td>0.00500</td>\n",
       "      <td>4</td>\n",
       "      <td>1</td>\n",
       "      <td>4</td>\n",
       "    </tr>\n",
       "    <tr>\n",
       "      <th>...</th>\n",
       "      <td>...</td>\n",
       "      <td>...</td>\n",
       "      <td>...</td>\n",
       "      <td>...</td>\n",
       "      <td>...</td>\n",
       "      <td>...</td>\n",
       "      <td>...</td>\n",
       "      <td>...</td>\n",
       "    </tr>\n",
       "    <tr>\n",
       "      <th>16570479</th>\n",
       "      <td>1.12500</td>\n",
       "      <td>1.12497</td>\n",
       "      <td>0.010</td>\n",
       "      <td>0.075</td>\n",
       "      <td>0.03065</td>\n",
       "      <td>4</td>\n",
       "      <td>1</td>\n",
       "      <td>4</td>\n",
       "    </tr>\n",
       "    <tr>\n",
       "      <th>16570481</th>\n",
       "      <td>1.12500</td>\n",
       "      <td>1.12497</td>\n",
       "      <td>0.010</td>\n",
       "      <td>0.150</td>\n",
       "      <td>0.02230</td>\n",
       "      <td>4</td>\n",
       "      <td>1</td>\n",
       "      <td>4</td>\n",
       "    </tr>\n",
       "    <tr>\n",
       "      <th>16570482</th>\n",
       "      <td>1.12500</td>\n",
       "      <td>1.12496</td>\n",
       "      <td>0.270</td>\n",
       "      <td>0.225</td>\n",
       "      <td>0.01150</td>\n",
       "      <td>4</td>\n",
       "      <td>1</td>\n",
       "      <td>4</td>\n",
       "    </tr>\n",
       "    <tr>\n",
       "      <th>16579159</th>\n",
       "      <td>1.12286</td>\n",
       "      <td>1.12284</td>\n",
       "      <td>0.075</td>\n",
       "      <td>0.060</td>\n",
       "      <td>0.06450</td>\n",
       "      <td>7</td>\n",
       "      <td>1</td>\n",
       "      <td>7</td>\n",
       "    </tr>\n",
       "    <tr>\n",
       "      <th>16580890</th>\n",
       "      <td>1.12373</td>\n",
       "      <td>1.12372</td>\n",
       "      <td>0.075</td>\n",
       "      <td>0.082</td>\n",
       "      <td>0.16545</td>\n",
       "      <td>9</td>\n",
       "      <td>1</td>\n",
       "      <td>9</td>\n",
       "    </tr>\n",
       "  </tbody>\n",
       "</table>\n",
       "<p>52422 rows × 8 columns</p>\n",
       "</div>"
      ],
      "text/plain": [
       "              Ask      Bid  Vol_Bid_N  Vol_Ask_N  DateDelta1_N  Goal  Point  \\\n",
       "222       1.12154  1.12151      0.075      0.075       0.00260     6      1   \n",
       "2078      1.12199  1.12197      0.082      0.075       0.00250    10      1   \n",
       "4469      1.12212  1.12209      0.157      0.281       0.00510    10      1   \n",
       "6894      1.12194  1.12191      0.075      0.075       0.03285    10      1   \n",
       "7652      1.12238  1.12236      0.094      0.075       0.00500     4      1   \n",
       "...           ...      ...        ...        ...           ...   ...    ...   \n",
       "16570479  1.12500  1.12497      0.010      0.075       0.03065     4      1   \n",
       "16570481  1.12500  1.12497      0.010      0.150       0.02230     4      1   \n",
       "16570482  1.12500  1.12496      0.270      0.225       0.01150     4      1   \n",
       "16579159  1.12286  1.12284      0.075      0.060       0.06450     7      1   \n",
       "16580890  1.12373  1.12372      0.075      0.082       0.16545     9      1   \n",
       "\n",
       "          Point1  \n",
       "222            6  \n",
       "2078          10  \n",
       "4469          10  \n",
       "6894          10  \n",
       "7652           4  \n",
       "...          ...  \n",
       "16570479       4  \n",
       "16570481       4  \n",
       "16570482       4  \n",
       "16579159       7  \n",
       "16580890       9  \n",
       "\n",
       "[52422 rows x 8 columns]"
      ]
     },
     "execution_count": 50,
     "metadata": {},
     "output_type": "execute_result"
    }
   ],
   "source": [
    "data[data['Point'] == 1 ]"
   ]
  },
  {
   "cell_type": "markdown",
   "metadata": {
    "colab": {},
    "colab_type": "code",
    "id": "eBxHXRXYZl__"
   },
   "source": [
    "#### Final size control"
   ]
  },
  {
   "cell_type": "code",
   "execution_count": 51,
   "metadata": {},
   "outputs": [
    {
     "name": "stdout",
     "output_type": "stream",
     "text": [
      "Data for training:\n",
      "X_train:\n",
      "Type:  float32 <class 'numpy.ndarray'> ; Size:  (41937, 200, 5)\n",
      "\n",
      " y_train:\n",
      "Type:  float32 <class 'numpy.ndarray'> ; Size:  (41937, 1)\n",
      "Data for testing:\n",
      "\n",
      " X_test:\n",
      "Type:  float32 <class 'numpy.ndarray'> ; Size:  (10485, 200, 5)\n",
      "\n",
      " y_test:\n",
      "Type:  float32 <class 'numpy.ndarray'> ; Size:  (10485, 1)\n"
     ]
    }
   ],
   "source": [
    "# print X_train, y_train, X_test и y_test\n",
    "\n",
    "print('Data for training:')\n",
    "print(\"X_train:\")\n",
    "print(\"Type: \", X_train.dtype,  type(X_train), \"; Size: \", X_train.shape)\n",
    "\n",
    "print(\"\\n\",\"y_train:\")\n",
    "print(\"Type: \", y_train.dtype,  type(y_train), \"; Size: \", y_train.shape)\n",
    "\n",
    "print('Data for testing:')\n",
    "print(\"\\n\",\"X_test:\")\n",
    "print(\"Type: \", X_test.dtype, type(X_test), \"; Size: \", X_test.shape)\n",
    "\n",
    "print(\"\\n\",\"y_test:\")\n",
    "print(\"Type: \", y_test.dtype,  type(y_test), \"; Size: \", y_test.shape)"
   ]
  },
  {
   "cell_type": "code",
   "execution_count": 52,
   "metadata": {},
   "outputs": [
    {
     "name": "stdout",
     "output_type": "stream",
     "text": [
      "<class 'pandas.core.frame.DataFrame'>\n",
      "Int64Index: 52422 entries, 222 to 16580890\n",
      "Data columns (total 7 columns):\n",
      " #   Column        Non-Null Count  Dtype  \n",
      "---  ------        --------------  -----  \n",
      " 0   Ask           52422 non-null  float32\n",
      " 1   Bid           52422 non-null  float32\n",
      " 2   Vol_Bid_N     52422 non-null  float32\n",
      " 3   Vol_Ask_N     52422 non-null  float32\n",
      " 4   DateDelta1_N  52422 non-null  float32\n",
      " 5   Point         52422 non-null  int8   \n",
      " 6   Point1        52422 non-null  int8   \n",
      "dtypes: float32(5), int8(2)\n",
      "memory usage: 1.5 MB\n"
     ]
    }
   ],
   "source": [
    "data_for_array_short = data_for_array[data_for_array['Point'] == 1]\n",
    "\n",
    "data_for_array_short.info()"
   ]
  },
  {
   "cell_type": "code",
   "execution_count": 53,
   "metadata": {},
   "outputs": [
    {
     "name": "stdout",
     "output_type": "stream",
     "text": [
      "array_short_train.dtypes Ask             float32\n",
      "Bid             float32\n",
      "Vol_Bid_N       float32\n",
      "Vol_Ask_N       float32\n",
      "DateDelta1_N    float32\n",
      "Point              int8\n",
      "Point1             int8\n",
      "dtype: object\n",
      "<class 'pandas.core.frame.DataFrame'>\n",
      "Int64Index: 41938 entries, 222 to 11341974\n",
      "Data columns (total 7 columns):\n",
      " #   Column        Non-Null Count  Dtype  \n",
      "---  ------        --------------  -----  \n",
      " 0   Ask           41938 non-null  float32\n",
      " 1   Bid           41938 non-null  float32\n",
      " 2   Vol_Bid_N     41938 non-null  float32\n",
      " 3   Vol_Ask_N     41938 non-null  float32\n",
      " 4   DateDelta1_N  41938 non-null  float32\n",
      " 5   Point         41938 non-null  int8   \n",
      " 6   Point1        41938 non-null  int8   \n",
      "dtypes: float32(5), int8(2)\n",
      "memory usage: 1.2 MB\n"
     ]
    }
   ],
   "source": [
    "\n",
    "indexes_to_keep = set(np.array(range(0,train_end+1)))\n",
    "\n",
    "data_for_array_short_train  = data_for_array_short.take(list(indexes_to_keep))\n",
    "\n",
    "print('array_short_train.dtypes', data_for_array_short_train.dtypes)\n",
    "\n",
    "data_for_array_short_train.info()"
   ]
  },
  {
   "cell_type": "code",
   "execution_count": 54,
   "metadata": {},
   "outputs": [
    {
     "name": "stdout",
     "output_type": "stream",
     "text": [
      "array_short_test.dtypes Ask             float32\n",
      "Bid             float32\n",
      "Vol_Bid_N       float32\n",
      "Vol_Ask_N       float32\n",
      "DateDelta1_N    float32\n",
      "Point              int8\n",
      "Point1             int8\n",
      "dtype: object\n",
      "<class 'pandas.core.frame.DataFrame'>\n",
      "Int64Index: 10484 entries, 11350534 to 16580890\n",
      "Data columns (total 7 columns):\n",
      " #   Column        Non-Null Count  Dtype  \n",
      "---  ------        --------------  -----  \n",
      " 0   Ask           10484 non-null  float32\n",
      " 1   Bid           10484 non-null  float32\n",
      " 2   Vol_Bid_N     10484 non-null  float32\n",
      " 3   Vol_Ask_N     10484 non-null  float32\n",
      " 4   DateDelta1_N  10484 non-null  float32\n",
      " 5   Point         10484 non-null  int8   \n",
      " 6   Point1        10484 non-null  int8   \n",
      "dtypes: float32(5), int8(2)\n",
      "memory usage: 307.1 KB\n"
     ]
    }
   ],
   "source": [
    "\n",
    "indexes_to_keep = set(np.array(range(test_start,L)))\n",
    "\n",
    "data_for_array_short_test  = data_for_array_short.take(list(indexes_to_keep))\n",
    "\n",
    "print('array_short_test.dtypes', data_for_array_short_test.dtypes)\n",
    "\n",
    "data_for_array_short_test.info()"
   ]
  },
  {
   "cell_type": "code",
   "execution_count": 55,
   "metadata": {},
   "outputs": [
    {
     "data": {
      "text/plain": [
       "12    10478\n",
       "4      9942\n",
       "3      7469\n",
       "13     6958\n",
       "6      1000\n",
       "11      999\n",
       "10      999\n",
       "5       999\n",
       "8       756\n",
       "2       698\n",
       "14      675\n",
       "9       291\n",
       "7       269\n",
       "15      231\n",
       "1       169\n",
       "0         5\n",
       "Name: Point1, dtype: int64"
      ]
     },
     "execution_count": 55,
     "metadata": {},
     "output_type": "execute_result"
    }
   ],
   "source": [
    "data_for_array_short_train['Point1'].value_counts()"
   ]
  },
  {
   "cell_type": "code",
   "execution_count": 56,
   "metadata": {},
   "outputs": [
    {
     "data": {
      "text/plain": [
       "12    2871\n",
       "4     2641\n",
       "13    2124\n",
       "3     1651\n",
       "14     343\n",
       "8      243\n",
       "2      234\n",
       "9      148\n",
       "7      146\n",
       "15      69\n",
       "1       14\n",
       "Name: Point1, dtype: int64"
      ]
     },
     "execution_count": 56,
     "metadata": {},
     "output_type": "execute_result"
    }
   ],
   "source": [
    "data_for_array_short_test['Point1'].value_counts()"
   ]
  },
  {
   "cell_type": "markdown",
   "metadata": {},
   "source": [
    "### numpay for Trend / Flat classification"
   ]
  },
  {
   "cell_type": "markdown",
   "metadata": {},
   "source": [
    "### short Probability vector (Trend/Flat) \n",
    "### 0, 1, 2, 3, 4,    12, 13, 14, 15, 16  = Trend  = (1) \n",
    "### 5, 6, 7, 8, 9, 10, 11                 = Flat   = (0) \n",
    "\n"
   ]
  },
  {
   "cell_type": "code",
   "execution_count": 57,
   "metadata": {},
   "outputs": [
    {
     "name": "stderr",
     "output_type": "stream",
     "text": [
      "100%|██████████| 41937/41937 [00:00<00:00, 140165.08it/s]\n",
      "100%|██████████| 10485/10485 [00:00<00:00, 136453.35it/s]\n"
     ]
    }
   ],
   "source": [
    "for i in tqdm(range(train_end)):\n",
    "    if ((y_train[i,0] <= 4) | (y_train[i,0] >= 12)):\n",
    "        y_train[i,0] = 1\n",
    "        \n",
    "    if ((y_train[i,0] >= 5) & (y_train[i,0] <= 11)):\n",
    "        y_train[i,0] = 0  \n",
    "    else:\n",
    "        continue    \n",
    "        \n",
    "for i in tqdm(range(0, test_end-test_start+1)):\n",
    "    if ((y_test[i,0] <= 4) | (y_test[i,0] >= 12)):\n",
    "        y_test[i,0] = 1\n",
    "        \n",
    "    if ((y_test[i,0] >= 5) & (y_test[i,0] <= 11)):\n",
    "        y_test[i,0] = 0  \n",
    "    else:\n",
    "        continue "
   ]
  },
  {
   "cell_type": "code",
   "execution_count": 58,
   "metadata": {},
   "outputs": [
    {
     "name": "stderr",
     "output_type": "stream",
     "text": [
      "100%|██████████| 41937/41937 [00:00<00:00, 391953.38it/s]\n",
      "100%|██████████| 10485/10485 [00:00<00:00, 410864.36it/s]\n"
     ]
    }
   ],
   "source": [
    "for i in tqdm(range(train_end)):\n",
    "    if (y_train[i,0] >= 2):\n",
    "        print('Allarm')\n",
    "        print(i)\n",
    "    else:\n",
    "        continue    \n",
    "        \n",
    "for i in tqdm(range(0, test_end-test_start+1)):\n",
    "    if (y_test[i,0] >= 2):\n",
    "        print('Allarm')\n",
    "        print(i)\n",
    "    else:\n",
    "        continue   "
   ]
  },
  {
   "cell_type": "code",
   "execution_count": 59,
   "metadata": {},
   "outputs": [
    {
     "name": "stdout",
     "output_type": "stream",
     "text": [
      "[1.]\n",
      "[0. 1.]\n"
     ]
    }
   ],
   "source": [
    "# Probability vector -> categorical\n",
    "Y_train = tf.keras.utils.to_categorical(y_train,2)\n",
    "Y_test  = tf.keras.utils.to_categorical(y_test,2)\n",
    "\n",
    "#checking\n",
    "n = 100\n",
    "print(y_train[n])\n",
    "print(Y_train[n])"
   ]
  },
  {
   "cell_type": "code",
   "execution_count": 60,
   "metadata": {},
   "outputs": [],
   "source": [
    "classes=['0 is Flat', '1 is Trend']"
   ]
  },
  {
   "cell_type": "code",
   "execution_count": null,
   "metadata": {},
   "outputs": [],
   "source": []
  },
  {
   "cell_type": "code",
   "execution_count": 61,
   "metadata": {},
   "outputs": [],
   "source": [
    "from tensorflow.keras.callbacks import EarlyStopping\n",
    "from tensorflow.keras.callbacks import ModelCheckpoint"
   ]
  },
  {
   "cell_type": "markdown",
   "metadata": {},
   "source": [
    "#### Minimisation of 'binary_crossentropy'"
   ]
  },
  {
   "cell_type": "code",
   "execution_count": null,
   "metadata": {},
   "outputs": [],
   "source": []
  },
  {
   "cell_type": "markdown",
   "metadata": {},
   "source": [
    "## LSTM"
   ]
  },
  {
   "cell_type": "code",
   "execution_count": 88,
   "metadata": {},
   "outputs": [
    {
     "name": "stdout",
     "output_type": "stream",
     "text": [
      "Model: \"sequential_3\"\n",
      "_________________________________________________________________\n",
      " Layer (type)                Output Shape              Param #   \n",
      "=================================================================\n",
      " lstm_2 (LSTM)               (None, 32)                4864      \n",
      "                                                                 \n",
      " dense_3 (Dense)             (None, 1)                 33        \n",
      "                                                                 \n",
      "=================================================================\n",
      "Total params: 4,897\n",
      "Trainable params: 4,897\n",
      "Non-trainable params: 0\n",
      "_________________________________________________________________\n",
      "None\n"
     ]
    }
   ],
   "source": [
    "# Create GRU model\n",
    "model = keras.Sequential([\n",
    "\n",
    "    keras.layers.LSTM(32, input_shape=(200, 5)),\n",
    "    \n",
    "    #keras.layers.Dense(1)\n",
    "    keras.layers.Dense(1, activation=tf.nn.sigmoid)\n",
    "    \n",
    "])\n",
    "\n",
    "print(model.summary())\n"
   ]
  },
  {
   "cell_type": "markdown",
   "metadata": {},
   "source": [
    "#### Callbacks"
   ]
  },
  {
   "cell_type": "code",
   "execution_count": 89,
   "metadata": {},
   "outputs": [],
   "source": [
    "es = EarlyStopping(monitor='val_binary_crossentropy', mode='min', patience=30, verbose=1)"
   ]
  },
  {
   "cell_type": "code",
   "execution_count": 91,
   "metadata": {},
   "outputs": [],
   "source": [
    "mc = ModelCheckpoint('model_Trend-Flat_loss_Batch200_Epoch100_Pat30_lstm-{epoch:03d}_acc-{val_accuracy:.5f}_loss-{val_binary_crossentropy:.5f}.h5', \n",
    "                     monitor='val_accuracy', mode='max', verbose=1, save_best_only=False)"
   ]
  },
  {
   "cell_type": "markdown",
   "metadata": {},
   "source": [
    "#### Compile the model"
   ]
  },
  {
   "cell_type": "code",
   "execution_count": 92,
   "metadata": {},
   "outputs": [],
   "source": [
    "model.compile(optimizer=keras.optimizers.RMSprop(), loss='binary_crossentropy', \n",
    "              metrics=['accuracy','Precision','Recall','binary_crossentropy'])  "
   ]
  },
  {
   "cell_type": "markdown",
   "metadata": {},
   "source": [
    "#### Training NN"
   ]
  },
  {
   "cell_type": "code",
   "execution_count": 93,
   "metadata": {},
   "outputs": [
    {
     "name": "stdout",
     "output_type": "stream",
     "text": [
      "Epoch 1/100\n",
      "147/147 [==============================] - ETA: 0s - loss: 0.3947 - accuracy: 0.8520 - precision: 0.8534 - recall: 0.9971 - binary_crossentropy: 0.3947\n",
      "Epoch 1: saving model to model_Trend-Flat_loss_Batch200_Epoch100_Pat30_lstm-001_acc-0.91051_loss-0.43017.h5\n",
      "147/147 [==============================] - 18s 106ms/step - loss: 0.3947 - accuracy: 0.8520 - precision: 0.8534 - recall: 0.9971 - binary_crossentropy: 0.3947 - val_loss: 0.4302 - val_accuracy: 0.9105 - val_precision: 0.9278 - val_recall: 0.9798 - val_binary_crossentropy: 0.4302\n",
      "Epoch 2/100\n",
      "147/147 [==============================] - ETA: 0s - loss: 0.3483 - accuracy: 0.8631 - precision: 0.8805 - recall: 0.9707 - binary_crossentropy: 0.3483\n",
      "Epoch 2: saving model to model_Trend-Flat_loss_Batch200_Epoch100_Pat30_lstm-002_acc-0.76864_loss-0.43325.h5\n",
      "147/147 [==============================] - 16s 109ms/step - loss: 0.3483 - accuracy: 0.8631 - precision: 0.8805 - recall: 0.9707 - binary_crossentropy: 0.3483 - val_loss: 0.4332 - val_accuracy: 0.7686 - val_precision: 0.9266 - val_recall: 0.8151 - val_binary_crossentropy: 0.4332\n",
      "Epoch 3/100\n",
      "147/147 [==============================] - ETA: 0s - loss: 0.3361 - accuracy: 0.8723 - precision: 0.8983 - recall: 0.9582 - binary_crossentropy: 0.3361\n",
      "Epoch 3: saving model to model_Trend-Flat_loss_Batch200_Epoch100_Pat30_lstm-003_acc-0.85217_loss-0.40057.h5\n",
      "147/147 [==============================] - 16s 106ms/step - loss: 0.3361 - accuracy: 0.8723 - precision: 0.8983 - recall: 0.9582 - binary_crossentropy: 0.3361 - val_loss: 0.4006 - val_accuracy: 0.8522 - val_precision: 0.9282 - val_recall: 0.9111 - val_binary_crossentropy: 0.4006\n",
      "Epoch 4/100\n",
      "147/147 [==============================] - ETA: 0s - loss: 0.3289 - accuracy: 0.8804 - precision: 0.8996 - recall: 0.9673 - binary_crossentropy: 0.3289\n",
      "Epoch 4: saving model to model_Trend-Flat_loss_Batch200_Epoch100_Pat30_lstm-004_acc-0.59696_loss-0.72909.h5\n",
      "147/147 [==============================] - 15s 105ms/step - loss: 0.3289 - accuracy: 0.8804 - precision: 0.8996 - recall: 0.9673 - binary_crossentropy: 0.3289 - val_loss: 0.7291 - val_accuracy: 0.5970 - val_precision: 0.9242 - val_recall: 0.6160 - val_binary_crossentropy: 0.7291\n",
      "Epoch 5/100\n",
      "147/147 [==============================] - ETA: 0s - loss: 0.3250 - accuracy: 0.8847 - precision: 0.9015 - recall: 0.9704 - binary_crossentropy: 0.3250\n",
      "Epoch 5: saving model to model_Trend-Flat_loss_Batch200_Epoch100_Pat30_lstm-005_acc-0.77833_loss-0.48841.h5\n",
      "147/147 [==============================] - 15s 105ms/step - loss: 0.3250 - accuracy: 0.8847 - precision: 0.9015 - recall: 0.9704 - binary_crossentropy: 0.3250 - val_loss: 0.4884 - val_accuracy: 0.7783 - val_precision: 0.9292 - val_recall: 0.8237 - val_binary_crossentropy: 0.4884\n",
      "Epoch 6/100\n",
      "147/147 [==============================] - ETA: 0s - loss: 0.3230 - accuracy: 0.8849 - precision: 0.9034 - recall: 0.9682 - binary_crossentropy: 0.3230\n",
      "Epoch 6: saving model to model_Trend-Flat_loss_Batch200_Epoch100_Pat30_lstm-006_acc-0.81911_loss-0.41939.h5\n",
      "147/147 [==============================] - 16s 111ms/step - loss: 0.3230 - accuracy: 0.8849 - precision: 0.9034 - recall: 0.9682 - binary_crossentropy: 0.3230 - val_loss: 0.4194 - val_accuracy: 0.8191 - val_precision: 0.9292 - val_recall: 0.8714 - val_binary_crossentropy: 0.4194\n",
      "Epoch 7/100\n",
      "147/147 [==============================] - ETA: 0s - loss: 0.3192 - accuracy: 0.8873 - precision: 0.9067 - recall: 0.9669 - binary_crossentropy: 0.3192\n",
      "Epoch 7: saving model to model_Trend-Flat_loss_Batch200_Epoch100_Pat30_lstm-007_acc-0.85328_loss-0.38619.h5\n",
      "147/147 [==============================] - 16s 107ms/step - loss: 0.3192 - accuracy: 0.8873 - precision: 0.9067 - recall: 0.9669 - binary_crossentropy: 0.3192 - val_loss: 0.3862 - val_accuracy: 0.8533 - val_precision: 0.9294 - val_recall: 0.9110 - val_binary_crossentropy: 0.3862\n",
      "Epoch 8/100\n",
      "147/147 [==============================] - ETA: 0s - loss: 0.3182 - accuracy: 0.8888 - precision: 0.9080 - recall: 0.9671 - binary_crossentropy: 0.3182\n",
      "Epoch 8: saving model to model_Trend-Flat_loss_Batch200_Epoch100_Pat30_lstm-008_acc-0.64115_loss-0.60873.h5\n",
      "147/147 [==============================] - 16s 107ms/step - loss: 0.3182 - accuracy: 0.8888 - precision: 0.9080 - recall: 0.9671 - binary_crossentropy: 0.3182 - val_loss: 0.6087 - val_accuracy: 0.6412 - val_precision: 0.9255 - val_recall: 0.6668 - val_binary_crossentropy: 0.6087\n",
      "Epoch 9/100\n",
      "147/147 [==============================] - ETA: 0s - loss: 0.3175 - accuracy: 0.8897 - precision: 0.9080 - recall: 0.9684 - binary_crossentropy: 0.3175\n",
      "Epoch 9: saving model to model_Trend-Flat_loss_Batch200_Epoch100_Pat30_lstm-009_acc-0.67255_loss-0.58869.h5\n",
      "147/147 [==============================] - 16s 106ms/step - loss: 0.3175 - accuracy: 0.8897 - precision: 0.9080 - recall: 0.9684 - binary_crossentropy: 0.3175 - val_loss: 0.5887 - val_accuracy: 0.6725 - val_precision: 0.9270 - val_recall: 0.7022 - val_binary_crossentropy: 0.5887\n",
      "Epoch 10/100\n",
      "147/147 [==============================] - ETA: 0s - loss: 0.3133 - accuracy: 0.8911 - precision: 0.9116 - recall: 0.9656 - binary_crossentropy: 0.3133\n",
      "Epoch 10: saving model to model_Trend-Flat_loss_Batch200_Epoch100_Pat30_lstm-010_acc-0.81259_loss-0.42635.h5\n",
      "147/147 [==============================] - 16s 112ms/step - loss: 0.3133 - accuracy: 0.8911 - precision: 0.9116 - recall: 0.9656 - binary_crossentropy: 0.3133 - val_loss: 0.4263 - val_accuracy: 0.8126 - val_precision: 0.9294 - val_recall: 0.8636 - val_binary_crossentropy: 0.4263\n",
      "Epoch 11/100\n",
      "147/147 [==============================] - ETA: 0s - loss: 0.3107 - accuracy: 0.8917 - precision: 0.9123 - recall: 0.9654 - binary_crossentropy: 0.3107\n",
      "Epoch 11: saving model to model_Trend-Flat_loss_Batch200_Epoch100_Pat30_lstm-011_acc-0.68558_loss-0.56013.h5\n",
      "147/147 [==============================] - 15s 105ms/step - loss: 0.3107 - accuracy: 0.8917 - precision: 0.9123 - recall: 0.9654 - binary_crossentropy: 0.3107 - val_loss: 0.5601 - val_accuracy: 0.6856 - val_precision: 0.9278 - val_recall: 0.7168 - val_binary_crossentropy: 0.5601\n",
      "Epoch 12/100\n",
      "147/147 [==============================] - ETA: 0s - loss: 0.3110 - accuracy: 0.8915 - precision: 0.9135 - recall: 0.9636 - binary_crossentropy: 0.3110\n",
      "Epoch 12: saving model to model_Trend-Flat_loss_Batch200_Epoch100_Pat30_lstm-012_acc-0.75409_loss-0.48747.h5\n",
      "147/147 [==============================] - 16s 106ms/step - loss: 0.3110 - accuracy: 0.8915 - precision: 0.9135 - recall: 0.9636 - binary_crossentropy: 0.3110 - val_loss: 0.4875 - val_accuracy: 0.7541 - val_precision: 0.9268 - val_recall: 0.7979 - val_binary_crossentropy: 0.4875\n",
      "Epoch 13/100\n",
      "147/147 [==============================] - ETA: 0s - loss: 0.3113 - accuracy: 0.8911 - precision: 0.9124 - recall: 0.9645 - binary_crossentropy: 0.3113\n",
      "Epoch 13: saving model to model_Trend-Flat_loss_Batch200_Epoch100_Pat30_lstm-013_acc-0.81489_loss-0.40628.h5\n",
      "147/147 [==============================] - 16s 107ms/step - loss: 0.3113 - accuracy: 0.8911 - precision: 0.9124 - recall: 0.9645 - binary_crossentropy: 0.3113 - val_loss: 0.4063 - val_accuracy: 0.8149 - val_precision: 0.9289 - val_recall: 0.8668 - val_binary_crossentropy: 0.4063\n",
      "Epoch 14/100\n",
      "147/147 [==============================] - ETA: 0s - loss: 0.3096 - accuracy: 0.8934 - precision: 0.9138 - recall: 0.9657 - binary_crossentropy: 0.3096\n",
      "Epoch 14: saving model to model_Trend-Flat_loss_Batch200_Epoch100_Pat30_lstm-014_acc-0.82674_loss-0.40674.h5\n",
      "147/147 [==============================] - 17s 115ms/step - loss: 0.3096 - accuracy: 0.8934 - precision: 0.9138 - recall: 0.9657 - binary_crossentropy: 0.3096 - val_loss: 0.4067 - val_accuracy: 0.8267 - val_precision: 0.9288 - val_recall: 0.8807 - val_binary_crossentropy: 0.4067\n",
      "Epoch 15/100\n",
      "147/147 [==============================] - ETA: 0s - loss: 0.3132 - accuracy: 0.8911 - precision: 0.9098 - recall: 0.9679 - binary_crossentropy: 0.3132\n",
      "Epoch 15: saving model to model_Trend-Flat_loss_Batch200_Epoch100_Pat30_lstm-015_acc-0.66579_loss-0.62489.h5\n",
      "147/147 [==============================] - 16s 109ms/step - loss: 0.3132 - accuracy: 0.8911 - precision: 0.9098 - recall: 0.9679 - binary_crossentropy: 0.3132 - val_loss: 0.6249 - val_accuracy: 0.6658 - val_precision: 0.9268 - val_recall: 0.6945 - val_binary_crossentropy: 0.6249\n"
     ]
    },
    {
     "name": "stdout",
     "output_type": "stream",
     "text": [
      "Epoch 16/100\n",
      "147/147 [==============================] - ETA: 0s - loss: 0.3079 - accuracy: 0.8931 - precision: 0.9138 - recall: 0.9654 - binary_crossentropy: 0.3079\n",
      "Epoch 16: saving model to model_Trend-Flat_loss_Batch200_Epoch100_Pat30_lstm-016_acc-0.64743_loss-0.58832.h5\n",
      "147/147 [==============================] - 16s 107ms/step - loss: 0.3079 - accuracy: 0.8931 - precision: 0.9138 - recall: 0.9654 - binary_crossentropy: 0.3079 - val_loss: 0.5883 - val_accuracy: 0.6474 - val_precision: 0.9260 - val_recall: 0.6737 - val_binary_crossentropy: 0.5883\n",
      "Epoch 17/100\n",
      "147/147 [==============================] - ETA: 0s - loss: 0.3090 - accuracy: 0.8934 - precision: 0.9154 - recall: 0.9637 - binary_crossentropy: 0.3090\n",
      "Epoch 17: saving model to model_Trend-Flat_loss_Batch200_Epoch100_Pat30_lstm-017_acc-0.77436_loss-0.45058.h5\n",
      "147/147 [==============================] - 16s 108ms/step - loss: 0.3090 - accuracy: 0.8934 - precision: 0.9154 - recall: 0.9637 - binary_crossentropy: 0.3090 - val_loss: 0.4506 - val_accuracy: 0.7744 - val_precision: 0.9286 - val_recall: 0.8197 - val_binary_crossentropy: 0.4506\n",
      "Epoch 18/100\n",
      "147/147 [==============================] - ETA: 0s - loss: 0.3079 - accuracy: 0.8926 - precision: 0.9141 - recall: 0.9643 - binary_crossentropy: 0.3079\n",
      "Epoch 18: saving model to model_Trend-Flat_loss_Batch200_Epoch100_Pat30_lstm-018_acc-0.79407_loss-0.42114.h5\n",
      "147/147 [==============================] - 17s 114ms/step - loss: 0.3079 - accuracy: 0.8926 - precision: 0.9141 - recall: 0.9643 - binary_crossentropy: 0.3079 - val_loss: 0.4211 - val_accuracy: 0.7941 - val_precision: 0.9297 - val_recall: 0.8416 - val_binary_crossentropy: 0.4211\n",
      "Epoch 19/100\n",
      "147/147 [==============================] - ETA: 0s - loss: 0.3086 - accuracy: 0.8928 - precision: 0.9137 - recall: 0.9650 - binary_crossentropy: 0.3086\n",
      "Epoch 19: saving model to model_Trend-Flat_loss_Batch200_Epoch100_Pat30_lstm-019_acc-0.77047_loss-0.44844.h5\n",
      "147/147 [==============================] - 16s 108ms/step - loss: 0.3086 - accuracy: 0.8928 - precision: 0.9137 - recall: 0.9650 - binary_crossentropy: 0.3086 - val_loss: 0.4484 - val_accuracy: 0.7705 - val_precision: 0.9269 - val_recall: 0.8170 - val_binary_crossentropy: 0.4484\n",
      "Epoch 20/100\n",
      "147/147 [==============================] - ETA: 0s - loss: 0.3067 - accuracy: 0.8930 - precision: 0.9147 - recall: 0.9640 - binary_crossentropy: 0.3067\n",
      "Epoch 20: saving model to model_Trend-Flat_loss_Batch200_Epoch100_Pat30_lstm-020_acc-0.77055_loss-0.45703.h5\n",
      "147/147 [==============================] - 16s 107ms/step - loss: 0.3067 - accuracy: 0.8930 - precision: 0.9147 - recall: 0.9640 - binary_crossentropy: 0.3067 - val_loss: 0.4570 - val_accuracy: 0.7705 - val_precision: 0.9273 - val_recall: 0.8166 - val_binary_crossentropy: 0.4570\n",
      "Epoch 21/100\n",
      "147/147 [==============================] - ETA: 0s - loss: 0.3054 - accuracy: 0.8932 - precision: 0.9134 - recall: 0.9660 - binary_crossentropy: 0.3054\n",
      "Epoch 21: saving model to model_Trend-Flat_loss_Batch200_Epoch100_Pat30_lstm-021_acc-0.74249_loss-0.50208.h5\n",
      "147/147 [==============================] - 17s 113ms/step - loss: 0.3054 - accuracy: 0.8932 - precision: 0.9134 - recall: 0.9660 - binary_crossentropy: 0.3054 - val_loss: 0.5021 - val_accuracy: 0.7425 - val_precision: 0.9271 - val_recall: 0.7840 - val_binary_crossentropy: 0.5021\n",
      "Epoch 22/100\n",
      "147/147 [==============================] - ETA: 0s - loss: 0.3049 - accuracy: 0.8947 - precision: 0.9137 - recall: 0.9674 - binary_crossentropy: 0.3049\n",
      "Epoch 22: saving model to model_Trend-Flat_loss_Batch200_Epoch100_Pat30_lstm-022_acc-0.68979_loss-0.56459.h5\n",
      "147/147 [==============================] - 16s 109ms/step - loss: 0.3049 - accuracy: 0.8947 - precision: 0.9137 - recall: 0.9674 - binary_crossentropy: 0.3049 - val_loss: 0.5646 - val_accuracy: 0.6898 - val_precision: 0.9274 - val_recall: 0.7221 - val_binary_crossentropy: 0.5646\n",
      "Epoch 23/100\n",
      "147/147 [==============================] - ETA: 0s - loss: 0.3055 - accuracy: 0.8932 - precision: 0.9142 - recall: 0.9650 - binary_crossentropy: 0.3055\n",
      "Epoch 23: saving model to model_Trend-Flat_loss_Batch200_Epoch100_Pat30_lstm-023_acc-0.78032_loss-0.46278.h5\n",
      "147/147 [==============================] - 16s 109ms/step - loss: 0.3055 - accuracy: 0.8932 - precision: 0.9142 - recall: 0.9650 - binary_crossentropy: 0.3055 - val_loss: 0.4628 - val_accuracy: 0.7803 - val_precision: 0.9279 - val_recall: 0.8274 - val_binary_crossentropy: 0.4628\n",
      "Epoch 24/100\n",
      "147/147 [==============================] - ETA: 0s - loss: 0.3048 - accuracy: 0.8939 - precision: 0.9143 - recall: 0.9657 - binary_crossentropy: 0.3048\n",
      "Epoch 24: saving model to model_Trend-Flat_loss_Batch200_Epoch100_Pat30_lstm-024_acc-0.71960_loss-0.51269.h5\n",
      "147/147 [==============================] - 16s 107ms/step - loss: 0.3048 - accuracy: 0.8939 - precision: 0.9143 - recall: 0.9657 - binary_crossentropy: 0.3048 - val_loss: 0.5127 - val_accuracy: 0.7196 - val_precision: 0.9274 - val_recall: 0.7570 - val_binary_crossentropy: 0.5127\n",
      "Epoch 25/100\n",
      "147/147 [==============================] - ETA: 0s - loss: 0.3053 - accuracy: 0.8936 - precision: 0.9132 - recall: 0.9668 - binary_crossentropy: 0.3053\n",
      "Epoch 25: saving model to model_Trend-Flat_loss_Batch200_Epoch100_Pat30_lstm-025_acc-0.73645_loss-0.52415.h5\n",
      "147/147 [==============================] - 17s 115ms/step - loss: 0.3053 - accuracy: 0.8936 - precision: 0.9132 - recall: 0.9668 - binary_crossentropy: 0.3053 - val_loss: 0.5242 - val_accuracy: 0.7364 - val_precision: 0.9274 - val_recall: 0.7766 - val_binary_crossentropy: 0.5242\n",
      "Epoch 26/100\n",
      "147/147 [==============================] - ETA: 0s - loss: 0.3045 - accuracy: 0.8944 - precision: 0.9127 - recall: 0.9684 - binary_crossentropy: 0.3045\n",
      "Epoch 26: saving model to model_Trend-Flat_loss_Batch200_Epoch100_Pat30_lstm-026_acc-0.71435_loss-0.54088.h5\n",
      "147/147 [==============================] - 16s 108ms/step - loss: 0.3045 - accuracy: 0.8944 - precision: 0.9127 - recall: 0.9684 - binary_crossentropy: 0.3045 - val_loss: 0.5409 - val_accuracy: 0.7144 - val_precision: 0.9269 - val_recall: 0.7512 - val_binary_crossentropy: 0.5409\n",
      "Epoch 27/100\n",
      "147/147 [==============================] - ETA: 0s - loss: 0.3050 - accuracy: 0.8945 - precision: 0.9149 - recall: 0.9657 - binary_crossentropy: 0.3050\n",
      "Epoch 27: saving model to model_Trend-Flat_loss_Batch200_Epoch100_Pat30_lstm-027_acc-0.72175_loss-0.52211.h5\n",
      "147/147 [==============================] - 16s 106ms/step - loss: 0.3050 - accuracy: 0.8945 - precision: 0.9149 - recall: 0.9657 - binary_crossentropy: 0.3050 - val_loss: 0.5221 - val_accuracy: 0.7217 - val_precision: 0.9270 - val_recall: 0.7598 - val_binary_crossentropy: 0.5221\n",
      "Epoch 28/100\n",
      "147/147 [==============================] - ETA: 0s - loss: 0.3038 - accuracy: 0.8938 - precision: 0.9147 - recall: 0.9651 - binary_crossentropy: 0.3038\n",
      "Epoch 28: saving model to model_Trend-Flat_loss_Batch200_Epoch100_Pat30_lstm-028_acc-0.79510_loss-0.43362.h5\n",
      "147/147 [==============================] - 16s 108ms/step - loss: 0.3038 - accuracy: 0.8938 - precision: 0.9147 - recall: 0.9651 - binary_crossentropy: 0.3038 - val_loss: 0.4336 - val_accuracy: 0.7951 - val_precision: 0.9280 - val_recall: 0.8446 - val_binary_crossentropy: 0.4336\n",
      "Epoch 29/100\n",
      "147/147 [==============================] - ETA: 0s - loss: 0.3109 - accuracy: 0.8928 - precision: 0.9104 - recall: 0.9692 - binary_crossentropy: 0.3109\n",
      "Epoch 29: saving model to model_Trend-Flat_loss_Batch200_Epoch100_Pat30_lstm-029_acc-0.69552_loss-0.55636.h5\n",
      "147/147 [==============================] - 17s 117ms/step - loss: 0.3109 - accuracy: 0.8928 - precision: 0.9104 - recall: 0.9692 - binary_crossentropy: 0.3109 - val_loss: 0.5564 - val_accuracy: 0.6955 - val_precision: 0.9264 - val_recall: 0.7297 - val_binary_crossentropy: 0.5564\n",
      "Epoch 30/100\n",
      "147/147 [==============================] - ETA: 0s - loss: 0.3033 - accuracy: 0.8951 - precision: 0.9152 - recall: 0.9661 - binary_crossentropy: 0.3033\n",
      "Epoch 30: saving model to model_Trend-Flat_loss_Batch200_Epoch100_Pat30_lstm-030_acc-0.72524_loss-0.52282.h5\n",
      "147/147 [==============================] - 16s 110ms/step - loss: 0.3033 - accuracy: 0.8951 - precision: 0.9152 - recall: 0.9661 - binary_crossentropy: 0.3033 - val_loss: 0.5228 - val_accuracy: 0.7252 - val_precision: 0.9268 - val_recall: 0.7641 - val_binary_crossentropy: 0.5228\n"
     ]
    },
    {
     "name": "stdout",
     "output_type": "stream",
     "text": [
      "Epoch 31/100\n",
      "147/147 [==============================] - ETA: 0s - loss: 0.3043 - accuracy: 0.8939 - precision: 0.9149 - recall: 0.9649 - binary_crossentropy: 0.3043\n",
      "Epoch 31: saving model to model_Trend-Flat_loss_Batch200_Epoch100_Pat30_lstm-031_acc-0.78708_loss-0.44755.h5\n",
      "147/147 [==============================] - 16s 109ms/step - loss: 0.3043 - accuracy: 0.8939 - precision: 0.9149 - recall: 0.9649 - binary_crossentropy: 0.3043 - val_loss: 0.4476 - val_accuracy: 0.7871 - val_precision: 0.9273 - val_recall: 0.8360 - val_binary_crossentropy: 0.4476\n",
      "Epoch 32/100\n",
      "147/147 [==============================] - ETA: 0s - loss: 0.3035 - accuracy: 0.8954 - precision: 0.9150 - recall: 0.9667 - binary_crossentropy: 0.3035\n",
      "Epoch 32: saving model to model_Trend-Flat_loss_Batch200_Epoch100_Pat30_lstm-032_acc-0.75370_loss-0.48845.h5\n",
      "147/147 [==============================] - 16s 112ms/step - loss: 0.3035 - accuracy: 0.8954 - precision: 0.9150 - recall: 0.9667 - binary_crossentropy: 0.3035 - val_loss: 0.4885 - val_accuracy: 0.7537 - val_precision: 0.9273 - val_recall: 0.7969 - val_binary_crossentropy: 0.4885\n",
      "Epoch 33/100\n",
      "147/147 [==============================] - ETA: 0s - loss: 0.3023 - accuracy: 0.8959 - precision: 0.9155 - recall: 0.9668 - binary_crossentropy: 0.3023\n",
      "Epoch 33: saving model to model_Trend-Flat_loss_Batch200_Epoch100_Pat30_lstm-033_acc-0.77221_loss-0.46605.h5\n",
      "147/147 [==============================] - 16s 110ms/step - loss: 0.3023 - accuracy: 0.8959 - precision: 0.9155 - recall: 0.9668 - binary_crossentropy: 0.3023 - val_loss: 0.4660 - val_accuracy: 0.7722 - val_precision: 0.9280 - val_recall: 0.8178 - val_binary_crossentropy: 0.4660\n",
      "Epoch 34/100\n",
      "147/147 [==============================] - ETA: 0s - loss: 0.3020 - accuracy: 0.8954 - precision: 0.9138 - recall: 0.9683 - binary_crossentropy: 0.3020\n",
      "Epoch 34: saving model to model_Trend-Flat_loss_Batch200_Epoch100_Pat30_lstm-034_acc-0.68328_loss-0.58269.h5\n",
      "147/147 [==============================] - 16s 107ms/step - loss: 0.3020 - accuracy: 0.8954 - precision: 0.9138 - recall: 0.9683 - binary_crossentropy: 0.3020 - val_loss: 0.5827 - val_accuracy: 0.6833 - val_precision: 0.9278 - val_recall: 0.7141 - val_binary_crossentropy: 0.5827\n",
      "Epoch 35/100\n",
      "147/147 [==============================] - ETA: 0s - loss: 0.3020 - accuracy: 0.8954 - precision: 0.9147 - recall: 0.9670 - binary_crossentropy: 0.3020\n",
      "Epoch 35: saving model to model_Trend-Flat_loss_Batch200_Epoch100_Pat30_lstm-035_acc-0.59903_loss-0.70639.h5\n",
      "147/147 [==============================] - 16s 108ms/step - loss: 0.3020 - accuracy: 0.8954 - precision: 0.9147 - recall: 0.9670 - binary_crossentropy: 0.3020 - val_loss: 0.7064 - val_accuracy: 0.5990 - val_precision: 0.9245 - val_recall: 0.6182 - val_binary_crossentropy: 0.7064\n",
      "Epoch 36/100\n",
      "147/147 [==============================] - ETA: 0s - loss: 0.3025 - accuracy: 0.8958 - precision: 0.9143 - recall: 0.9681 - binary_crossentropy: 0.3025\n",
      "Epoch 36: saving model to model_Trend-Flat_loss_Batch200_Epoch100_Pat30_lstm-036_acc-0.71547_loss-0.54754.h5\n",
      "147/147 [==============================] - 17s 118ms/step - loss: 0.3025 - accuracy: 0.8958 - precision: 0.9143 - recall: 0.9681 - binary_crossentropy: 0.3025 - val_loss: 0.5475 - val_accuracy: 0.7155 - val_precision: 0.9267 - val_recall: 0.7528 - val_binary_crossentropy: 0.5475\n",
      "Epoch 37/100\n",
      "147/147 [==============================] - ETA: 0s - loss: 0.3010 - accuracy: 0.8953 - precision: 0.9164 - recall: 0.9649 - binary_crossentropy: 0.3010\n",
      "Epoch 37: saving model to model_Trend-Flat_loss_Batch200_Epoch100_Pat30_lstm-037_acc-0.58917_loss-0.62919.h5\n",
      "147/147 [==============================] - 16s 111ms/step - loss: 0.3010 - accuracy: 0.8953 - precision: 0.9164 - recall: 0.9649 - binary_crossentropy: 0.3010 - val_loss: 0.6292 - val_accuracy: 0.5892 - val_precision: 0.9232 - val_recall: 0.6076 - val_binary_crossentropy: 0.6292\n",
      "Epoch 37: early stopping\n"
     ]
    }
   ],
   "source": [
    "history = model.fit(X_train, y_train, batch_size=200, epochs=100, validation_split=0.3, \n",
    "                    shuffle=True, verbose=1, callbacks=[es, mc])"
   ]
  },
  {
   "cell_type": "code",
   "execution_count": 94,
   "metadata": {},
   "outputs": [
    {
     "data": {
      "image/png": "[encoded data removed]",
      "text/plain": [
       "<Figure size 1080x504 with 1 Axes>"
      ]
     },
     "metadata": {},
     "output_type": "display_data"
    }
   ],
   "source": [
    "# Accuracy graphs during training\n",
    "\n",
    "history_dict = history.history\n",
    "plt.style.use('seaborn-darkgrid') \n",
    "accuracy_values = history_dict['accuracy']\n",
    "\n",
    "val_accuracy_values = history_dict['val_accuracy']\n",
    "\n",
    "epochs = range(1, len(accuracy_values) + 1)\n",
    "plt.figure(num=1, figsize=(15,7))\n",
    "plt.plot(epochs, accuracy_values, 'bo', label='Training accuracy')\n",
    "plt.plot(epochs, val_accuracy_values, 'b', label='Validation accuracy')\n",
    "plt.xlabel('Epochs', size=18)\n",
    "plt.ylabel('Accuracy', size=18)\n",
    "plt.legend()\n",
    "plt.show()"
   ]
  },
  {
   "cell_type": "code",
   "execution_count": 97,
   "metadata": {},
   "outputs": [
    {
     "data": {
      "image/png": "[encoded data removed]",
      "text/plain": [
       "<Figure size 1080x504 with 1 Axes>"
      ]
     },
     "metadata": {},
     "output_type": "display_data"
    }
   ],
   "source": [
    "# Loss-function graphs during training (binary_crossentropy)\n",
    "\n",
    "history_dict = history.history\n",
    "plt.style.use('seaborn-darkgrid') \n",
    "accuracy_values = history_dict['loss']\n",
    "\n",
    "val_accuracy_values = history_dict['val_loss']\n",
    "\n",
    "epochs = range(1, len(accuracy_values) + 1)\n",
    "plt.figure(num=1, figsize=(15,7))\n",
    "plt.plot(epochs, accuracy_values, 'bo', label='Training Loss Function')\n",
    "plt.plot(epochs, val_accuracy_values, 'b', label='Validation Loss Function')\n",
    "plt.xlabel('Epochs', size=18)\n",
    "plt.ylabel('Loss Function', size=18)\n",
    "plt.legend()\n",
    "plt.show()\n"
   ]
  },
  {
   "cell_type": "code",
   "execution_count": null,
   "metadata": {},
   "outputs": [],
   "source": []
  },
  {
   "cell_type": "markdown",
   "metadata": {},
   "source": [
    "#### Evaluation and load the saved model"
   ]
  },
  {
   "cell_type": "code",
   "execution_count": 98,
   "metadata": {},
   "outputs": [],
   "source": [
    "model = keras.models.load_model('model_Trend-Flat_loss_Batch200_Epoch100_Pat30_lstm-007_acc-0.85328_loss-0.38619.h5')"
   ]
  },
  {
   "cell_type": "code",
   "execution_count": 99,
   "metadata": {},
   "outputs": [],
   "source": [
    "# Evaluation\n",
    "scores = model.evaluate(X_test, y_test, verbose=0)"
   ]
  },
  {
   "cell_type": "code",
   "execution_count": 100,
   "metadata": {
    "scrolled": true
   },
   "outputs": [
    {
     "data": {
      "text/plain": [
       "[0.4131702780723572,\n",
       " 0.8316642642021179,\n",
       " 0.9612219333648682,\n",
       " 0.8571572303771973,\n",
       " 0.4131702780723572]"
      ]
     },
     "execution_count": 100,
     "metadata": {},
     "output_type": "execute_result"
    }
   ],
   "source": [
    "scores"
   ]
  },
  {
   "cell_type": "code",
   "execution_count": null,
   "metadata": {},
   "outputs": [],
   "source": []
  },
  {
   "cell_type": "markdown",
   "metadata": {},
   "source": [
    "### Gated Recurrent Unit (GRU) "
   ]
  },
  {
   "cell_type": "code",
   "execution_count": 62,
   "metadata": {},
   "outputs": [
    {
     "name": "stdout",
     "output_type": "stream",
     "text": [
      "Model: \"sequential\"\n",
      "_________________________________________________________________\n",
      " Layer (type)                Output Shape              Param #   \n",
      "=================================================================\n",
      " gru (GRU)                   (None, 200, 32)           3744      \n",
      "                                                                 \n",
      " gru_1 (GRU)                 (None, 64)                18816     \n",
      "                                                                 \n",
      " dense (Dense)               (None, 1)                 65        \n",
      "                                                                 \n",
      "=================================================================\n",
      "Total params: 22,625\n",
      "Trainable params: 22,625\n",
      "Non-trainable params: 0\n",
      "_________________________________________________________________\n",
      "None\n"
     ]
    }
   ],
   "source": [
    "# Create GRU model\n",
    "\n",
    "model = keras.Sequential([\n",
    "\n",
    "    keras.layers.GRU(32, dropout=0.1, recurrent_dropout=0.5, return_sequences=True, input_shape=(200, 5)),\n",
    "    \n",
    "    keras.layers.GRU(64, activation=tf.nn.relu, dropout=0.1, recurrent_dropout=0.5),\n",
    "    \n",
    "    #keras.layers.Dense(1)\n",
    "    keras.layers.Dense(1, activation=tf.nn.sigmoid)\n",
    "    \n",
    "])\n",
    "\n",
    "print(model.summary())"
   ]
  },
  {
   "cell_type": "markdown",
   "metadata": {},
   "source": [
    "#### Callbacks"
   ]
  },
  {
   "cell_type": "code",
   "execution_count": 63,
   "metadata": {},
   "outputs": [],
   "source": [
    "es = EarlyStopping(monitor='val_binary_crossentropy', mode='min', patience=20, verbose=1)"
   ]
  },
  {
   "cell_type": "code",
   "execution_count": 64,
   "metadata": {},
   "outputs": [],
   "source": [
    "mc = ModelCheckpoint('model_Trend-Flat_loss_Batch200_Epoch100_Pat30_gru-2Round-{epoch:03d}_acc-{val_accuracy:.5f}_loss-{val_binary_crossentropy:.5f}.h5', \n",
    "                     monitor='val_accuracy', mode='max', verbose=1, save_best_only=False)"
   ]
  },
  {
   "cell_type": "markdown",
   "metadata": {},
   "source": [
    "### Compile the model"
   ]
  },
  {
   "cell_type": "code",
   "execution_count": 65,
   "metadata": {},
   "outputs": [],
   "source": [
    "model.compile(optimizer=keras.optimizers.RMSprop(), loss='binary_crossentropy', \n",
    "              metrics=['accuracy','Precision','Recall','binary_crossentropy'])  "
   ]
  },
  {
   "cell_type": "markdown",
   "metadata": {},
   "source": [
    "### Trainig NN"
   ]
  },
  {
   "cell_type": "code",
   "execution_count": 66,
   "metadata": {},
   "outputs": [
    {
     "name": "stdout",
     "output_type": "stream",
     "text": [
      "Epoch 1/100\n",
      "147/147 [==============================] - ETA: 0s - loss: 0.4105 - accuracy: 0.8470 - precision: 0.8529 - recall: 0.9909 - binary_crossentropy: 0.4105\n",
      "Epoch 1: saving model to model_Trend-Flat_loss_Batch200_Epoch100_Pat30_gru-2Round-001_acc-0.87816_loss-0.38806.h5\n",
      "147/147 [==============================] - 71s 451ms/step - loss: 0.4105 - accuracy: 0.8470 - precision: 0.8529 - recall: 0.9909 - binary_crossentropy: 0.4105 - val_loss: 0.3881 - val_accuracy: 0.8782 - val_precision: 0.9267 - val_recall: 0.9432 - val_binary_crossentropy: 0.3881\n",
      "Epoch 2/100\n",
      "147/147 [==============================] - ETA: 0s - loss: 0.3555 - accuracy: 0.8602 - precision: 0.8800 - recall: 0.9675 - binary_crossentropy: 0.3555\n",
      "Epoch 2: saving model to model_Trend-Flat_loss_Batch200_Epoch100_Pat30_gru-2Round-002_acc-0.57622_loss-0.59138.h5\n",
      "147/147 [==============================] - 69s 468ms/step - loss: 0.3555 - accuracy: 0.8602 - precision: 0.8800 - recall: 0.9675 - binary_crossentropy: 0.3555 - val_loss: 0.5914 - val_accuracy: 0.5762 - val_precision: 0.9224 - val_recall: 0.5930 - val_binary_crossentropy: 0.5914\n",
      "Epoch 3/100\n",
      "147/147 [==============================] - ETA: 0s - loss: 0.3389 - accuracy: 0.8696 - precision: 0.8969 - recall: 0.9566 - binary_crossentropy: 0.3389\n",
      "Epoch 3: saving model to model_Trend-Flat_loss_Batch200_Epoch100_Pat30_gru-2Round-003_acc-0.73605_loss-0.45239.h5\n",
      "147/147 [==============================] - 74s 504ms/step - loss: 0.3389 - accuracy: 0.8696 - precision: 0.8969 - recall: 0.9566 - binary_crossentropy: 0.3389 - val_loss: 0.4524 - val_accuracy: 0.7361 - val_precision: 0.9263 - val_recall: 0.7773 - val_binary_crossentropy: 0.4524\n",
      "Epoch 4/100\n",
      "147/147 [==============================] - ETA: 0s - loss: 0.3267 - accuracy: 0.8801 - precision: 0.9036 - recall: 0.9615 - binary_crossentropy: 0.3267\n",
      "Epoch 4: saving model to model_Trend-Flat_loss_Batch200_Epoch100_Pat30_gru-2Round-004_acc-0.79073_loss-0.41440.h5\n",
      "147/147 [==============================] - 71s 485ms/step - loss: 0.3267 - accuracy: 0.8801 - precision: 0.9036 - recall: 0.9615 - binary_crossentropy: 0.3267 - val_loss: 0.4144 - val_accuracy: 0.7907 - val_precision: 0.9282 - val_recall: 0.8393 - val_binary_crossentropy: 0.4144\n",
      "Epoch 5/100\n",
      "147/147 [==============================] - ETA: 0s - loss: 0.3188 - accuracy: 0.8836 - precision: 0.9056 - recall: 0.9635 - binary_crossentropy: 0.3188\n",
      "Epoch 5: saving model to model_Trend-Flat_loss_Batch200_Epoch100_Pat30_gru-2Round-005_acc-0.68654_loss-0.54217.h5\n",
      "147/147 [==============================] - 68s 462ms/step - loss: 0.3188 - accuracy: 0.8836 - precision: 0.9056 - recall: 0.9635 - binary_crossentropy: 0.3188 - val_loss: 0.5422 - val_accuracy: 0.6865 - val_precision: 0.9272 - val_recall: 0.7184 - val_binary_crossentropy: 0.5422\n",
      "Epoch 6/100\n",
      "147/147 [==============================] - ETA: 0s - loss: 0.3145 - accuracy: 0.8883 - precision: 0.9094 - recall: 0.9647 - binary_crossentropy: 0.3145\n",
      "Epoch 6: saving model to model_Trend-Flat_loss_Batch200_Epoch100_Pat30_gru-2Round-006_acc-0.70116_loss-0.54156.h5\n",
      "147/147 [==============================] - 69s 472ms/step - loss: 0.3145 - accuracy: 0.8883 - precision: 0.9094 - recall: 0.9647 - binary_crossentropy: 0.3145 - val_loss: 0.5416 - val_accuracy: 0.7012 - val_precision: 0.9275 - val_recall: 0.7353 - val_binary_crossentropy: 0.5416\n",
      "Epoch 7/100\n",
      "147/147 [==============================] - ETA: 0s - loss: 0.3121 - accuracy: 0.8890 - precision: 0.9101 - recall: 0.9648 - binary_crossentropy: 0.3121\n",
      "Epoch 7: saving model to model_Trend-Flat_loss_Batch200_Epoch100_Pat30_gru-2Round-007_acc-0.75489_loss-0.46274.h5\n",
      "147/147 [==============================] - 70s 478ms/step - loss: 0.3121 - accuracy: 0.8890 - precision: 0.9101 - recall: 0.9648 - binary_crossentropy: 0.3121 - val_loss: 0.4627 - val_accuracy: 0.7549 - val_precision: 0.9276 - val_recall: 0.7980 - val_binary_crossentropy: 0.4627\n",
      "Epoch 8/100\n",
      "147/147 [==============================] - ETA: 0s - loss: 0.3083 - accuracy: 0.8910 - precision: 0.9118 - recall: 0.9652 - binary_crossentropy: 0.3083\n",
      "Epoch 8: saving model to model_Trend-Flat_loss_Batch200_Epoch100_Pat30_gru-2Round-008_acc-0.65625_loss-0.60353.h5\n",
      "147/147 [==============================] - 77s 521ms/step - loss: 0.3083 - accuracy: 0.8910 - precision: 0.9118 - recall: 0.9652 - binary_crossentropy: 0.3083 - val_loss: 0.6035 - val_accuracy: 0.6563 - val_precision: 0.9257 - val_recall: 0.6843 - val_binary_crossentropy: 0.6035\n",
      "Epoch 9/100\n",
      "147/147 [==============================] - ETA: 0s - loss: 0.3074 - accuracy: 0.8908 - precision: 0.9120 - recall: 0.9647 - binary_crossentropy: 0.3074\n",
      "Epoch 9: saving model to model_Trend-Flat_loss_Batch200_Epoch100_Pat30_gru-2Round-009_acc-0.75966_loss-0.45662.h5\n",
      "147/147 [==============================] - 77s 522ms/step - loss: 0.3074 - accuracy: 0.8908 - precision: 0.9120 - recall: 0.9647 - binary_crossentropy: 0.3074 - val_loss: 0.4566 - val_accuracy: 0.7597 - val_precision: 0.9278 - val_recall: 0.8034 - val_binary_crossentropy: 0.4566\n",
      "Epoch 10/100\n",
      "147/147 [==============================] - ETA: 0s - loss: 0.3048 - accuracy: 0.8932 - precision: 0.9138 - recall: 0.9655 - binary_crossentropy: 0.3048\n",
      "Epoch 10: saving model to model_Trend-Flat_loss_Batch200_Epoch100_Pat30_gru-2Round-010_acc-0.77953_loss-0.43466.h5\n",
      "147/147 [==============================] - 77s 527ms/step - loss: 0.3048 - accuracy: 0.8932 - precision: 0.9138 - recall: 0.9655 - binary_crossentropy: 0.3048 - val_loss: 0.4347 - val_accuracy: 0.7795 - val_precision: 0.9272 - val_recall: 0.8272 - val_binary_crossentropy: 0.4347\n",
      "Epoch 11/100\n",
      "147/147 [==============================] - ETA: 0s - loss: 0.3051 - accuracy: 0.8930 - precision: 0.9148 - recall: 0.9639 - binary_crossentropy: 0.3051\n",
      "Epoch 11: saving model to model_Trend-Flat_loss_Batch200_Epoch100_Pat30_gru-2Round-011_acc-0.79757_loss-0.42008.h5\n",
      "147/147 [==============================] - 72s 491ms/step - loss: 0.3051 - accuracy: 0.8930 - precision: 0.9148 - recall: 0.9639 - binary_crossentropy: 0.3051 - val_loss: 0.4201 - val_accuracy: 0.7976 - val_precision: 0.9281 - val_recall: 0.8474 - val_binary_crossentropy: 0.4201\n",
      "Epoch 12/100\n",
      "147/147 [==============================] - ETA: 0s - loss: 0.3041 - accuracy: 0.8923 - precision: 0.9144 - recall: 0.9635 - binary_crossentropy: 0.3041\n",
      "Epoch 12: saving model to model_Trend-Flat_loss_Batch200_Epoch100_Pat30_gru-2Round-012_acc-0.75465_loss-0.47380.h5\n",
      "147/147 [==============================] - 72s 493ms/step - loss: 0.3041 - accuracy: 0.8923 - precision: 0.9144 - recall: 0.9635 - binary_crossentropy: 0.3041 - val_loss: 0.4738 - val_accuracy: 0.7546 - val_precision: 0.9280 - val_recall: 0.7973 - val_binary_crossentropy: 0.4738\n",
      "Epoch 13/100\n",
      "147/147 [==============================] - ETA: 0s - loss: 0.3024 - accuracy: 0.8946 - precision: 0.9150 - recall: 0.9657 - binary_crossentropy: 0.3024\n",
      "Epoch 13: saving model to model_Trend-Flat_loss_Batch200_Epoch100_Pat30_gru-2Round-013_acc-0.76554_loss-0.47367.h5\n",
      "147/147 [==============================] - 71s 485ms/step - loss: 0.3024 - accuracy: 0.8946 - precision: 0.9150 - recall: 0.9657 - binary_crossentropy: 0.3024 - val_loss: 0.4737 - val_accuracy: 0.7655 - val_precision: 0.9269 - val_recall: 0.8111 - val_binary_crossentropy: 0.4737\n",
      "Epoch 14/100\n",
      "147/147 [==============================] - ETA: 0s - loss: 0.3023 - accuracy: 0.8937 - precision: 0.9144 - recall: 0.9653 - binary_crossentropy: 0.3023\n",
      "Epoch 14: saving model to model_Trend-Flat_loss_Batch200_Epoch100_Pat30_gru-2Round-014_acc-0.63464_loss-0.59394.h5\n",
      "147/147 [==============================] - 77s 527ms/step - loss: 0.3023 - accuracy: 0.8937 - precision: 0.9144 - recall: 0.9653 - binary_crossentropy: 0.3023 - val_loss: 0.5939 - val_accuracy: 0.6346 - val_precision: 0.9252 - val_recall: 0.6594 - val_binary_crossentropy: 0.5939\n",
      "Epoch 15/100\n",
      "147/147 [==============================] - ETA: 0s - loss: 0.3026 - accuracy: 0.8934 - precision: 0.9148 - recall: 0.9644 - binary_crossentropy: 0.3026\n",
      "Epoch 15: saving model to model_Trend-Flat_loss_Batch200_Epoch100_Pat30_gru-2Round-015_acc-0.61795_loss-0.66166.h5\n",
      "147/147 [==============================] - 78s 531ms/step - loss: 0.3026 - accuracy: 0.8934 - precision: 0.9148 - recall: 0.9644 - binary_crossentropy: 0.3026 - val_loss: 0.6617 - val_accuracy: 0.6179 - val_precision: 0.9237 - val_recall: 0.6410 - val_binary_crossentropy: 0.6617\n"
     ]
    },
    {
     "name": "stdout",
     "output_type": "stream",
     "text": [
      "Epoch 16/100\n",
      "147/147 [==============================] - ETA: 0s - loss: 0.3016 - accuracy: 0.8943 - precision: 0.9151 - recall: 0.9652 - binary_crossentropy: 0.3016\n",
      "Epoch 16: saving model to model_Trend-Flat_loss_Batch200_Epoch100_Pat30_gru-2Round-016_acc-0.75719_loss-0.47226.h5\n",
      "147/147 [==============================] - 80s 545ms/step - loss: 0.3016 - accuracy: 0.8943 - precision: 0.9151 - recall: 0.9652 - binary_crossentropy: 0.3016 - val_loss: 0.4723 - val_accuracy: 0.7572 - val_precision: 0.9279 - val_recall: 0.8004 - val_binary_crossentropy: 0.4723\n",
      "Epoch 17/100\n",
      "147/147 [==============================] - ETA: 0s - loss: 0.3009 - accuracy: 0.8940 - precision: 0.9149 - recall: 0.9651 - binary_crossentropy: 0.3009\n",
      "Epoch 17: saving model to model_Trend-Flat_loss_Batch200_Epoch100_Pat30_gru-2Round-017_acc-0.66563_loss-0.61125.h5\n",
      "147/147 [==============================] - 75s 512ms/step - loss: 0.3009 - accuracy: 0.8940 - precision: 0.9149 - recall: 0.9651 - binary_crossentropy: 0.3009 - val_loss: 0.6112 - val_accuracy: 0.6656 - val_precision: 0.9261 - val_recall: 0.6949 - val_binary_crossentropy: 0.6112\n",
      "Epoch 18/100\n",
      "147/147 [==============================] - ETA: 0s - loss: 0.3011 - accuracy: 0.8928 - precision: 0.9136 - recall: 0.9652 - binary_crossentropy: 0.3011\n",
      "Epoch 18: saving model to model_Trend-Flat_loss_Batch200_Epoch100_Pat30_gru-2Round-018_acc-0.68360_loss-0.57206.h5\n",
      "147/147 [==============================] - 71s 484ms/step - loss: 0.3011 - accuracy: 0.8928 - precision: 0.9136 - recall: 0.9652 - binary_crossentropy: 0.3011 - val_loss: 0.5721 - val_accuracy: 0.6836 - val_precision: 0.9267 - val_recall: 0.7154 - val_binary_crossentropy: 0.5721\n",
      "Epoch 19/100\n",
      "147/147 [==============================] - ETA: 0s - loss: 0.3003 - accuracy: 0.8948 - precision: 0.9154 - recall: 0.9655 - binary_crossentropy: 0.3003\n",
      "Epoch 19: saving model to model_Trend-Flat_loss_Batch200_Epoch100_Pat30_gru-2Round-019_acc-0.75640_loss-0.47736.h5\n",
      "147/147 [==============================] - 71s 486ms/step - loss: 0.3003 - accuracy: 0.8948 - precision: 0.9154 - recall: 0.9655 - binary_crossentropy: 0.3003 - val_loss: 0.4774 - val_accuracy: 0.7564 - val_precision: 0.9275 - val_recall: 0.7999 - val_binary_crossentropy: 0.4774\n",
      "Epoch 20/100\n",
      "147/147 [==============================] - ETA: 0s - loss: 0.3002 - accuracy: 0.8944 - precision: 0.9148 - recall: 0.9657 - binary_crossentropy: 0.3002\n",
      "Epoch 20: saving model to model_Trend-Flat_loss_Batch200_Epoch100_Pat30_gru-2Round-020_acc-0.73836_loss-0.49886.h5\n",
      "147/147 [==============================] - 73s 500ms/step - loss: 0.3002 - accuracy: 0.8944 - precision: 0.9148 - recall: 0.9657 - binary_crossentropy: 0.3002 - val_loss: 0.4989 - val_accuracy: 0.7384 - val_precision: 0.9278 - val_recall: 0.7785 - val_binary_crossentropy: 0.4989\n",
      "Epoch 21/100\n",
      "147/147 [==============================] - ETA: 0s - loss: 0.2998 - accuracy: 0.8952 - precision: 0.9152 - recall: 0.9663 - binary_crossentropy: 0.2998\n",
      "Epoch 21: saving model to model_Trend-Flat_loss_Batch200_Epoch100_Pat30_gru-2Round-021_acc-0.73001_loss-0.51670.h5\n",
      "147/147 [==============================] - 73s 495ms/step - loss: 0.2998 - accuracy: 0.8952 - precision: 0.9152 - recall: 0.9663 - binary_crossentropy: 0.2998 - val_loss: 0.5167 - val_accuracy: 0.7300 - val_precision: 0.9277 - val_recall: 0.7688 - val_binary_crossentropy: 0.5167\n",
      "Epoch 21: early stopping\n"
     ]
    }
   ],
   "source": [
    "history = model.fit(X_train, y_train, batch_size=200, epochs=100, validation_split=0.3, \n",
    "                    shuffle=True, verbose=1, callbacks=[es, mc])"
   ]
  },
  {
   "cell_type": "code",
   "execution_count": 67,
   "metadata": {},
   "outputs": [
    {
     "data": {
      "image/png": "[encoded data removed]",
      "text/plain": [
       "<Figure size 1080x504 with 1 Axes>"
      ]
     },
     "metadata": {},
     "output_type": "display_data"
    }
   ],
   "source": [
    "# Accuracy graphs during training\n",
    "\n",
    "history_dict = history.history\n",
    "plt.style.use('seaborn-darkgrid') \n",
    "accuracy_values = history_dict['accuracy']\n",
    "\n",
    "val_accuracy_values = history_dict['val_accuracy']\n",
    "\n",
    "epochs = range(1, len(accuracy_values) + 1)\n",
    "plt.figure(num=1, figsize=(15,7))\n",
    "plt.plot(epochs, accuracy_values, 'bo', label='Training accuracy')\n",
    "plt.plot(epochs, val_accuracy_values, 'b', label='Validation accuracy')\n",
    "plt.xlabel('Epochs', size=18)\n",
    "plt.ylabel('Accuracy', size=18)\n",
    "plt.legend()\n",
    "plt.show()"
   ]
  },
  {
   "cell_type": "code",
   "execution_count": 70,
   "metadata": {},
   "outputs": [
    {
     "data": {
      "image/png": "[encoded data removed]",
      "text/plain": [
       "<Figure size 1080x504 with 1 Axes>"
      ]
     },
     "metadata": {},
     "output_type": "display_data"
    }
   ],
   "source": [
    "# Loss-function graphs during training (здесь: binary_crossentropy)\n",
    "\n",
    "history_dict = history.history\n",
    "plt.style.use('seaborn-darkgrid') \n",
    "accuracy_values = history_dict['loss']\n",
    "\n",
    "val_accuracy_values = history_dict['val_loss']\n",
    "\n",
    "epochs = range(1, len(accuracy_values) + 1)\n",
    "plt.figure(num=1, figsize=(15,7))\n",
    "plt.plot(epochs, accuracy_values, 'bo', label='Training Loss Function')\n",
    "plt.plot(epochs, val_accuracy_values, 'b', label='Validation Loss Function')\n",
    "plt.xlabel('Epochs', size=18)\n",
    "plt.ylabel('Loss Function', size=18)\n",
    "plt.legend()\n",
    "plt.show()\n"
   ]
  },
  {
   "cell_type": "code",
   "execution_count": null,
   "metadata": {},
   "outputs": [],
   "source": []
  },
  {
   "cell_type": "markdown",
   "metadata": {},
   "source": [
    "### Evaluation and load the saved model"
   ]
  },
  {
   "cell_type": "code",
   "execution_count": 80,
   "metadata": {},
   "outputs": [],
   "source": [
    "model = keras.models.load_model('model_Trend-Flat_loss_Batch200_Epoch100_Pat30_gru-2Round-004_acc-0.79073_loss-0.41440.h5')"
   ]
  },
  {
   "cell_type": "code",
   "execution_count": 81,
   "metadata": {},
   "outputs": [],
   "source": [
    "# Evaluation\n",
    "scores = model.evaluate(X_test, y_test, verbose=0)"
   ]
  },
  {
   "cell_type": "code",
   "execution_count": 82,
   "metadata": {},
   "outputs": [
    {
     "data": {
      "text/plain": [
       "[0.4825732111930847,\n",
       " 0.6927038431167603,\n",
       " 0.9629680514335632,\n",
       " 0.7031564116477966,\n",
       " 0.4825732111930847]"
      ]
     },
     "execution_count": 82,
     "metadata": {},
     "output_type": "execute_result"
    }
   ],
   "source": [
    "scores"
   ]
  },
  {
   "cell_type": "code",
   "execution_count": null,
   "metadata": {},
   "outputs": [],
   "source": []
  },
  {
   "cell_type": "code",
   "execution_count": 83,
   "metadata": {},
   "outputs": [],
   "source": [
    "model = keras.models.load_model('model_Trend-Flat_loss_Batch200_Epoch100_Pat30_gru-2Round-011_acc-0.79757_loss-0.42008.h5')"
   ]
  },
  {
   "cell_type": "code",
   "execution_count": 84,
   "metadata": {},
   "outputs": [],
   "source": [
    "# Evaluation\n",
    "scores = model.evaluate(X_test, y_test, verbose=0)"
   ]
  },
  {
   "cell_type": "code",
   "execution_count": 85,
   "metadata": {},
   "outputs": [
    {
     "data": {
      "text/plain": [
       "[0.47247251868247986,\n",
       " 0.7222698926925659,\n",
       " 0.9630165696144104,\n",
       " 0.7355247139930725,\n",
       " 0.47247251868247986]"
      ]
     },
     "execution_count": 85,
     "metadata": {},
     "output_type": "execute_result"
    }
   ],
   "source": [
    "scores"
   ]
  },
  {
   "cell_type": "code",
   "execution_count": null,
   "metadata": {},
   "outputs": [],
   "source": []
  }
 ],
 "metadata": {
  "accelerator": "GPU",
  "colab": {
   "collapsed_sections": [],
   "name": "Convol_Forex_EURUSD-4mn-2018-1.ipynb",
   "provenance": [
    {
     "file_id": "16hApOSwFjWVKrOfeClRzXm2NZgrLUOSQ",
     "timestamp": 1546558732747
    },
    {
     "file_id": "1OR8Sy0e-MTzvq3hlcLgSH8CO6upOaSdW",
     "timestamp": 1544748069779
    },
    {
     "file_id": "1T_GmWEz6kg9Tklh2nSCFA-hwRT6R-_9A",
     "timestamp": 1544731067882
    }
   ],
   "version": "0.3.2"
  },
  "kernelspec": {
   "display_name": "Python 3",
   "language": "python",
   "name": "python3"
  },
  "language_info": {
   "codemirror_mode": {
    "name": "ipython",
    "version": 3
   },
   "file_extension": ".py",
   "mimetype": "text/x-python",
   "name": "python",
   "nbconvert_exporter": "python",
   "pygments_lexer": "ipython3",
   "version": "3.8.5"
  }
 },
 "nbformat": 4,
 "nbformat_minor": 1
}
